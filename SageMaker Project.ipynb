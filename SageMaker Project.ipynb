{
 "cells": [
  {
   "cell_type": "markdown",
   "metadata": {},
   "source": [
    "# Creating a Sentiment Analysis Web App\n",
    "## Using PyTorch and SageMaker\n",
    "\n",
    "_Deep Learning Nanodegree Program | Deployment_\n",
    "\n",
    "---\n",
    "\n",
    "Now that we have a basic understanding of how SageMaker works we will try to use it to construct a complete project from end to end. Our goal will be to have a simple web page which a user can use to enter a movie review. The web page will then send the review off to our deployed model which will predict the sentiment of the entered review.\n",
    "\n",
    "## Instructions\n",
    "\n",
    "Some template code has already been provided for you, and you will need to implement additional functionality to successfully complete this notebook. You will not need to modify the included code beyond what is requested. Sections that begin with '**TODO**' in the header indicate that you need to complete or implement some portion within them. Instructions will be provided for each section and the specifics of the implementation are marked in the code block with a `# TODO: ...` comment. Please be sure to read the instructions carefully!\n",
    "\n",
    "In addition to implementing code, there will be questions for you to answer which relate to the task and your implementation. Each section where you will answer a question is preceded by a '**Question:**' header. Carefully read each question and provide your answer below the '**Answer:**' header by editing the Markdown cell.\n",
    "\n",
    "> **Note**: Code and Markdown cells can be executed using the **Shift+Enter** keyboard shortcut. In addition, a cell can be edited by typically clicking it (double-click for Markdown cells) or by pressing **Enter** while it is highlighted.\n",
    "\n",
    "## General Outline\n",
    "\n",
    "Recall the general outline for SageMaker projects using a notebook instance.\n",
    "\n",
    "1. Download or otherwise retrieve the data.\n",
    "2. Process / Prepare the data.\n",
    "3. Upload the processed data to S3.\n",
    "4. Train a chosen model.\n",
    "5. Test the trained model (typically using a batch transform job).\n",
    "6. Deploy the trained model.\n",
    "7. Use the deployed model.\n",
    "\n",
    "For this project, you will be following the steps in the general outline with some modifications. \n",
    "\n",
    "First, you will not be testing the model in its own step. You will still be testing the model, however, you will do it by deploying your model and then using the deployed model by sending the test data to it. One of the reasons for doing this is so that you can make sure that your deployed model is working correctly before moving forward.\n",
    "\n",
    "In addition, you will deploy and use your trained model a second time. In the second iteration you will customize the way that your trained model is deployed by including some of your own code. In addition, your newly deployed model will be used in the sentiment analysis web app."
   ]
  },
  {
   "cell_type": "markdown",
   "metadata": {},
   "source": [
    "## Step 1: Downloading the data\n",
    "\n",
    "As in the XGBoost in SageMaker notebook, we will be using the [IMDb dataset](http://ai.stanford.edu/~amaas/data/sentiment/)\n",
    "\n",
    "> Maas, Andrew L., et al. [Learning Word Vectors for Sentiment Analysis](http://ai.stanford.edu/~amaas/data/sentiment/). In _Proceedings of the 49th Annual Meeting of the Association for Computational Linguistics: Human Language Technologies_. Association for Computational Linguistics, 2011."
   ]
  },
  {
   "cell_type": "code",
   "execution_count": 1,
   "metadata": {},
   "outputs": [
    {
     "name": "stdout",
     "output_type": "stream",
     "text": [
      "mkdir: cannot create directory ‘../data’: File exists\n",
      "--2020-11-17 21:59:02--  http://ai.stanford.edu/~amaas/data/sentiment/aclImdb_v1.tar.gz\n",
      "Resolving ai.stanford.edu (ai.stanford.edu)... 171.64.68.10\n",
      "Connecting to ai.stanford.edu (ai.stanford.edu)|171.64.68.10|:80... connected.\n",
      "HTTP request sent, awaiting response... 200 OK\n",
      "Length: 84125825 (80M) [application/x-gzip]\n",
      "Saving to: ‘../data/aclImdb_v1.tar.gz’\n",
      "\n",
      "../data/aclImdb_v1. 100%[===================>]  80.23M  24.7MB/s    in 3.8s    \n",
      "\n",
      "2020-11-17 21:59:06 (21.0 MB/s) - ‘../data/aclImdb_v1.tar.gz’ saved [84125825/84125825]\n",
      "\n"
     ]
    }
   ],
   "source": [
    "%mkdir ../data\n",
    "!wget -O ../data/aclImdb_v1.tar.gz http://ai.stanford.edu/~amaas/data/sentiment/aclImdb_v1.tar.gz\n",
    "!tar -zxf ../data/aclImdb_v1.tar.gz -C ../data"
   ]
  },
  {
   "cell_type": "markdown",
   "metadata": {},
   "source": [
    "## Step 2: Preparing and Processing the data\n",
    "\n",
    "Also, as in the XGBoost notebook, we will be doing some initial data processing. The first few steps are the same as in the XGBoost example. To begin with, we will read in each of the reviews and combine them into a single input structure. Then, we will split the dataset into a training set and a testing set."
   ]
  },
  {
   "cell_type": "code",
   "execution_count": 2,
   "metadata": {},
   "outputs": [],
   "source": [
    "\n",
    "\n",
    "\n",
    "\n",
    "import os\n",
    "import glob\n",
    "\n",
    "def read_imdb_data(data_dir='../data/aclImdb'):\n",
    "    data = {}\n",
    "    labels = {}\n",
    "    \n",
    "    for data_type in ['train', 'test']:\n",
    "        data[data_type] = {}\n",
    "        labels[data_type] = {}\n",
    "        \n",
    "        for sentiment in ['pos', 'neg']:\n",
    "            data[data_type][sentiment] = []\n",
    "            labels[data_type][sentiment] = []\n",
    "            \n",
    "            path = os.path.join(data_dir, data_type, sentiment, '*.txt')\n",
    "            files = glob.glob(path)\n",
    "            \n",
    "            for f in files:\n",
    "                with open(f) as review:\n",
    "                    data[data_type][sentiment].append(review.read())\n",
    "                    # Here we represent a positive review by '1' and a negative review by '0'\n",
    "                    labels[data_type][sentiment].append(1 if sentiment == 'pos' else 0)\n",
    "                    \n",
    "            assert len(data[data_type][sentiment]) == len(labels[data_type][sentiment]), \\\n",
    "                    \"{}/{} data size does not match labels size\".format(data_type, sentiment)\n",
    "                \n",
    "    return data, labels"
   ]
  },
  {
   "cell_type": "code",
   "execution_count": 3,
   "metadata": {},
   "outputs": [
    {
     "name": "stdout",
     "output_type": "stream",
     "text": [
      "IMDB reviews: train = 12500 pos / 12500 neg, test = 12500 pos / 12500 neg\n"
     ]
    }
   ],
   "source": [
    "data, labels = read_imdb_data()\n",
    "print(\"IMDB reviews: train = {} pos / {} neg, test = {} pos / {} neg\".format(\n",
    "            len(data['train']['pos']), len(data['train']['neg']),\n",
    "            len(data['test']['pos']), len(data['test']['neg'])))"
   ]
  },
  {
   "cell_type": "markdown",
   "metadata": {},
   "source": [
    "Now that we've read the raw training and testing data from the downloaded dataset, we will combine the positive and negative reviews and shuffle the resulting records."
   ]
  },
  {
   "cell_type": "code",
   "execution_count": 4,
   "metadata": {},
   "outputs": [],
   "source": [
    "from sklearn.utils import shuffle\n",
    "\n",
    "def prepare_imdb_data(data, labels):\n",
    "    \"\"\"Prepare training and test sets from IMDb movie reviews.\"\"\"\n",
    "    \n",
    "    #Combine positive and negative reviews and labels\n",
    "    data_train = data['train']['pos'] + data['train']['neg']\n",
    "    data_test = data['test']['pos'] + data['test']['neg']\n",
    "    labels_train = labels['train']['pos'] + labels['train']['neg']\n",
    "    labels_test = labels['test']['pos'] + labels['test']['neg']\n",
    "    \n",
    "    #Shuffle reviews and corresponding labels within training and test sets\n",
    "    data_train, labels_train = shuffle(data_train, labels_train)\n",
    "    data_test, labels_test = shuffle(data_test, labels_test)\n",
    "    \n",
    "    # Return a unified training data, test data, training labels, test labets\n",
    "    return data_train, data_test, labels_train, labels_test"
   ]
  },
  {
   "cell_type": "code",
   "execution_count": 5,
   "metadata": {},
   "outputs": [
    {
     "name": "stdout",
     "output_type": "stream",
     "text": [
      "IMDb reviews (combined): train = 25000, test = 25000\n"
     ]
    }
   ],
   "source": [
    "train_X, test_X, train_y, test_y = prepare_imdb_data(data, labels)\n",
    "print(\"IMDb reviews (combined): train = {}, test = {}\".format(len(train_X), len(test_X)))"
   ]
  },
  {
   "cell_type": "markdown",
   "metadata": {},
   "source": [
    "Now that we have our training and testing sets unified and prepared, we should do a quick check and see an example of the data our model will be trained on. This is generally a good idea as it allows you to see how each of the further processing steps affects the reviews and it also ensures that the data has been loaded correctly."
   ]
  },
  {
   "cell_type": "code",
   "execution_count": 6,
   "metadata": {},
   "outputs": [
    {
     "name": "stdout",
     "output_type": "stream",
     "text": [
      "This is a CGI animated film based upon a French 2D animated series. The series ran briefly on Cartoon Network, but its run was so brief that its inclusion as one of the potential Oscar nominees for best animated film for this year left most people I know going \"Huh?\" This is the story of Lian-Chu, the kind heart muscle, and Gwizdo, the brains of the operation, who along with Hector their fire farting dragon,he's more like a dog. Travel the world offering up their services as dragon hunters but never getting paid. Into their lives comes Zoe, the fairy tale loving niece of a king who is going blind. It seems the world is being devoured by a huge monster and all of the knights the king has sent out have never returned or if the do return they come back as ashes. In desperation the king hires the dragon hunters to stop the world eater. Zoe of course tags along...<br /><br />What can I say other then why is this film hiding under a rock? This is a really good little film that is completely off the radar except as unlikely Oscar contender. Its a beautifully designed, fantastic looking film (The world it takes place has floating lands and crazy creatures) that constantly had me going \"Wow\" at it. The English Voice cast with Forrest Whitaker as Lian-Chu (one of the best vocal performances I've ever heard) and Rob Paulson as Gwizdo (think Steve Bucsemi) is first rate. Equally great is the script which doesn't talk down to its audience, using some real expressions not normally heard in animated films (not Disney nor Pixar). Its all really well done.<br /><br />Is it perfect? No, some of the bits go on too long, but at the same time its is damn entertaining.<br /><br />If you get the chance see this. Its one of the better animated films from 2008, and is going on my nice surprise list for 2009.\n",
      "1\n"
     ]
    }
   ],
   "source": [
    "\n",
    "\n",
    "print(train_X[100])\n",
    "print(train_y[100])"
   ]
  },
  {
   "cell_type": "markdown",
   "metadata": {},
   "source": [
    "The first step in processing the reviews is to make sure that any html tags that appear should be removed. In addition we wish to tokenize our input, that way words such as *entertained* and *entertaining* are considered the same with regard to sentiment analysis."
   ]
  },
  {
   "cell_type": "code",
   "execution_count": 7,
   "metadata": {},
   "outputs": [],
   "source": [
    "import nltk\n",
    "from nltk.corpus import stopwords\n",
    "from nltk.stem.porter import *\n",
    "\n",
    "import re\n",
    "from bs4 import BeautifulSoup\n",
    "\n",
    "def review_to_words(review):\n",
    "    nltk.download(\"stopwords\", quiet=True)\n",
    "    stemmer = PorterStemmer()\n",
    "    \n",
    "    text = BeautifulSoup(review, \"html.parser\").get_text() # Remove HTML tags\n",
    "    text = re.sub(r\"[^a-zA-Z0-9]\", \" \", text.lower()) # Convert to lower case\n",
    "    words = text.split() # Split string into words\n",
    "    words = [w for w in words if w not in stopwords.words(\"english\")] # Remove stopwords\n",
    "    words = [PorterStemmer().stem(w) for w in words] # stem\n",
    "    \n",
    "    return words"
   ]
  },
  {
   "cell_type": "markdown",
   "metadata": {},
   "source": [
    "The `review_to_words` method defined above uses `BeautifulSoup` to remove any html tags that appear and uses the `nltk` package to tokenize the reviews. As a check to ensure we know how everything is working, try applying `review_to_words` to one of the reviews in the training set."
   ]
  },
  {
   "cell_type": "code",
   "execution_count": 8,
   "metadata": {
    "scrolled": true
   },
   "outputs": [
    {
     "data": {
      "text/plain": [
       "['cgi',\n",
       " 'anim',\n",
       " 'film',\n",
       " 'base',\n",
       " 'upon',\n",
       " 'french',\n",
       " '2d',\n",
       " 'anim',\n",
       " 'seri',\n",
       " 'seri',\n",
       " 'ran',\n",
       " 'briefli',\n",
       " 'cartoon',\n",
       " 'network',\n",
       " 'run',\n",
       " 'brief',\n",
       " 'inclus',\n",
       " 'one',\n",
       " 'potenti',\n",
       " 'oscar',\n",
       " 'nomine',\n",
       " 'best',\n",
       " 'anim',\n",
       " 'film',\n",
       " 'year',\n",
       " 'left',\n",
       " 'peopl',\n",
       " 'know',\n",
       " 'go',\n",
       " 'huh',\n",
       " 'stori',\n",
       " 'lian',\n",
       " 'chu',\n",
       " 'kind',\n",
       " 'heart',\n",
       " 'muscl',\n",
       " 'gwizdo',\n",
       " 'brain',\n",
       " 'oper',\n",
       " 'along',\n",
       " 'hector',\n",
       " 'fire',\n",
       " 'fart',\n",
       " 'dragon',\n",
       " 'like',\n",
       " 'dog',\n",
       " 'travel',\n",
       " 'world',\n",
       " 'offer',\n",
       " 'servic',\n",
       " 'dragon',\n",
       " 'hunter',\n",
       " 'never',\n",
       " 'get',\n",
       " 'paid',\n",
       " 'live',\n",
       " 'come',\n",
       " 'zoe',\n",
       " 'fairi',\n",
       " 'tale',\n",
       " 'love',\n",
       " 'niec',\n",
       " 'king',\n",
       " 'go',\n",
       " 'blind',\n",
       " 'seem',\n",
       " 'world',\n",
       " 'devour',\n",
       " 'huge',\n",
       " 'monster',\n",
       " 'knight',\n",
       " 'king',\n",
       " 'sent',\n",
       " 'never',\n",
       " 'return',\n",
       " 'return',\n",
       " 'come',\n",
       " 'back',\n",
       " 'ash',\n",
       " 'desper',\n",
       " 'king',\n",
       " 'hire',\n",
       " 'dragon',\n",
       " 'hunter',\n",
       " 'stop',\n",
       " 'world',\n",
       " 'eater',\n",
       " 'zoe',\n",
       " 'cours',\n",
       " 'tag',\n",
       " 'along',\n",
       " 'say',\n",
       " 'film',\n",
       " 'hide',\n",
       " 'rock',\n",
       " 'realli',\n",
       " 'good',\n",
       " 'littl',\n",
       " 'film',\n",
       " 'complet',\n",
       " 'radar',\n",
       " 'except',\n",
       " 'unlik',\n",
       " 'oscar',\n",
       " 'contend',\n",
       " 'beauti',\n",
       " 'design',\n",
       " 'fantast',\n",
       " 'look',\n",
       " 'film',\n",
       " 'world',\n",
       " 'take',\n",
       " 'place',\n",
       " 'float',\n",
       " 'land',\n",
       " 'crazi',\n",
       " 'creatur',\n",
       " 'constantli',\n",
       " 'go',\n",
       " 'wow',\n",
       " 'english',\n",
       " 'voic',\n",
       " 'cast',\n",
       " 'forrest',\n",
       " 'whitak',\n",
       " 'lian',\n",
       " 'chu',\n",
       " 'one',\n",
       " 'best',\n",
       " 'vocal',\n",
       " 'perform',\n",
       " 'ever',\n",
       " 'heard',\n",
       " 'rob',\n",
       " 'paulson',\n",
       " 'gwizdo',\n",
       " 'think',\n",
       " 'steve',\n",
       " 'bucsemi',\n",
       " 'first',\n",
       " 'rate',\n",
       " 'equal',\n",
       " 'great',\n",
       " 'script',\n",
       " 'talk',\n",
       " 'audienc',\n",
       " 'use',\n",
       " 'real',\n",
       " 'express',\n",
       " 'normal',\n",
       " 'heard',\n",
       " 'anim',\n",
       " 'film',\n",
       " 'disney',\n",
       " 'pixar',\n",
       " 'realli',\n",
       " 'well',\n",
       " 'done',\n",
       " 'perfect',\n",
       " 'bit',\n",
       " 'go',\n",
       " 'long',\n",
       " 'time',\n",
       " 'damn',\n",
       " 'entertain',\n",
       " 'get',\n",
       " 'chanc',\n",
       " 'see',\n",
       " 'one',\n",
       " 'better',\n",
       " 'anim',\n",
       " 'film',\n",
       " '2008',\n",
       " 'go',\n",
       " 'nice',\n",
       " 'surpris',\n",
       " 'list',\n",
       " '2009']"
      ]
     },
     "execution_count": 8,
     "metadata": {},
     "output_type": "execute_result"
    }
   ],
   "source": [
    "# TODO: Apply review_to_words to a review (train_X[100] or any other review)\n",
    "review_to_words(train_X[100])"
   ]
  },
  {
   "cell_type": "markdown",
   "metadata": {},
   "source": [
    "**Question:** Above we mentioned that `review_to_words` method removes html formatting and allows us to tokenize the words found in a review, for example, converting *entertained* and *entertaining* into *entertain* so that they are treated as though they are the same word. What else, if anything, does this method do to the input?"
   ]
  },
  {
   "cell_type": "markdown",
   "metadata": {},
   "source": [
    "**Answer:The fuction review_to_words also convert upper case to lower case,  create vocabulary of main words and ensure that a word only appear onces."
   ]
  },
  {
   "cell_type": "markdown",
   "metadata": {},
   "source": [
    "The method below applies the `review_to_words` method to each of the reviews in the training and testing datasets. In addition it caches the results. This is because performing this processing step can take a long time. This way if you are unable to complete the notebook in the current session, you can come back without needing to process the data a second time."
   ]
  },
  {
   "cell_type": "code",
   "execution_count": 9,
   "metadata": {},
   "outputs": [],
   "source": [
    "import pickle\n",
    "\n",
    "cache_dir = os.path.join(\"../cache\", \"sentiment_analysis\")  # where to store cache files\n",
    "os.makedirs(cache_dir, exist_ok=True)  # ensure cache directory exists\n",
    "\n",
    "def preprocess_data(data_train, data_test, labels_train, labels_test,\n",
    "                    cache_dir=cache_dir, cache_file=\"preprocessed_data.pkl\"):\n",
    "    \"\"\"Convert each review to words; read from cache if available.\"\"\"\n",
    "\n",
    "    # If cache_file is not None, try to read from it first\n",
    "    cache_data = None\n",
    "    if cache_file is not None:\n",
    "        try:\n",
    "            with open(os.path.join(cache_dir, cache_file), \"rb\") as f:\n",
    "                cache_data = pickle.load(f)\n",
    "            print(\"Read preprocessed data from cache file:\", cache_file)\n",
    "        except:\n",
    "            pass  # unable to read from cache, but that's okay\n",
    "    \n",
    "    # If cache is missing, then do the heavy lifting\n",
    "    if cache_data is None:\n",
    "        # Preprocess training and test data to obtain words for each review\n",
    "        #words_train = list(map(review_to_words, data_train))\n",
    "        #words_test = list(map(review_to_words, data_test))\n",
    "        words_train = [review_to_words(review) for review in data_train]\n",
    "        words_test = [review_to_words(review) for review in data_test]\n",
    "        \n",
    "        # Write to cache file for future runs\n",
    "        if cache_file is not None:\n",
    "            cache_data = dict(words_train=words_train, words_test=words_test,\n",
    "                              labels_train=labels_train, labels_test=labels_test)\n",
    "            with open(os.path.join(cache_dir, cache_file), \"wb\") as f:\n",
    "                pickle.dump(cache_data, f)\n",
    "            print(\"Wrote preprocessed data to cache file:\", cache_file)\n",
    "    else:\n",
    "        # Unpack data loaded from cache file\n",
    "        words_train, words_test, labels_train, labels_test = (cache_data['words_train'],\n",
    "                cache_data['words_test'], cache_data['labels_train'], cache_data['labels_test'])\n",
    "    \n",
    "    return words_train, words_test, labels_train, labels_test"
   ]
  },
  {
   "cell_type": "code",
   "execution_count": 10,
   "metadata": {},
   "outputs": [
    {
     "name": "stdout",
     "output_type": "stream",
     "text": [
      "Read preprocessed data from cache file: preprocessed_data.pkl\n"
     ]
    }
   ],
   "source": [
    "# Preprocess data\n",
    "train_X, test_X, train_y, test_y = preprocess_data(train_X, test_X, train_y, test_y)"
   ]
  },
  {
   "cell_type": "markdown",
   "metadata": {},
   "source": [
    "## Transform the data\n",
    "\n",
    "In the XGBoost notebook we transformed the data from its word representation to a bag-of-words feature representation. For the model we are going to construct in this notebook we will construct a feature representation which is very similar. To start, we will represent each word as an integer. Of course, some of the words that appear in the reviews occur very infrequently and so likely don't contain much information for the purposes of sentiment analysis. The way we will deal with this problem is that we will fix the size of our working vocabulary and we will only include the words that appear most frequently. We will then combine all of the infrequent words into a single category and, in our case, we will label it as `1`.\n",
    "\n",
    "Since we will be using a recurrent neural network, it will be convenient if the length of each review is the same. To do this, we will fix a size for our reviews and then pad short reviews with the category 'no word' (which we will label `0`) and truncate long reviews."
   ]
  },
  {
   "cell_type": "markdown",
   "metadata": {},
   "source": [
    "### (TODO) Create a word dictionary\n",
    "\n",
    "To begin with, we need to construct a way to map words that appear in the reviews to integers. Here we fix the size of our vocabulary (including the 'no word' and 'infrequent' categories) to be `5000` but you may wish to change this to see how it affects the model.\n",
    "\n",
    "> **TODO:** Complete the implementation for the `build_dict()` method below. Note that even though the vocab_size is set to `5000`, we only want to construct a mapping for the most frequently appearing `4998` words. This is because we want to reserve the special labels `0` for 'no word' and `1` for 'infrequent word'."
   ]
  },
  {
   "cell_type": "code",
   "execution_count": 11,
   "metadata": {},
   "outputs": [],
   "source": [
    "import numpy as np\n",
    "\n",
    "def build_dict(data, vocab_size = 5000):\n",
    "    \"\"\"Construct and return a dictionary mapping each of the most frequently appearing words to a unique integer.\"\"\"\n",
    "    \n",
    "    # TODO: Determine how often each word appears in `data`. Note that `data` is a list of sentences and that a\n",
    "    #       sentence is a list of words.\n",
    "    \n",
    "    word_count = {} # A dict storing the words that appear in the reviews along with how often they occur\n",
    "    for sentence in data:\n",
    "        for word in sentence:\n",
    "            if word not in word_count:\n",
    "                word_count[word] = 1\n",
    "            else:\n",
    "                word_count[word] += 1\n",
    "    # TODO: Sort the words found in `data` so that sorted_words[0] is the most frequently appearing word and\n",
    "    #       sorted_words[-1] is the least frequently appearing word.\n",
    "    \n",
    "    sorted_words = sorted(word_count, key=word_count.get, reverse=True)\n",
    "    \n",
    "    \n",
    "    word_dict = {} # This is what we are building, a dictionary that translates words into integers\n",
    "    for idx, word in enumerate(sorted_words[:vocab_size - 2]): # The -2 is so that we save room for the 'no word'\n",
    "        word_dict[word] = idx + 2                              # 'infrequent' labels\n",
    "        \n",
    "    return word_dict"
   ]
  },
  {
   "cell_type": "code",
   "execution_count": 12,
   "metadata": {},
   "outputs": [
    {
     "name": "stdout",
     "output_type": "stream",
     "text": [
      "{'movi': 2, 'film': 3, 'one': 4, 'like': 5, 'time': 6, 'good': 7, 'make': 8, 'charact': 9, 'get': 10, 'see': 11, 'watch': 12, 'stori': 13, 'even': 14, 'would': 15, 'realli': 16, 'well': 17, 'scene': 18, 'look': 19, 'show': 20, 'much': 21, 'end': 22, 'peopl': 23, 'bad': 24, 'go': 25, 'great': 26, 'also': 27, 'first': 28, 'love': 29, 'think': 30, 'way': 31, 'act': 32, 'play': 33, 'made': 34, 'thing': 35, 'could': 36, 'know': 37, 'say': 38, 'seem': 39, 'work': 40, 'plot': 41, 'two': 42, 'actor': 43, 'year': 44, 'come': 45, 'mani': 46, 'seen': 47, 'take': 48, 'life': 49, 'want': 50, 'never': 51, 'littl': 52, 'best': 53, 'tri': 54, 'man': 55, 'ever': 56, 'give': 57, 'better': 58, 'still': 59, 'perform': 60, 'find': 61, 'feel': 62, 'part': 63, 'back': 64, 'use': 65, 'someth': 66, 'director': 67, 'actual': 68, 'interest': 69, 'lot': 70, 'real': 71, 'old': 72, 'cast': 73, 'though': 74, 'live': 75, 'star': 76, 'enjoy': 77, 'guy': 78, 'anoth': 79, 'new': 80, 'role': 81, 'noth': 82, '10': 83, 'funni': 84, 'music': 85, 'point': 86, 'start': 87, 'set': 88, 'girl': 89, 'origin': 90, 'day': 91, 'world': 92, 'everi': 93, 'believ': 94, 'turn': 95, 'quit': 96, 'direct': 97, 'us': 98, 'thought': 99, 'fact': 100, 'minut': 101, 'horror': 102, 'kill': 103, 'action': 104, 'comedi': 105, 'pretti': 106, 'young': 107, 'wonder': 108, 'happen': 109, 'around': 110, 'got': 111, 'effect': 112, 'right': 113, 'long': 114, 'howev': 115, 'big': 116, 'line': 117, 'famili': 118, 'enough': 119, 'seri': 120, 'may': 121, 'need': 122, 'fan': 123, 'bit': 124, 'script': 125, 'beauti': 126, 'person': 127, 'becom': 128, 'without': 129, 'must': 130, 'alway': 131, 'friend': 132, 'tell': 133, 'reason': 134, 'saw': 135, 'last': 136, 'final': 137, 'kid': 138, 'almost': 139, 'put': 140, 'least': 141, 'sure': 142, 'done': 143, 'whole': 144, 'place': 145, 'complet': 146, 'kind': 147, 'differ': 148, 'expect': 149, 'shot': 150, 'far': 151, 'mean': 152, 'anyth': 153, 'book': 154, 'laugh': 155, 'might': 156, 'name': 157, 'sinc': 158, 'begin': 159, '2': 160, 'probabl': 161, 'woman': 162, 'help': 163, 'entertain': 164, 'let': 165, 'screen': 166, 'call': 167, 'tv': 168, 'moment': 169, 'away': 170, 'read': 171, 'yet': 172, 'rather': 173, 'worst': 174, 'run': 175, 'fun': 176, 'lead': 177, 'hard': 178, 'audienc': 179, 'idea': 180, 'anyon': 181, 'episod': 182, 'american': 183, 'found': 184, 'appear': 185, 'bore': 186, 'especi': 187, 'although': 188, 'hope': 189, 'keep': 190, 'cours': 191, 'anim': 192, 'job': 193, 'goe': 194, 'move': 195, 'sens': 196, 'version': 197, 'dvd': 198, 'war': 199, 'money': 200, 'someon': 201, 'mind': 202, 'mayb': 203, 'problem': 204, 'true': 205, 'hous': 206, 'everyth': 207, 'nice': 208, 'second': 209, 'rate': 210, 'three': 211, 'night': 212, 'face': 213, 'follow': 214, 'recommend': 215, 'main': 216, 'product': 217, 'worth': 218, 'leav': 219, 'human': 220, 'special': 221, 'excel': 222, 'togeth': 223, 'wast': 224, 'sound': 225, 'everyon': 226, 'john': 227, 'hand': 228, '1': 229, 'father': 230, 'later': 231, 'eye': 232, 'said': 233, 'view': 234, 'instead': 235, 'review': 236, 'boy': 237, 'high': 238, 'hour': 239, 'miss': 240, 'classic': 241, 'talk': 242, 'wife': 243, 'understand': 244, 'left': 245, 'care': 246, 'black': 247, 'death': 248, 'open': 249, 'murder': 250, 'write': 251, 'half': 252, 'head': 253, 'rememb': 254, 'chang': 255, 'viewer': 256, 'fight': 257, 'gener': 258, 'surpris': 259, 'short': 260, 'includ': 261, 'die': 262, 'fall': 263, 'less': 264, 'els': 265, 'entir': 266, 'piec': 267, 'involv': 268, 'pictur': 269, 'simpli': 270, 'power': 271, 'top': 272, 'home': 273, 'total': 274, 'usual': 275, 'budget': 276, 'attempt': 277, 'suppos': 278, 'releas': 279, 'hollywood': 280, 'terribl': 281, 'song': 282, 'men': 283, 'possibl': 284, 'featur': 285, 'portray': 286, 'disappoint': 287, 'poor': 288, '3': 289, 'coupl': 290, 'camera': 291, 'stupid': 292, 'dead': 293, 'wrong': 294, 'produc': 295, 'low': 296, 'either': 297, 'video': 298, 'aw': 299, 'definit': 300, 'except': 301, 'rest': 302, 'given': 303, 'absolut': 304, 'women': 305, 'lack': 306, 'word': 307, 'writer': 308, 'titl': 309, 'talent': 310, 'decid': 311, 'full': 312, 'perfect': 313, 'along': 314, 'style': 315, 'close': 316, 'truli': 317, 'school': 318, 'emot': 319, 'save': 320, 'sex': 321, 'age': 322, 'next': 323, 'bring': 324, 'mr': 325, 'case': 326, 'killer': 327, 'heart': 328, 'comment': 329, 'sort': 330, 'creat': 331, 'perhap': 332, 'came': 333, 'brother': 334, 'sever': 335, 'joke': 336, 'art': 337, 'dialogu': 338, 'game': 339, 'small': 340, 'base': 341, 'flick': 342, 'written': 343, 'sequenc': 344, 'meet': 345, 'earli': 346, 'often': 347, 'other': 348, 'mother': 349, 'develop': 350, 'humor': 351, 'actress': 352, 'consid': 353, 'dark': 354, 'guess': 355, 'amaz': 356, 'unfortun': 357, 'lost': 358, 'light': 359, 'exampl': 360, 'cinema': 361, 'drama': 362, 'ye': 363, 'white': 364, 'experi': 365, 'imagin': 366, 'mention': 367, 'stop': 368, 'natur': 369, 'forc': 370, 'manag': 371, 'felt': 372, 'cut': 373, 'present': 374, 'children': 375, 'fail': 376, 'son': 377, 'qualiti': 378, 'support': 379, 'car': 380, 'ask': 381, 'hit': 382, 'side': 383, 'voic': 384, 'extrem': 385, 'impress': 386, 'wors': 387, 'evil': 388, 'went': 389, 'stand': 390, 'certainli': 391, 'basic': 392, 'oh': 393, 'overal': 394, 'favorit': 395, 'horribl': 396, 'mysteri': 397, 'number': 398, 'type': 399, 'danc': 400, 'wait': 401, 'hero': 402, '5': 403, 'alreadi': 404, 'learn': 405, 'matter': 406, '4': 407, 'michael': 408, 'genr': 409, 'fine': 410, 'despit': 411, 'throughout': 412, 'walk': 413, 'success': 414, 'histori': 415, 'question': 416, 'zombi': 417, 'town': 418, 'realiz': 419, 'relationship': 420, 'child': 421, 'past': 422, 'daughter': 423, 'late': 424, 'b': 425, 'wish': 426, 'credit': 427, 'hate': 428, 'event': 429, 'theme': 430, 'touch': 431, 'citi': 432, 'today': 433, 'sometim': 434, 'behind': 435, 'god': 436, 'twist': 437, 'sit': 438, 'stay': 439, 'annoy': 440, 'deal': 441, 'abl': 442, 'rent': 443, 'pleas': 444, 'edit': 445, 'blood': 446, 'deserv': 447, 'anyway': 448, 'comic': 449, 'appar': 450, 'soon': 451, 'gave': 452, 'etc': 453, 'level': 454, 'slow': 455, 'chanc': 456, 'score': 457, 'bodi': 458, 'brilliant': 459, 'incred': 460, 'figur': 461, 'situat': 462, 'self': 463, 'major': 464, 'stuff': 465, 'decent': 466, 'element': 467, 'dream': 468, 'return': 469, 'obvious': 470, 'continu': 471, 'order': 472, 'pace': 473, 'ridicul': 474, 'happi': 475, 'group': 476, 'add': 477, 'highli': 478, 'thank': 479, 'ladi': 480, 'novel': 481, 'speak': 482, 'pain': 483, 'career': 484, 'shoot': 485, 'strang': 486, 'heard': 487, 'sad': 488, 'polic': 489, 'husband': 490, 'import': 491, 'break': 492, 'took': 493, 'cannot': 494, 'strong': 495, 'predict': 496, 'robert': 497, 'violenc': 498, 'hilari': 499, 'recent': 500, 'countri': 501, 'known': 502, 'particularli': 503, 'pick': 504, 'documentari': 505, 'season': 506, 'critic': 507, 'jame': 508, 'compar': 509, 'alon': 510, 'obviou': 511, 'told': 512, 'state': 513, 'rock': 514, 'visual': 515, 'exist': 516, 'offer': 517, 'theater': 518, 'opinion': 519, 'gore': 520, 'crap': 521, 'hold': 522, 'result': 523, 'room': 524, 'realiti': 525, 'hear': 526, 'effort': 527, 'clich': 528, 'thriller': 529, 'caus': 530, 'sequel': 531, 'explain': 532, 'serious': 533, 'king': 534, 'local': 535, 'ago': 536, 'none': 537, 'hell': 538, 'note': 539, 'allow': 540, 'david': 541, 'sister': 542, 'simpl': 543, 'femal': 544, 'deliv': 545, 'ok': 546, 'convinc': 547, 'class': 548, 'check': 549, 'suspens': 550, 'win': 551, 'oscar': 552, 'buy': 553, 'huge': 554, 'valu': 555, 'sexual': 556, 'cool': 557, 'scari': 558, 'excit': 559, 'similar': 560, 'provid': 561, 'apart': 562, 'exactli': 563, 'avoid': 564, 'shown': 565, 'seriou': 566, 'english': 567, 'whose': 568, 'taken': 569, 'cinematographi': 570, 'shock': 571, 'polit': 572, 'spoiler': 573, 'offic': 574, 'across': 575, 'middl': 576, 'street': 577, 'pass': 578, 'messag': 579, 'somewhat': 580, 'silli': 581, 'charm': 582, 'modern': 583, 'filmmak': 584, 'confus': 585, 'form': 586, 'tale': 587, 'singl': 588, 'jack': 589, 'mostli': 590, 'william': 591, 'carri': 592, 'attent': 593, 'sing': 594, 'five': 595, 'subject': 596, 'richard': 597, 'prove': 598, 'stage': 599, 'team': 600, 'cop': 601, 'unlik': 602, 'georg': 603, 'monster': 604, 'televis': 605, 'earth': 606, 'cover': 607, 'villain': 608, 'pay': 609, 'marri': 610, 'toward': 611, 'build': 612, 'parent': 613, 'pull': 614, 'due': 615, 'respect': 616, 'fill': 617, 'dialog': 618, 'four': 619, 'remind': 620, 'futur': 621, 'weak': 622, 'typic': 623, '7': 624, 'cheap': 625, 'intellig': 626, 'atmospher': 627, 'british': 628, 'clearli': 629, '80': 630, 'paul': 631, 'non': 632, 'dog': 633, '8': 634, 'knew': 635, 'fast': 636, 'artist': 637, 'crime': 638, 'easili': 639, 'escap': 640, 'doubt': 641, 'adult': 642, 'detail': 643, 'date': 644, 'member': 645, 'romant': 646, 'fire': 647, 'drive': 648, 'gun': 649, 'straight': 650, 'beyond': 651, 'fit': 652, 'attack': 653, 'imag': 654, 'upon': 655, 'posit': 656, 'whether': 657, 'peter': 658, 'fantast': 659, 'aspect': 660, 'captur': 661, 'appreci': 662, 'ten': 663, 'plan': 664, 'discov': 665, 'remain': 666, 'near': 667, 'period': 668, 'realist': 669, 'air': 670, 'mark': 671, 'red': 672, 'dull': 673, 'adapt': 674, 'within': 675, 'lose': 676, 'spend': 677, 'materi': 678, 'color': 679, 'chase': 680, 'mari': 681, 'storylin': 682, 'forget': 683, 'bunch': 684, 'clear': 685, 'lee': 686, 'victim': 687, 'nearli': 688, 'box': 689, 'york': 690, 'inspir': 691, 'match': 692, 'mess': 693, 'finish': 694, 'standard': 695, 'easi': 696, 'truth': 697, 'suffer': 698, 'busi': 699, 'dramat': 700, 'bill': 701, 'space': 702, 'western': 703, 'e': 704, 'list': 705, 'battl': 706, 'notic': 707, 'de': 708, 'french': 709, 'ad': 710, '9': 711, 'tom': 712, 'larg': 713, 'among': 714, 'eventu': 715, 'accept': 716, 'train': 717, 'agre': 718, 'soundtrack': 719, 'spirit': 720, 'third': 721, 'teenag': 722, 'soldier': 723, 'adventur': 724, 'suggest': 725, 'sorri': 726, 'drug': 727, 'famou': 728, 'normal': 729, 'cri': 730, 'babi': 731, 'troubl': 732, 'ultim': 733, 'contain': 734, 'certain': 735, 'cultur': 736, 'romanc': 737, 'rare': 738, 'lame': 739, 'somehow': 740, 'mix': 741, 'disney': 742, 'gone': 743, 'cartoon': 744, 'student': 745, 'fear': 746, 'reveal': 747, 'suck': 748, 'kept': 749, 'attract': 750, 'appeal': 751, 'premis': 752, 'design': 753, 'secret': 754, 'greatest': 755, 'shame': 756, 'throw': 757, 'copi': 758, 'scare': 759, 'wit': 760, 'america': 761, 'admit': 762, 'particular': 763, 'relat': 764, 'brought': 765, 'screenplay': 766, 'whatev': 767, 'pure': 768, '70': 769, 'harri': 770, 'averag': 771, 'master': 772, 'describ': 773, 'treat': 774, 'male': 775, '20': 776, 'fantasi': 777, 'issu': 778, 'warn': 779, 'inde': 780, 'forward': 781, 'background': 782, 'free': 783, 'project': 784, 'memor': 785, 'japanes': 786, 'poorli': 787, 'award': 788, 'locat': 789, 'amus': 790, 'potenti': 791, 'struggl': 792, 'weird': 793, 'magic': 794, 'societi': 795, 'okay': 796, 'accent': 797, 'doctor': 798, 'imdb': 799, 'water': 800, 'hot': 801, 'alien': 802, 'dr': 803, '30': 804, 'express': 805, 'odd': 806, 'crazi': 807, 'choic': 808, 'fiction': 809, 'studio': 810, 'control': 811, 'becam': 812, 'masterpiec': 813, 'difficult': 814, 'fli': 815, 'joe': 816, 'scream': 817, 'costum': 818, 'lover': 819, 'uniqu': 820, 'refer': 821, 'remak': 822, 'vampir': 823, 'girlfriend': 824, 'prison': 825, 'execut': 826, 'wear': 827, 'jump': 828, 'wood': 829, 'unless': 830, 'creepi': 831, 'cheesi': 832, 'superb': 833, 'otherwis': 834, 'parti': 835, 'ghost': 836, 'roll': 837, 'public': 838, 'mad': 839, 'depict': 840, 'badli': 841, 'week': 842, 'moral': 843, 'earlier': 844, 'jane': 845, 'fi': 846, 'dumb': 847, 'flaw': 848, 'grow': 849, 'deep': 850, 'sci': 851, 'maker': 852, 'cat': 853, 'footag': 854, 'connect': 855, 'older': 856, 'bother': 857, 'plenti': 858, 'outsid': 859, 'stick': 860, 'gay': 861, 'catch': 862, 'co': 863, 'plu': 864, 'popular': 865, 'equal': 866, 'social': 867, 'disturb': 868, 'quickli': 869, 'perfectli': 870, 'dress': 871, '90': 872, 'era': 873, 'mistak': 874, 'lie': 875, 'previou': 876, 'ride': 877, 'combin': 878, 'concept': 879, 'band': 880, 'answer': 881, 'surviv': 882, 'rich': 883, 'front': 884, 'christma': 885, 'sweet': 886, 'insid': 887, 'concern': 888, 'eat': 889, 'bare': 890, 'ben': 891, 'listen': 892, 'beat': 893, 'c': 894, 'term': 895, 'serv': 896, 'meant': 897, 'german': 898, 'la': 899, 'stereotyp': 900, 'hardli': 901, 'law': 902, 'innoc': 903, 'desper': 904, 'memori': 905, 'promis': 906, 'intent': 907, 'cute': 908, 'variou': 909, 'inform': 910, 'steal': 911, 'brain': 912, 'post': 913, 'tone': 914, 'island': 915, 'amount': 916, 'track': 917, 'compani': 918, 'nuditi': 919, 'store': 920, 'claim': 921, 'flat': 922, '50': 923, 'hair': 924, 'land': 925, 'univers': 926, 'fairli': 927, 'danger': 928, 'kick': 929, 'scott': 930, 'player': 931, 'plain': 932, 'crew': 933, 'step': 934, 'toni': 935, 'share': 936, 'centuri': 937, 'tast': 938, 'engag': 939, 'achiev': 940, 'cold': 941, 'travel': 942, 'record': 943, 'rip': 944, 'suit': 945, 'sadli': 946, 'manner': 947, 'wrote': 948, 'tension': 949, 'spot': 950, 'fascin': 951, 'intens': 952, 'familiar': 953, 'depth': 954, 'remark': 955, 'burn': 956, 'destroy': 957, 'histor': 958, 'sleep': 959, 'purpos': 960, 'languag': 961, 'ignor': 962, 'ruin': 963, 'delight': 964, 'unbeliev': 965, 'italian': 966, 'abil': 967, 'collect': 968, 'soul': 969, 'detect': 970, 'clever': 971, 'violent': 972, 'rape': 973, 'reach': 974, 'door': 975, 'liter': 976, 'trash': 977, 'scienc': 978, 'commun': 979, 'caught': 980, 'reveng': 981, 'creatur': 982, 'approach': 983, 'trip': 984, 'fashion': 985, 'intrigu': 986, 'introduc': 987, 'skill': 988, 'paint': 989, 'channel': 990, 'complex': 991, 'camp': 992, 'christian': 993, 'hole': 994, 'extra': 995, 'mental': 996, 'immedi': 997, 'limit': 998, 'ann': 999, 'million': 1000, 'comput': 1001, 'mere': 1002, 'slightli': 1003, '6': 1004, 'conclus': 1005, 'slasher': 1006, 'suddenli': 1007, 'imposs': 1008, 'crimin': 1009, 'neither': 1010, 'teen': 1011, 'nation': 1012, 'physic': 1013, 'spent': 1014, 'respons': 1015, 'planet': 1016, 'receiv': 1017, 'fake': 1018, 'blue': 1019, 'sick': 1020, 'bizarr': 1021, 'embarrass': 1022, 'indian': 1023, '15': 1024, 'ring': 1025, 'drop': 1026, 'pop': 1027, 'drag': 1028, 'haunt': 1029, 'pointless': 1030, 'suspect': 1031, 'edg': 1032, 'search': 1033, 'handl': 1034, 'common': 1035, 'biggest': 1036, 'faith': 1037, 'hurt': 1038, 'arriv': 1039, 'technic': 1040, 'angel': 1041, 'dad': 1042, 'genuin': 1043, 'awesom': 1044, 'solid': 1045, 'f': 1046, 'focu': 1047, 'colleg': 1048, 'van': 1049, 'former': 1050, 'count': 1051, 'tear': 1052, 'heavi': 1053, 'rais': 1054, 'wall': 1055, 'laughabl': 1056, 'younger': 1057, 'visit': 1058, 'excus': 1059, 'fair': 1060, 'sign': 1061, 'cult': 1062, 'key': 1063, 'tough': 1064, 'motion': 1065, 'super': 1066, 'desir': 1067, 'stun': 1068, 'addit': 1069, 'exploit': 1070, 'cloth': 1071, 'tortur': 1072, 'smith': 1073, 'davi': 1074, 'race': 1075, 'author': 1076, 'cross': 1077, 'jim': 1078, 'compel': 1079, 'focus': 1080, 'minor': 1081, 'consist': 1082, 'chemistri': 1083, 'commit': 1084, 'pathet': 1085, 'park': 1086, 'obsess': 1087, 'frank': 1088, 'tradit': 1089, 'grade': 1090, 'asid': 1091, '60': 1092, 'brutal': 1093, 'somewher': 1094, 'steve': 1095, 'grant': 1096, 'depress': 1097, 'explor': 1098, 'rule': 1099, 'opportun': 1100, 'u': 1101, 'honest': 1102, 'besid': 1103, 'anti': 1104, 'dub': 1105, 'trailer': 1106, 'intend': 1107, 'bar': 1108, 'west': 1109, 'scientist': 1110, 'longer': 1111, 'regard': 1112, 'judg': 1113, 'decad': 1114, 'silent': 1115, 'creativ': 1116, 'armi': 1117, 'wild': 1118, 'g': 1119, 'stewart': 1120, 'south': 1121, 'draw': 1122, 'road': 1123, 'govern': 1124, 'boss': 1125, 'ex': 1126, 'practic': 1127, 'festiv': 1128, 'club': 1129, 'surprisingli': 1130, 'gang': 1131, 'motiv': 1132, 'redeem': 1133, 'green': 1134, 'london': 1135, 'page': 1136, 'idiot': 1137, 'aliv': 1138, 'display': 1139, 'machin': 1140, 'militari': 1141, 'thrill': 1142, 'repeat': 1143, 'folk': 1144, '100': 1145, 'yeah': 1146, 'nobodi': 1147, '40': 1148, 'journey': 1149, 'garbag': 1150, 'smile': 1151, 'ground': 1152, 'tire': 1153, 'bought': 1154, 'mood': 1155, 'cost': 1156, 'stone': 1157, 'sam': 1158, 'noir': 1159, 'mouth': 1160, 'terrif': 1161, 'agent': 1162, 'utterli': 1163, 'requir': 1164, 'sexi': 1165, 'honestli': 1166, 'area': 1167, 'report': 1168, 'geniu': 1169, 'investig': 1170, 'humour': 1171, 'glad': 1172, 'enter': 1173, 'serial': 1174, 'passion': 1175, 'narr': 1176, 'occasion': 1177, 'climax': 1178, 'marriag': 1179, 'studi': 1180, 'industri': 1181, 'center': 1182, 'demon': 1183, 'charli': 1184, 'nowher': 1185, 'ship': 1186, 'bear': 1187, 'loos': 1188, 'hors': 1189, 'wow': 1190, 'hang': 1191, 'graphic': 1192, 'admir': 1193, 'giant': 1194, 'send': 1195, 'damn': 1196, 'loud': 1197, 'rel': 1198, 'profession': 1199, 'nake': 1200, 'subtl': 1201, 'blow': 1202, 'bottom': 1203, 'batman': 1204, 'insult': 1205, 'kelli': 1206, 'boyfriend': 1207, 'r': 1208, 'doubl': 1209, 'initi': 1210, 'frame': 1211, 'gem': 1212, 'opera': 1213, 'affect': 1214, 'drawn': 1215, 'challeng': 1216, 'cinemat': 1217, 'church': 1218, 'evid': 1219, 'fulli': 1220, 'seek': 1221, 'j': 1222, 'nightmar': 1223, 'l': 1224, 'conflict': 1225, 'essenti': 1226, 'arm': 1227, 'grace': 1228, 'henri': 1229, 'wind': 1230, 'christoph': 1231, 'assum': 1232, 'narrat': 1233, 'witch': 1234, 'hunt': 1235, 'push': 1236, 'wise': 1237, 'chri': 1238, 'nomin': 1239, 'repres': 1240, 'month': 1241, 'avail': 1242, 'hide': 1243, 'sceneri': 1244, 'affair': 1245, 'justic': 1246, 'smart': 1247, 'thu': 1248, 'bond': 1249, 'outstand': 1250, 'interview': 1251, 'flashback': 1252, 'presenc': 1253, 'constantli': 1254, 'satisfi': 1255, 'bed': 1256, 'central': 1257, 'sell': 1258, 'iron': 1259, 'content': 1260, 'everybodi': 1261, 'gag': 1262, 'slowli': 1263, 'hotel': 1264, 'hire': 1265, 'system': 1266, 'hey': 1267, 'individu': 1268, 'thrown': 1269, 'charl': 1270, 'adam': 1271, 'jone': 1272, 'allen': 1273, 'mediocr': 1274, 'billi': 1275, 'ray': 1276, 'lesson': 1277, 'photographi': 1278, 'cameo': 1279, 'pari': 1280, 'fellow': 1281, 'strike': 1282, 'absurd': 1283, 'independ': 1284, 'rise': 1285, 'brief': 1286, 'neg': 1287, 'impact': 1288, 'phone': 1289, 'born': 1290, 'ill': 1291, 'model': 1292, 'fresh': 1293, 'spoil': 1294, 'angl': 1295, 'likabl': 1296, 'abus': 1297, 'hill': 1298, 'discuss': 1299, 'ahead': 1300, 'sight': 1301, 'sent': 1302, 'photograph': 1303, 'shine': 1304, 'logic': 1305, 'occur': 1306, 'blame': 1307, 'mainli': 1308, 'bruce': 1309, 'forev': 1310, 'skip': 1311, 'commerci': 1312, 'held': 1313, 'surround': 1314, 'teacher': 1315, 'segment': 1316, 'zero': 1317, 'blond': 1318, 'trap': 1319, 'resembl': 1320, 'satir': 1321, 'summer': 1322, 'six': 1323, 'ball': 1324, 'fool': 1325, 'queen': 1326, 'tragedi': 1327, 'twice': 1328, 'sub': 1329, 'reaction': 1330, 'pack': 1331, 'bomb': 1332, 'will': 1333, 'hospit': 1334, 'protagonist': 1335, 'sport': 1336, 'mile': 1337, 'jerri': 1338, 'vote': 1339, 'mom': 1340, 'trust': 1341, 'drink': 1342, 'encount': 1343, 'plane': 1344, 'station': 1345, 'al': 1346, 'current': 1347, 'program': 1348, 'choos': 1349, 'celebr': 1350, 'martin': 1351, 'join': 1352, 'favourit': 1353, 'round': 1354, 'lord': 1355, 'field': 1356, 'tragic': 1357, 'vision': 1358, 'jean': 1359, 'robot': 1360, 'tie': 1361, 'arthur': 1362, 'random': 1363, 'fortun': 1364, 'roger': 1365, 'psycholog': 1366, 'intern': 1367, 'dread': 1368, 'improv': 1369, 'prefer': 1370, 'epic': 1371, 'nonsens': 1372, 'formula': 1373, 'highlight': 1374, 'pleasur': 1375, 'legend': 1376, 'dollar': 1377, 'tape': 1378, '11': 1379, 'wide': 1380, 'object': 1381, 'thin': 1382, 'gorgeou': 1383, 'porn': 1384, 'fox': 1385, 'influenc': 1386, 'buddi': 1387, 'ugli': 1388, 'nasti': 1389, 'prepar': 1390, 'ii': 1391, 'supposedli': 1392, 'reflect': 1393, 'progress': 1394, 'warm': 1395, 'youth': 1396, 'worthi': 1397, 'latter': 1398, 'unusu': 1399, 'length': 1400, 'crash': 1401, 'seven': 1402, 'shop': 1403, 'superior': 1404, 'childhood': 1405, 'theatr': 1406, 'remot': 1407, 'funniest': 1408, 'disgust': 1409, 'paid': 1410, 'pilot': 1411, 'convers': 1412, 'castl': 1413, 'trick': 1414, 'fell': 1415, 'rob': 1416, 'establish': 1417, 'disast': 1418, 'gangster': 1419, 'mine': 1420, 'disappear': 1421, 'suicid': 1422, 'ident': 1423, 'heaven': 1424, 'mask': 1425, 'singer': 1426, 'decis': 1427, 'tend': 1428, 'heroin': 1429, 'forgotten': 1430, 'brian': 1431, 'partner': 1432, 'recogn': 1433, 'alan': 1434, 'desert': 1435, 'ms': 1436, 'thoroughli': 1437, 'stuck': 1438, 'p': 1439, 'sky': 1440, 'replac': 1441, 'accur': 1442, 'market': 1443, 'uncl': 1444, 'andi': 1445, 'commentari': 1446, 'clue': 1447, 'eddi': 1448, 'seemingli': 1449, 'danni': 1450, 'devil': 1451, 'jackson': 1452, 'pair': 1453, 'refus': 1454, 'therefor': 1455, 'that': 1456, 'fault': 1457, 'river': 1458, 'unit': 1459, 'fate': 1460, 'ed': 1461, 'accid': 1462, 'tune': 1463, 'afraid': 1464, 'stephen': 1465, 'russian': 1466, 'clean': 1467, 'hidden': 1468, 'captain': 1469, 'convey': 1470, 'readi': 1471, 'irrit': 1472, 'quick': 1473, 'instanc': 1474, 'test': 1475, 'european': 1476, 'insan': 1477, 'frustrat': 1478, 'daniel': 1479, 'food': 1480, 'wed': 1481, 'rescu': 1482, '1950': 1483, 'chines': 1484, 'dirti': 1485, 'angri': 1486, 'lock': 1487, 'joy': 1488, 'price': 1489, 'steven': 1490, 'bland': 1491, 'cage': 1492, 'anymor': 1493, 'rang': 1494, 'wooden': 1495, 'rush': 1496, 'news': 1497, 'jason': 1498, 'n': 1499, 'board': 1500, 'led': 1501, 'worri': 1502, '12': 1503, 'twenti': 1504, 'martial': 1505, 'symbol': 1506, 'hunter': 1507, 'cgi': 1508, 'transform': 1509, 'x': 1510, 'sentiment': 1511, 'johnni': 1512, 'onto': 1513, 'invent': 1514, 'piti': 1515, 'process': 1516, 'explan': 1517, 'attitud': 1518, 'owner': 1519, 'awar': 1520, 'aim': 1521, 'energi': 1522, 'necessari': 1523, 'target': 1524, 'floor': 1525, 'favor': 1526, 'opposit': 1527, 'religi': 1528, 'window': 1529, 'insight': 1530, 'blind': 1531, 'chick': 1532, 'movement': 1533, 'deepli': 1534, 'possess': 1535, 'mountain': 1536, 'comparison': 1537, 'research': 1538, 'whatsoev': 1539, 'comed': 1540, 'grand': 1541, 'rain': 1542, 'began': 1543, 'bank': 1544, 'shadow': 1545, 'mid': 1546, 'princ': 1547, 'parodi': 1548, 'friendship': 1549, 'pre': 1550, 'taylor': 1551, 'weapon': 1552, 'credibl': 1553, 'teach': 1554, 'dougla': 1555, 'flesh': 1556, 'terror': 1557, 'protect': 1558, 'bloodi': 1559, 'hint': 1560, 'marvel': 1561, 'watchabl': 1562, 'leader': 1563, 'drunk': 1564, 'load': 1565, 'anybodi': 1566, 'accord': 1567, 'superman': 1568, 'freddi': 1569, 'brown': 1570, 'seat': 1571, 'tim': 1572, 'appropri': 1573, 'hitler': 1574, 'jeff': 1575, 'knock': 1576, 'unknown': 1577, 'charg': 1578, 'villag': 1579, 'keaton': 1580, 'england': 1581, 'enemi': 1582, 'unnecessari': 1583, 'media': 1584, 'empti': 1585, 'perspect': 1586, 'strength': 1587, 'utter': 1588, 'craft': 1589, 'dare': 1590, 'buck': 1591, 'wave': 1592, 'contrast': 1593, 'ford': 1594, 'nativ': 1595, 'kiss': 1596, 'correct': 1597, 'chill': 1598, 'magnific': 1599, 'soap': 1600, 'speed': 1601, 'anywher': 1602, 'distract': 1603, 'nazi': 1604, 'knowledg': 1605, 'fred': 1606, '1980': 1607, 'breath': 1608, 'ice': 1609, 'mission': 1610, 'joan': 1611, 'jr': 1612, 'crowd': 1613, 'moon': 1614, 'frighten': 1615, 'kate': 1616, '000': 1617, 'soft': 1618, 'dan': 1619, 'nick': 1620, 'dick': 1621, 'hundr': 1622, 'somebodi': 1623, 'dozen': 1624, 'simon': 1625, 'radio': 1626, 'academi': 1627, 'shakespear': 1628, 'thousand': 1629, 'loss': 1630, 'andrew': 1631, 'vehicl': 1632, 'root': 1633, 'quot': 1634, 'sum': 1635, 'account': 1636, '1970': 1637, 'behavior': 1638, 'convent': 1639, 'leg': 1640, 'regular': 1641, 'gold': 1642, 'compet': 1643, 'worker': 1644, 'demand': 1645, 'pretenti': 1646, 'candi': 1647, 'privat': 1648, 'interpret': 1649, 'stretch': 1650, 'notabl': 1651, 'explos': 1652, 'lynch': 1653, 'japan': 1654, 'debut': 1655, 'constant': 1656, 'tarzan': 1657, 'spi': 1658, 'translat': 1659, 'sea': 1660, 'prais': 1661, 'revolv': 1662, 'failur': 1663, 'jesu': 1664, 'technolog': 1665, 'ass': 1666, 'threaten': 1667, 'franc': 1668, 'quiet': 1669, 'sat': 1670, 'kevin': 1671, 'toy': 1672, 'met': 1673, 'punch': 1674, 'aid': 1675, 'higher': 1676, 'vh': 1677, 'mike': 1678, 'interact': 1679, 'abandon': 1680, 'command': 1681, 'separ': 1682, 'bet': 1683, 'confront': 1684, 'techniqu': 1685, 'gotten': 1686, 'stunt': 1687, 'recal': 1688, 'site': 1689, 'servic': 1690, 'belong': 1691, 'freak': 1692, 'foot': 1693, 'cabl': 1694, 'bug': 1695, 'jimmi': 1696, 'capabl': 1697, 'african': 1698, 'bright': 1699, 'fu': 1700, 'fat': 1701, 'presid': 1702, 'stock': 1703, 'succeed': 1704, 'boat': 1705, 'clark': 1706, 'structur': 1707, 'gene': 1708, 'spanish': 1709, 'paper': 1710, 'kidnap': 1711, 'whilst': 1712, 'factor': 1713, 'belief': 1714, 'attend': 1715, 'realis': 1716, 'witti': 1717, 'bob': 1718, 'educ': 1719, 'tree': 1720, 'realism': 1721, 'complic': 1722, 'finest': 1723, 'assist': 1724, 'santa': 1725, 'broken': 1726, 'smoke': 1727, 'depart': 1728, 'observ': 1729, 'v': 1730, 'up': 1731, 'determin': 1732, 'domin': 1733, 'routin': 1734, 'fame': 1735, 'rubbish': 1736, 'oper': 1737, 'lewi': 1738, 'hat': 1739, 'kinda': 1740, 'lone': 1741, 'safe': 1742, 'hook': 1743, 'foreign': 1744, 'morgan': 1745, 'advanc': 1746, 'rank': 1747, 'numer': 1748, 'shape': 1749, 'civil': 1750, 'vs': 1751, 'rose': 1752, 'washington': 1753, 'shallow': 1754, 'werewolf': 1755, 'gari': 1756, 'morn': 1757, 'ordinari': 1758, 'winner': 1759, 'accomplish': 1760, 'kong': 1761, 'virtual': 1762, 'peac': 1763, 'grab': 1764, 'whenev': 1765, 'offens': 1766, 'luck': 1767, 'h': 1768, 'patient': 1769, 'complain': 1770, 'activ': 1771, 'welcom': 1772, 'bigger': 1773, 'contriv': 1774, 'unfunni': 1775, 'dimension': 1776, 'trek': 1777, 'con': 1778, 'pretend': 1779, 'wake': 1780, 'lesbian': 1781, 'flash': 1782, 'dri': 1783, 'cain': 1784, 'eric': 1785, 'code': 1786, 'corrupt': 1787, 'albert': 1788, 'statu': 1789, 'manipul': 1790, 'guard': 1791, 'dancer': 1792, 'awkward': 1793, 'context': 1794, 'gain': 1795, 'signific': 1796, 'speech': 1797, 'sourc': 1798, '13': 1799, 'anthoni': 1800, 'psycho': 1801, 'clip': 1802, 'corni': 1803, 'sean': 1804, 'advic': 1805, 'theatric': 1806, 'religion': 1807, 'priest': 1808, 'reli': 1809, 'curiou': 1810, 'w': 1811, 'addict': 1812, 'flow': 1813, 'howard': 1814, 'jennif': 1815, 'secur': 1816, 'skin': 1817, 'asian': 1818, 'specif': 1819, 'promot': 1820, 'organ': 1821, 'comfort': 1822, 'golden': 1823, 'luke': 1824, 'core': 1825, 'cash': 1826, 'lucki': 1827, 'cheat': 1828, 'dislik': 1829, 'associ': 1830, 'lower': 1831, 'regret': 1832, 'frequent': 1833, 'balanc': 1834, 'devic': 1835, 'contribut': 1836, 'frankli': 1837, 'degre': 1838, 'wing': 1839, 'spell': 1840, 'sake': 1841, 'forgiv': 1842, 'lake': 1843, 'print': 1844, 'mass': 1845, 'thoma': 1846, 'betti': 1847, 'unexpect': 1848, 'crack': 1849, 'gordon': 1850, 'invit': 1851, 'construct': 1852, 'depend': 1853, 'grown': 1854, 'unfold': 1855, 'amateur': 1856, 'categori': 1857, 'anna': 1858, 'grew': 1859, 'walter': 1860, 'condit': 1861, 'intellectu': 1862, 'matur': 1863, 'honor': 1864, 'spectacular': 1865, 'sole': 1866, 'veteran': 1867, 'sudden': 1868, 'mirror': 1869, 'card': 1870, 'robin': 1871, 'overli': 1872, 'grip': 1873, 'meanwhil': 1874, 'freedom': 1875, 'experienc': 1876, 'gift': 1877, 'liner': 1878, 'demonstr': 1879, 'brilliantli': 1880, 'crappi': 1881, 'circumst': 1882, 'subtitl': 1883, 'oliv': 1884, 'unabl': 1885, 'drew': 1886, 'sheriff': 1887, 'colour': 1888, 'theori': 1889, 'section': 1890, 'laughter': 1891, 'pile': 1892, 'parker': 1893, 'altern': 1894, 'cook': 1895, 'sheer': 1896, 'path': 1897, 'matt': 1898, 'hall': 1899, 'defin': 1900, 'relief': 1901, 'wander': 1902, 'lawyer': 1903, 'treatment': 1904, 'accident': 1905, 'sinatra': 1906, 'hank': 1907, 'dragon': 1908, 'captiv': 1909, 'halloween': 1910, 'gratuit': 1911, 'moor': 1912, 'barbara': 1913, 'unintent': 1914, 'k': 1915, 'cowboy': 1916, 'wound': 1917, 'broadway': 1918, 'kung': 1919, 'jacki': 1920, 'wayn': 1921, 'canadian': 1922, 'statement': 1923, 'winter': 1924, 'spoof': 1925, 'surreal': 1926, 'fare': 1927, 'gonna': 1928, 'compos': 1929, 'treasur': 1930, 'cheer': 1931, 'fish': 1932, 'sensit': 1933, 'woodi': 1934, 'emerg': 1935, 'victor': 1936, 'unrealist': 1937, 'driven': 1938, 'ran': 1939, 'sympathet': 1940, 'neighbor': 1941, 'authent': 1942, 'menac': 1943, 'expos': 1944, 'overlook': 1945, 'glass': 1946, 'topic': 1947, 'gross': 1948, 'chief': 1949, 'ancient': 1950, 'michel': 1951, 'handsom': 1952, 'pleasant': 1953, 'network': 1954, 'comedian': 1955, 'stranger': 1956, 'contemporari': 1957, 'russel': 1958, 'nevertheless': 1959, 'feet': 1960, 'cinderella': 1961, 'built': 1962, 'underr': 1963, 'earn': 1964, 'blockbust': 1965, 'gori': 1966, 'consider': 1967, 'endless': 1968, 'letter': 1969, 'miser': 1970, 'switch': 1971, 'solv': 1972, 'brook': 1973, 'convict': 1974, 'bullet': 1975, 'virgin': 1976, 'joseph': 1977, 'edward': 1978, 'victoria': 1979, 'scale': 1980, '0': 1981, 'alex': 1982, 'cynic': 1983, 'chosen': 1984, 'scenario': 1985, 'curs': 1986, 'outrag': 1987, 'com': 1988, 'gut': 1989, 'sword': 1990, 'substanc': 1991, 'juli': 1992, 'screenwrit': 1993, 'proper': 1994, 'monkey': 1995, 'driver': 1996, 'wrap': 1997, 'uk': 1998, 'bird': 1999, 'remov': 2000, 'par': 2001, 'court': 2002, 'indic': 2003, 'consequ': 2004, 'naiv': 2005, 'rental': 2006, 'advertis': 2007, 'grave': 2008, 'roy': 2009, 'inevit': 2010, 'loser': 2011, 'nanci': 2012, 'fatal': 2013, 'slap': 2014, 'le': 2015, 'germani': 2016, 'brave': 2017, 'bridg': 2018, 'invis': 2019, 'provok': 2020, 'anger': 2021, 'footbal': 2022, 'loui': 2023, 'ador': 2024, 'alcohol': 2025, 'chan': 2026, 'anderson': 2027, 'ryan': 2028, 'stumbl': 2029, 'willi': 2030, 'professor': 2031, 'bat': 2032, 'patrick': 2033, 'assassin': 2034, 'sharp': 2035, 'australian': 2036, '1930': 2037, 'deni': 2038, 'lousi': 2039, 'trilog': 2040, 'refresh': 2041, 'strongli': 2042, 'liber': 2043, 'eight': 2044, 'saturday': 2045, 'amateurish': 2046, 'cell': 2047, 'heck': 2048, 'ape': 2049, 'sin': 2050, 'vagu': 2051, 'resid': 2052, 'justifi': 2053, 'san': 2054, 'creator': 2055, 'sympathi': 2056, 'terrifi': 2057, 'defeat': 2058, 'reput': 2059, 'mini': 2060, 'indi': 2061, 'task': 2062, 'prevent': 2063, 'expert': 2064, 'tediou': 2065, 'endur': 2066, 'tabl': 2067, 'trial': 2068, 'rival': 2069, 'basebal': 2070, 'offend': 2071, 'employ': 2072, 'imit': 2073, 'che': 2074, 'max': 2075, 'dig': 2076, 'europ': 2077, 'pitch': 2078, 'beach': 2079, 'weekend': 2080, 'complaint': 2081, 'fairi': 2082, 'murphi': 2083, 'purchas': 2084, 'risk': 2085, 'format': 2086, 'harsh': 2087, 'nois': 2088, 'tini': 2089, 'bite': 2090, 'hype': 2091, 'titan': 2092, 'powel': 2093, 'glimps': 2094, 'reminisc': 2095, '14': 2096, 'north': 2097, 'asleep': 2098, 'strip': 2099, 'prime': 2100, 'till': 2101, 'fals': 2102, 'revel': 2103, 'descript': 2104, 'texa': 2105, 'destruct': 2106, 'africa': 2107, 'arrest': 2108, 'excess': 2109, 'spin': 2110, 'uninterest': 2111, 'inner': 2112, 'semi': 2113, 'surfac': 2114, 'sitcom': 2115, 'argu': 2116, 'massiv': 2117, 'twin': 2118, 'hitchcock': 2119, 'maintain': 2120, 'makeup': 2121, 'controversi': 2122, 'dinosaur': 2123, 'kim': 2124, 'ideal': 2125, 'insist': 2126, 'expens': 2127, 'ludicr': 2128, 'melodrama': 2129, 'reject': 2130, 'stare': 2131, 'ala': 2132, 'press': 2133, 'nail': 2134, 'subplot': 2135, 'supernatur': 2136, 'columbo': 2137, 'atroci': 2138, 'erot': 2139, 'host': 2140, 'forest': 2141, 'ga': 2142, 'cant': 2143, 'notch': 2144, 'dude': 2145, 'identifi': 2146, 'presum': 2147, 'forgett': 2148, 'method': 2149, 'crude': 2150, 'guest': 2151, 'closer': 2152, 'character': 2153, 'plagu': 2154, 'lion': 2155, 'border': 2156, 'foster': 2157, 'beast': 2158, 'princess': 2159, 'landscap': 2160, 'ear': 2161, 'damag': 2162, 'bound': 2163, 'urban': 2164, 'storytel': 2165, 'aunt': 2166, 'pacino': 2167, 'previous': 2168, 'jungl': 2169, 'birth': 2170, 'accus': 2171, 'propaganda': 2172, 'chose': 2173, 'guid': 2174, 'thirti': 2175, 'nude': 2176, 'doll': 2177, 'emma': 2178, 'jess': 2179, 'mate': 2180, 'warrior': 2181, 'whoever': 2182, 'pet': 2183, 'mainstream': 2184, '25': 2185, 'merit': 2186, 'exact': 2187, 'cooper': 2188, 'upset': 2189, 'deadli': 2190, 'friday': 2191, 'latest': 2192, 'size': 2193, 'poster': 2194, 'gritti': 2195, 'citizen': 2196, 'blend': 2197, '1990': 2198, 'settl': 2199, 'warner': 2200, 'rough': 2201, 'contact': 2202, 'buff': 2203, 'ton': 2204, 'wilson': 2205, 'corps': 2206, 'sun': 2207, 'popul': 2208, 'contest': 2209, 'widow': 2210, 'alic': 2211, 'metal': 2212, 'select': 2213, 'rat': 2214, 'environ': 2215, 'mgm': 2216, 'overcom': 2217, 'pitt': 2218, 'bu': 2219, 'revolut': 2220, 'guilti': 2221, 'link': 2222, 'lift': 2223, 'particip': 2224, 'ted': 2225, 'exagger': 2226, '1960': 2227, 'afternoon': 2228, 'moron': 2229, 'corpor': 2230, 'matrix': 2231, 'prostitut': 2232, 'accompani': 2233, 'corner': 2234, 'johnson': 2235, 'friendli': 2236, 'leagu': 2237, 'multipl': 2238, 'instal': 2239, 'sincer': 2240, 'clair': 2241, 'doom': 2242, 'hood': 2243, 'holm': 2244, 'advis': 2245, 'grim': 2246, 'blah': 2247, 'examin': 2248, 'aka': 2249, 'string': 2250, 'junk': 2251, 'irish': 2252, 'campi': 2253, 'defend': 2254, 'hip': 2255, 'lugosi': 2256, 'sunday': 2257, 'pro': 2258, 'varieti': 2259, 'rachel': 2260, 'tight': 2261, 'icon': 2262, 'shut': 2263, 'confid': 2264, 'shake': 2265, 'denni': 2266, 'medic': 2267, 'attach': 2268, 'goal': 2269, 'mexican': 2270, 'sullivan': 2271, 'directli': 2272, 'jaw': 2273, 'sentenc': 2274, 'dean': 2275, 'legendari': 2276, 'terrorist': 2277, 'prior': 2278, 'courag': 2279, 'duke': 2280, 'breast': 2281, 'truck': 2282, 'vietnam': 2283, 'sarah': 2284, 'bourn': 2285, 'yell': 2286, 'donald': 2287, 'proceed': 2288, 'entri': 2289, 'behav': 2290, 'nose': 2291, 'split': 2292, 'un': 2293, 'hong': 2294, 'concentr': 2295, 'everywher': 2296, 'lifetim': 2297, 'confess': 2298, 'jerk': 2299, 'forth': 2300, 'stolen': 2301, 'crush': 2302, 'buri': 2303, 'gather': 2304, 'borrow': 2305, 'unconvinc': 2306, 'swim': 2307, 'lip': 2308, 'spite': 2309, 'pan': 2310, 'julia': 2311, 'deliveri': 2312, 'california': 2313, 'turkey': 2314, 'quest': 2315, 'offici': 2316, 'proud': 2317, 'hoffman': 2318, 'reward': 2319, 'flight': 2320, 'downright': 2321, 'china': 2322, 'freeman': 2323, 'inept': 2324, 'notori': 2325, 'jail': 2326, 'lazi': 2327, 'betray': 2328, 'fabul': 2329, 'sink': 2330, 'encourag': 2331, 'worthwhil': 2332, 'sir': 2333, 'fade': 2334, 'jon': 2335, 'bag': 2336, 'shower': 2337, 'survivor': 2338, 'lisa': 2339, 'branagh': 2340, 'cousin': 2341, 'susan': 2342, 'retard': 2343, 'bell': 2344, 'storm': 2345, 'teeth': 2346, 'imageri': 2347, 'relev': 2348, 'hugh': 2349, 'toler': 2350, 'quirki': 2351, 'bride': 2352, 'facial': 2353, 'finger': 2354, 'tremend': 2355, 'summari': 2356, 'alright': 2357, 'mexico': 2358, 'stab': 2359, 'trade': 2360, 'shark': 2361, 'von': 2362, 'bitter': 2363, 'pose': 2364, 'hyster': 2365, 'ha': 2366, 'blown': 2367, 'bone': 2368, 'afterward': 2369, 'larri': 2370, 'ron': 2371, 'scheme': 2372, 'christ': 2373, 'ned': 2374, 'address': 2375, 'cruel': 2376, 'feed': 2377, 'swear': 2378, 'traci': 2379, 'snake': 2380, 'distinct': 2381, 'beg': 2382, 'screw': 2383, 'pursu': 2384, 'tour': 2385, 'thumb': 2386, 'obscur': 2387, 'occas': 2388, 'chair': 2389, 'photo': 2390, 'stomach': 2391, 'mechan': 2392, 'raw': 2393, 'cabin': 2394, 'sidney': 2395, 'heavili': 2396, 'southern': 2397, 'necessarili': 2398, 'gruesom': 2399, 'argument': 2400, 'hardi': 2401, 'holiday': 2402, 'chain': 2403, 'render': 2404, 'resist': 2405, 'philip': 2406, 'india': 2407, 'racist': 2408, 'satan': 2409, 'indulg': 2410, 'understood': 2411, 'belov': 2412, 'fourth': 2413, 'forgot': 2414, 'lay': 2415, 'obnoxi': 2416, 'integr': 2417, 'pregnant': 2418, 'tongu': 2419, 'outfit': 2420, 'stalk': 2421, 'midnight': 2422, 'restor': 2423, 'garden': 2424, 'inhabit': 2425, 'magazin': 2426, 'deeper': 2427, '17': 2428, 'carol': 2429, 'slapstick': 2430, 'ticket': 2431, 'incid': 2432, 'devot': 2433, 'shoe': 2434, 'brad': 2435, 'lincoln': 2436, 'guarante': 2437, 'disbelief': 2438, 'underground': 2439, 'divorc': 2440, 'benefit': 2441, 'lili': 2442, 'elizabeth': 2443, 'anticip': 2444, 'sandler': 2445, 'maria': 2446, 'greater': 2447, 'princip': 2448, 'amazingli': 2449, 'cring': 2450, 'explod': 2451, 'mildli': 2452, 'bbc': 2453, 'creation': 2454, 'capit': 2455, 'slave': 2456, 'lesli': 2457, 'introduct': 2458, 'funnier': 2459, 'extraordinari': 2460, 'halfway': 2461, 'overwhelm': 2462, 'transfer': 2463, 'tap': 2464, 'wreck': 2465, 'punish': 2466, 'enhanc': 2467, 'advantag': 2468, 'extent': 2469, 'text': 2470, 'horrif': 2471, 'dynam': 2472, 'east': 2473, 'deliber': 2474, 'lane': 2475, 'plant': 2476, 'jessica': 2477, 'preview': 2478, 'error': 2479, 'lo': 2480, 'vacat': 2481, 'miscast': 2482, 'appli': 2483, 'homosexu': 2484, 'ensu': 2485, 'basi': 2486, '2000': 2487, 'miller': 2488, 'sophist': 2489, 'vincent': 2490, 'steel': 2491, 'reed': 2492, 'via': 2493, 'bollywood': 2494, 'sleazi': 2495, 'mansion': 2496, 'uncomfort': 2497, 'measur': 2498, 'spoken': 2499, 'extend': 2500, 'elev': 2501, 'cathol': 2502, 'savag': 2503, 'hippi': 2504, 'assign': 2505, 'overact': 2506, 'stanley': 2507, 'conceiv': 2508, 'fix': 2509, 'blair': 2510, 'breathtak': 2511, 'mous': 2512, 'dentist': 2513, 'beer': 2514, 'goofi': 2515, 'melt': 2516, 'alter': 2517, 'daili': 2518, 'properli': 2519, 'carpent': 2520, 'inspector': 2521, 'oppos': 2522, 'burt': 2523, 'nowaday': 2524, 'sacrific': 2525, 'everyday': 2526, 'subsequ': 2527, 'succe': 2528, 'massacr': 2529, 'circl': 2530, 'block': 2531, 'neck': 2532, 'laura': 2533, 'concert': 2534, 'access': 2535, 'mob': 2536, 'lesser': 2537, 'christi': 2538, 'portrait': 2539, 'pool': 2540, 'fay': 2541, 'grey': 2542, 'fallen': 2543, 'seagal': 2544, 'chees': 2545, 'competit': 2546, 'relax': 2547, 'jake': 2548, 'sinist': 2549, 'usa': 2550, 'isol': 2551, 'react': 2552, 'jewish': 2553, 'chop': 2554, 'nine': 2555, 'appal': 2556, 'lyric': 2557, '2006': 2558, 'stink': 2559, 'immens': 2560, 'ironi': 2561, 'nonetheless': 2562, 'creep': 2563, 'spiritu': 2564, 'suitabl': 2565, 'user': 2566, 'shirt': 2567, 'nut': 2568, 'adopt': 2569, 'luci': 2570, 'needless': 2571, 'showcas': 2572, 'rage': 2573, 'retir': 2574, 'navi': 2575, 'reduc': 2576, 'franchis': 2577, 'spring': 2578, 'sold': 2579, 'asham': 2580, 'per': 2581, 'uninspir': 2582, 'nurs': 2583, 'digit': 2584, 'zone': 2585, 'jay': 2586, 'bulli': 2587, 'stanwyck': 2588, 'bath': 2589, 'sutherland': 2590, 'oddli': 2591, 'laid': 2592, '2001': 2593, 'amongst': 2594, 'broadcast': 2595, 'illustr': 2596, 'upper': 2597, '1940': 2598, 'aspir': 2599, 'stylish': 2600, 'disguis': 2601, 'baker': 2602, 'brando': 2603, 'fulfil': 2604, 'throat': 2605, 'wwii': 2606, 'impli': 2607, 'nobl': 2608, 'wanna': 2609, 'pound': 2610, 'endear': 2611, 'em': 2612, '18': 2613, 'thief': 2614, 'neighborhood': 2615, 'pride': 2616, 'bett': 2617, 'dinner': 2618, 'albeit': 2619, 'prop': 2620, 'shoulder': 2621, 'dawn': 2622, '16': 2623, 'coher': 2624, 'diseas': 2625, 'tens': 2626, 'cinematograph': 2627, 'distribut': 2628, 'rochest': 2629, 'shift': 2630, 'bo': 2631, 'silenc': 2632, 'knife': 2633, 'snow': 2634, 'matthau': 2635, 'contract': 2636, 'forti': 2637, 'rebel': 2638, 'shout': 2639, 'wash': 2640, 'surf': 2641, 'poignant': 2642, 'function': 2643, 'instinct': 2644, 'henc': 2645, 'chuck': 2646, 'widmark': 2647, 'eeri': 2648, 'heat': 2649, 'internet': 2650, 'duti': 2651, 'cancel': 2652, 'height': 2653, 'mindless': 2654, 'horrend': 2655, 'reunion': 2656, 'proof': 2657, 'derek': 2658, 'elvira': 2659, 'cannib': 2660, 'silver': 2661, 'musician': 2662, 'absorb': 2663, 'premier': 2664, 'torn': 2665, 'mill': 2666, 'incoher': 2667, 'greatli': 2668, 'spielberg': 2669, 'etern': 2670, 'pie': 2671, 'innov': 2672, 'repetit': 2673, 'neat': 2674, 'glori': 2675, 'alik': 2676, 'elvi': 2677, 'fbi': 2678, 'racism': 2679, 'blank': 2680, 'infam': 2681, 'precis': 2682, 'itali': 2683, 'burton': 2684, 'diamond': 2685, 'wealthi': 2686, 'redempt': 2687, 'lovabl': 2688, 'britain': 2689, 'nelson': 2690, 'trite': 2691, 'crisi': 2692, 'bang': 2693, 'homag': 2694, 'horrifi': 2695, 'announc': 2696, 'helen': 2697, 'dedic': 2698, 'hammer': 2699, 'wilder': 2700, 'pat': 2701, 'flop': 2702, 'streisand': 2703, 'parallel': 2704, 'happili': 2705, 'ensembl': 2706, 'chaplin': 2707, 'resolut': 2708, 'disagre': 2709, 'triumph': 2710, 'conclud': 2711, 'st': 2712, 'mar': 2713, 'cube': 2714, 'broke': 2715, 'plastic': 2716, 'carter': 2717, 'oil': 2718, 'factori': 2719, 'chuckl': 2720, 'weight': 2721, 'rocket': 2722, 'row': 2723, 'climb': 2724, 'own': 2725, 'vega': 2726, 'bush': 2727, 'march': 2728, 'fighter': 2729, 'kurt': 2730, 'luca': 2731, 'lust': 2732, 'dump': 2733, 'sensibl': 2734, 'meaning': 2735, 'spare': 2736, 'dane': 2737, 'wherea': 2738, 'boot': 2739, 'unforgett': 2740, 'enorm': 2741, 'thug': 2742, 'mst3k': 2743, 'dear': 2744, 'threat': 2745, 'arnold': 2746, 'karloff': 2747, 'stress': 2748, 'brand': 2749, 'butt': 2750, 'fifti': 2751, 'bobbi': 2752, 'caricatur': 2753, 'difficulti': 2754, 'rap': 2755, 'engin': 2756, 'adequ': 2757, 'secretari': 2758, 'barri': 2759, 'fest': 2760, 'polish': 2761, 'ralph': 2762, 'flynn': 2763, 'hamlet': 2764, 'journalist': 2765, 'arrog': 2766, 'elabor': 2767, 'ego': 2768, 'swing': 2769, 'homeless': 2770, 'tool': 2771, 'fanci': 2772, 'induc': 2773, 'unbear': 2774, 'resort': 2775, 'grate': 2776, 'simpson': 2777, 'arrang': 2778, 'float': 2779, 'spike': 2780, 'conspiraci': 2781, 'puppet': 2782, 'pig': 2783, 'cruis': 2784, 'guilt': 2785, 'basement': 2786, 'boll': 2787, 'phillip': 2788, 'exercis': 2789, 'choreograph': 2790, 'tribut': 2791, 'muppet': 2792, 'ham': 2793, 'layer': 2794, 'fianc': 2795, 'document': 2796, '24': 2797, 'puzzl': 2798, 'tower': 2799, 'file': 2800, 'slip': 2801, 'babe': 2802, 'item': 2803, 'ward': 2804, 'editor': 2805, 'scarecrow': 2806, 'medium': 2807, 'korean': 2808, 'stan': 2809, 'toilet': 2810, 'catherin': 2811, 'larger': 2812, 'minim': 2813, 'doc': 2814, 'librari': 2815, 'spark': 2816, 'inexplic': 2817, 'assur': 2818, 'transit': 2819, 'philosoph': 2820, 'territori': 2821, 'portion': 2822, 'slaughter': 2823, 'superfici': 2824, 'orient': 2825, 'persona': 2826, 'denzel': 2827, 'glover': 2828, 'pg': 2829, 'jeremi': 2830, 'boredom': 2831, 'curti': 2832, 'wolf': 2833, 'sneak': 2834, 'ban': 2835, 'financi': 2836, 'dorothi': 2837, 'jet': 2838, 'shi': 2839, 'owe': 2840, 'walken': 2841, 'multi': 2842, 'ambigu': 2843, 'whale': 2844, 'backdrop': 2845, 'profound': 2846, 'cusack': 2847, 'hudson': 2848, 'metaphor': 2849, 'eleph': 2850, 'union': 2851, 'rave': 2852, 'implaus': 2853, 'notion': 2854, 'hack': 2855, 'elsewher': 2856, 'ultra': 2857, '2005': 2858, 'birthday': 2859, 'stiff': 2860, 'gadget': 2861, 'viru': 2862, 'superhero': 2863, 'afford': 2864, 'pad': 2865, 'urg': 2866, 'canada': 2867, 'hawk': 2868, 'eastwood': 2869, 'squar': 2870, 'disc': 2871, 'distanc': 2872, 'reader': 2873, 'lloyd': 2874, 'poison': 2875, '1st': 2876, 'eva': 2877, 'bibl': 2878, 'slight': 2879, 'newspap': 2880, 'deriv': 2881, 'essenc': 2882, 'spread': 2883, 'charisma': 2884, 'restaur': 2885, 'button': 2886, 'skit': 2887, 'cure': 2888, 'huh': 2889, 'drown': 2890, 'heston': 2891, 'montag': 2892, 'sadist': 2893, 'health': 2894, 'invest': 2895, 'lab': 2896, 'estat': 2897, 'peak': 2898, 'godfath': 2899, 'fetch': 2900, 'scoobi': 2901, 'companion': 2902, 'gradual': 2903, 'muslim': 2904, 'maniac': 2905, 'dealt': 2906, 'countless': 2907, 'cup': 2908, 'tea': 2909, 'subtleti': 2910, 'kane': 2911, 'servant': 2912, 'ritter': 2913, 'gothic': 2914, 'miik': 2915, 'alli': 2916, 'charismat': 2917, 'salli': 2918, 'briefli': 2919, 'heroic': 2920, 'electr': 2921, 'iii': 2922, 'elect': 2923, 'tender': 2924, 'nuanc': 2925, 'grandmoth': 2926, 'bud': 2927, 'admittedli': 2928, 'neil': 2929, 'ingredi': 2930, 'wannab': 2931, 'reel': 2932, 'toss': 2933, 'cole': 2934, 'resourc': 2935, 'reev': 2936, 'label': 2937, 'poverti': 2938, 'punk': 2939, 'stronger': 2940, 'stood': 2941, 'mafia': 2942, 'dawson': 2943, 'kubrick': 2944, 'gate': 2945, 'mild': 2946, 'shall': 2947, 'pit': 2948, 'carrey': 2949, 'pauli': 2950, 'terri': 2951, 'outcom': 2952, 'smooth': 2953, 'assault': 2954, 'smash': 2955, 'easier': 2956, 'burst': 2957, 'cardboard': 2958, 'updat': 2959, 'cox': 2960, 'tag': 2961, 'fond': 2962, 'astair': 2963, 'useless': 2964, 'ian': 2965, 'bakshi': 2966, 'fist': 2967, 'melodramat': 2968, 'rex': 2969, '2002': 2970, 'increasingli': 2971, 'divers': 2972, 'vari': 2973, 'vulner': 2974, 'sketch': 2975, 'qualifi': 2976, 'resolv': 2977, 'exchang': 2978, 'samurai': 2979, 'coincid': 2980, 'conveni': 2981, 'tame': 2982, 'suspend': 2983, 'brillianc': 2984, 'blast': 2985, 'be': 2986, 'luckili': 2987, 'scratch': 2988, 'templ': 2989, 'insert': 2990, 'reynold': 2991, 'farm': 2992, 'strictli': 2993, 'nuclear': 2994, 'jami': 2995, 'hamilton': 2996, 'pin': 2997, 'ambiti': 2998, 'meat': 2999, 'seventi': 3000, 'walker': 3001, 'coach': 3002, 'soprano': 3003, 'fisher': 3004, 'matthew': 3005, 'gotta': 3006, 'butcher': 3007, 'spooki': 3008, 'closet': 3009, 'struck': 3010, 'worthless': 3011, 'convolut': 3012, 'empir': 3013, 'revers': 3014, 'grasp': 3015, 'clock': 3016, 'instantli': 3017, 'cave': 3018, 'timeless': 3019, 'eccentr': 3020, 'ninja': 3021, 'monk': 3022, 'recreat': 3023, 'joey': 3024, 'kudo': 3025, 'brosnan': 3026, 'discoveri': 3027, 'cliff': 3028, 'importantli': 3029, 'communist': 3030, 'bleak': 3031, 'gray': 3032, 'sidekick': 3033, 'evok': 3034, 'clown': 3035, 'wipe': 3036, 'declar': 3037, 'sloppi': 3038, 'inconsist': 3039, 'eighti': 3040, 'selfish': 3041, 'miracl': 3042, 'fifteen': 3043, 'seller': 3044, 'partli': 3045, 'pal': 3046, 'mitchel': 3047, 'norman': 3048, 'piano': 3049, 'psychiatrist': 3050, 'flawless': 3051, 'debat': 3052, 'websit': 3053, '45': 3054, 'enthusiast': 3055, 'farc': 3056, 'ho': 3057, 'chew': 3058, 'aforement': 3059, 'seed': 3060, 'superbl': 3061, 'destin': 3062, 'cheek': 3063, 'stoog': 3064, 'australia': 3065, 'lifestyl': 3066, 'soviet': 3067, 'bash': 3068, 'pressur': 3069, 'drivel': 3070, 'wrestl': 3071, 'directori': 3072, 'abc': 3073, 'akshay': 3074, 'wick': 3075, 'kitchen': 3076, 'dash': 3077, 'incompet': 3078, 'emili': 3079, 'dire': 3080, 'slice': 3081, 'anni': 3082, 'regardless': 3083, 'splatter': 3084, 'seduc': 3085, 'suppli': 3086, 'ken': 3087, 'boil': 3088, 'increas': 3089, 'glow': 3090, 'jar': 3091, 'flower': 3092, 'cameron': 3093, 'blob': 3094, 'dave': 3095, 'recov': 3096, 'doo': 3097, 'duo': 3098, 'pleasantli': 3099, 'helicopt': 3100, 'prize': 3101, 'distant': 3102, 'curios': 3103, 'artifici': 3104, 'chapter': 3105, 'beaten': 3106, 'judi': 3107, 'mann': 3108, 'lou': 3109, 'cia': 3110, 'cagney': 3111, 'craig': 3112, 'favour': 3113, 'psychot': 3114, 'laurel': 3115, 'glenn': 3116, 'panic': 3117, 'craven': 3118, 'eleg': 3119, 'combat': 3120, 'ellen': 3121, 'turner': 3122, 'web': 3123, 'splendid': 3124, 'drunken': 3125, 'goldberg': 3126, 'hop': 3127, 'francisco': 3128, 'perri': 3129, 'ranger': 3130, 'falk': 3131, 'shortli': 3132, 'slightest': 3133, 'gentl': 3134, 'wizard': 3135, 'rid': 3136, 'greek': 3137, 'alexand': 3138, 'ruth': 3139, 'hatr': 3140, 'plausibl': 3141, 'fx': 3142, 'flip': 3143, 'graduat': 3144, 'min': 3145, 'philosophi': 3146, 'gandhi': 3147, '20th': 3148, 'modesti': 3149, 'harm': 3150, 'fund': 3151, 'preciou': 3152, 'legal': 3153, 'we': 3154, 'felix': 3155, 'ocean': 3156, 'holi': 3157, 'tall': 3158, 'dracula': 3159, 'manhattan': 3160, 'lend': 3161, 'jealou': 3162, 'unpleas': 3163, 'futurist': 3164, 'knight': 3165, 'digniti': 3166, 'scientif': 3167, 'ami': 3168, 'tank': 3169, 'mock': 3170, 'childish': 3171, 'bless': 3172, 'nod': 3173, 'overdon': 3174, 'explicit': 3175, 'forbidden': 3176, 'thread': 3177, 'reviv': 3178, 'giallo': 3179, 'margaret': 3180, 'awaken': 3181, 'unwatch': 3182, 'mel': 3183, 'nerv': 3184, 'repeatedli': 3185, 'yesterday': 3186, '99': 3187, 'awe': 3188, 'broad': 3189, 'thick': 3190, 'torment': 3191, 'pirat': 3192, 'elderli': 3193, 'eve': 3194, 'verhoeven': 3195, '2004': 3196, 'fever': 3197, 'bin': 3198, 'royal': 3199, 'griffith': 3200, 'politician': 3201, 'absenc': 3202, 'rivet': 3203, 'eas': 3204, 'automat': 3205, 'ah': 3206, 'ambit': 3207, 'uniform': 3208, 'acclaim': 3209, 'stiller': 3210, 'launch': 3211, 'kay': 3212, 'publish': 3213, 'custom': 3214, 'lean': 3215, 'timothi': 3216, 'romero': 3217, 'roman': 3218, 'darker': 3219, 'warren': 3220, 'tomato': 3221, 'pulp': 3222, 'bathroom': 3223, 'termin': 3224, 'transport': 3225, 'antic': 3226, 'sunshin': 3227, 'homicid': 3228, 'purpl': 3229, 'wallac': 3230, 'pierc': 3231, 'gabriel': 3232, 'stinker': 3233, 'crook': 3234, 'foul': 3235, 'phrase': 3236, 'li': 3237, 'viciou': 3238, 'revolutionari': 3239, 'album': 3240, 'ought': 3241, 'juvenil': 3242, 'horrid': 3243, '2003': 3244, 'choreographi': 3245, 'marin': 3246, 'packag': 3247, 'pray': 3248, 'brazil': 3249, 'q': 3250, 'coloni': 3251, 'saint': 3252, 'prom': 3253, 'sixti': 3254, 'donna': 3255, 'rambo': 3256, 'kenneth': 3257, 'evolv': 3258, 'awak': 3259, 'contrari': 3260, 'karen': 3261, 'hollow': 3262, 'eyr': 3263, 'twelv': 3264, 'boast': 3265, 'blade': 3266, 'dose': 3267, 'kapoor': 3268, 'option': 3269, 'ireland': 3270, 'overr': 3271, 'stole': 3272, 'defi': 3273, 'mildr': 3274, 'conserv': 3275, 'nerd': 3276, 'candid': 3277, 'ramon': 3278, 'beatti': 3279, 'mummi': 3280, 'protest': 3281, 'jazz': 3282, 'confirm': 3283, 'detract': 3284, 'altman': 3285, 'collabor': 3286, 'funer': 3287, 'natali': 3288, 'astonish': 3289, 'global': 3290, 'flame': 3291, 'fulci': 3292, 'trio': 3293, 'kirk': 3294, 'tommi': 3295, 'whip': 3296, 'mystic': 3297, 'destini': 3298, 'yellow': 3299, 'spit': 3300, 'bottl': 3301, 'enterpris': 3302, 'nicholson': 3303, 'bull': 3304, 'leap': 3305, 'shade': 3306, 'racial': 3307, 'audio': 3308, 'blake': 3309, 'delici': 3310, 'staff': 3311, 'altogeth': 3312, 'fonda': 3313, 'todd': 3314, 'visibl': 3315, 'enchant': 3316, 'meaningless': 3317, 'pseudo': 3318, 'harder': 3319, 'reunit': 3320, 'merci': 3321, 'bedroom': 3322, 'adolesc': 3323, 'neo': 3324, 'vivid': 3325, 'inherit': 3326, 'threw': 3327, 'swedish': 3328, 'popcorn': 3329, 'kennedi': 3330, 'ruthless': 3331, 'lawrenc': 3332, 'lemmon': 3333, 'roommat': 3334, 'uneven': 3335, 'moodi': 3336, 'jew': 3337, 'fanat': 3338, 'wire': 3339, 'leonard': 3340, 'befriend': 3341, 'bust': 3342, 'reserv': 3343, 'suspici': 3344, 'synopsi': 3345, 'crocodil': 3346, 'respond': 3347, 'atlanti': 3348, 'decor': 3349, 'exhibit': 3350, 'tip': 3351, 'voight': 3352, 'await': 3353, 'madonna': 3354, 'edi': 3355, 'unsettl': 3356, '2007': 3357, 'audit': 3358, 'chao': 3359, 'clint': 3360, 'incident': 3361, 'dimens': 3362, 'ventur': 3363, 'clumsi': 3364, 'bargain': 3365, 'rural': 3366, 'voyag': 3367, 'carl': 3368, 'centr': 3369, 'bold': 3370, 'holli': 3371, 'abysm': 3372, 'garner': 3373, 'bradi': 3374, 'palma': 3375, 'elimin': 3376, 'lit': 3377, 'timon': 3378, 'neglect': 3379, 'imperson': 3380, 'tiger': 3381, '2nd': 3382, 'characterist': 3383, 'cd': 3384, 'hart': 3385, 'humili': 3386, 'trail': 3387, 'poetic': 3388, 'wealth': 3389, 'nearbi': 3390, 'daddi': 3391, 'acknowledg': 3392, 'mall': 3393, 'echo': 3394, 'cari': 3395, 'troop': 3396, 'immigr': 3397, 'versu': 3398, 'cuba': 3399, 'ant': 3400, 'paus': 3401, 'jeffrey': 3402, 'domest': 3403, 'pun': 3404, 'saga': 3405, 'collaps': 3406, 'mickey': 3407, 'mistaken': 3408, 'homer': 3409, 'celluloid': 3410, 'solo': 3411, 'marshal': 3412, 'prejudic': 3413, 'repuls': 3414, 'infect': 3415, 'apolog': 3416, 'hbo': 3417, 'leon': 3418, 'cake': 3419, 'interrupt': 3420, 'promin': 3421, 'harvey': 3422, 'chest': 3423, 'ginger': 3424, 'tribe': 3425, '1996': 3426, 'inan': 3427, 'olivi': 3428, 'sore': 3429, 'coffe': 3430, 'equip': 3431, 'assembl': 3432, 'gear': 3433, 'inappropri': 3434, 'milk': 3435, 'undoubtedli': 3436, 'coat': 3437, 'pant': 3438, 'devast': 3439, 'institut': 3440, 'colonel': 3441, 'highest': 3442, 'consum': 3443, 'vulgar': 3444, 'solut': 3445, 'instant': 3446, 'embrac': 3447, 'furthermor': 3448, 'primari': 3449, 'maggi': 3450, 'jenni': 3451, 'airplan': 3452, 'polanski': 3453, 'colleagu': 3454, 'exot': 3455, 'brooklyn': 3456, 'retain': 3457, 'humbl': 3458, 'pot': 3459, 'trace': 3460, 'aveng': 3461, 'pen': 3462, 'florida': 3463, 'principl': 3464, 'gender': 3465, 'dutch': 3466, 'sale': 3467, 'wive': 3468, 'linda': 3469, 'descend': 3470, 'outer': 3471, 'rick': 3472, 'cope': 3473, 'dian': 3474, 'bowl': 3475, '1999': 3476, 'seduct': 3477, 'ya': 3478, 'illog': 3479, 'smaller': 3480, 'poke': 3481, 'disabl': 3482, 'strain': 3483, '3rd': 3484, 'godzilla': 3485, 'cue': 3486, 'blatant': 3487, 'dud': 3488, 'beneath': 3489, 'inferior': 3490, 'lol': 3491, 'secondli': 3492, 'primarili': 3493, 'scope': 3494, 'gundam': 3495, 'gloriou': 3496, 'mixtur': 3497, 'hal': 3498, 'vast': 3499, 'bubbl': 3500, 'predecessor': 3501, 'yard': 3502, 'devoid': 3503, 'dive': 3504, 'glamor': 3505, 'rabbit': 3506, 'countrysid': 3507, 'z': 3508, 'streep': 3509, 'simplist': 3510, 'invas': 3511, 'talki': 3512, 'trademark': 3513, 'alfr': 3514, 'april': 3515, 'alert': 3516, 'garbo': 3517, 'pearl': 3518, 'grinch': 3519, 'disjoint': 3520, 'aggress': 3521, 'arab': 3522, 'senseless': 3523, 'myer': 3524, 'hideou': 3525, 'casual': 3526, 'et': 3527, 'domino': 3528, 'museum': 3529, 'shelf': 3530, 'shirley': 3531, 'breed': 3532, 'robberi': 3533, 'rendit': 3534, 'disgrac': 3535, 'slide': 3536, 'unhappi': 3537, 'khan': 3538, 'applaud': 3539, 'loyal': 3540, 'acid': 3541, 'obtain': 3542, 'uwe': 3543, 'oz': 3544, 'mail': 3545, 'vanish': 3546, 'stack': 3547, 'sh': 3548, 'stellar': 3549, 'hopeless': 3550, 'defens': 3551, 'hardcor': 3552, 'stir': 3553, 'mayor': 3554, 'robinson': 3555, 'boom': 3556, 'illeg': 3557, 'maci': 3558, 'experiment': 3559, 'tempt': 3560, 'topless': 3561, 'counter': 3562, 'scroog': 3563, 'wont': 3564, 'recruit': 3565, 'spider': 3566, 'span': 3567, 'declin': 3568, 'psychic': 3569, 'emphasi': 3570, 'rifl': 3571, 'amanda': 3572, 'diana': 3573, 'blew': 3574, 'dismiss': 3575, 'tenant': 3576, 'incomprehens': 3577, 'dicken': 3578, 'berlin': 3579, 'soccer': 3580, 'fri': 3581, 'craze': 3582, 'grandfath': 3583, 'hartley': 3584, 'shed': 3585, 'ration': 3586, 'lumet': 3587, 'riot': 3588, 'sibl': 3589, 'resurrect': 3590, 'niro': 3591, 'ethnic': 3592, 'intim': 3593, 'trashi': 3594, 'sympath': 3595, 'wet': 3596, 'porno': 3597, 'bitch': 3598, 'goer': 3599, 'revolt': 3600, 'shaw': 3601, 'faster': 3602, 'woo': 3603, 'justin': 3604, 'parad': 3605, '00': 3606, 'immort': 3607, 'partial': 3608, 'lena': 3609, 'patriot': 3610, 'choru': 3611, 'gap': 3612, 'unreal': 3613, 'wheel': 3614, 'slick': 3615, 'hopper': 3616, 'andr': 3617, 'region': 3618, 'wendi': 3619, 'ensur': 3620, 'feminist': 3621, 'steam': 3622, 'honesti': 3623, 'biographi': 3624, 'rider': 3625, 'jonathan': 3626, 'hesit': 3627, 'dealer': 3628, 'farmer': 3629, 'ballet': 3630, 'enlighten': 3631, 'weakest': 3632, 'nephew': 3633, 'worm': 3634, 'eager': 3635, 'commend': 3636, 'mario': 3637, 'sandra': 3638, 'repress': 3639, 'morri': 3640, 'skull': 3641, 'vice': 3642, 'hung': 3643, 'prequel': 3644, 'confin': 3645, 'wore': 3646, 'victori': 3647, 'leo': 3648, 'safeti': 3649, 'blunt': 3650, 'charlott': 3651, 'owen': 3652, 'mutant': 3653, 'nostalg': 3654, 'util': 3655, 'psychopath': 3656, 'properti': 3657, 'franco': 3658, 'kingdom': 3659, 'composit': 3660, 'snap': 3661, 'similarli': 3662, 'macarthur': 3663, 'sappi': 3664, 'rope': 3665, 'bumbl': 3666, 'repli': 3667, 'pattern': 3668, 'farrel': 3669, 'dust': 3670, 'tad': 3671, '1972': 3672, 'bergman': 3673, 'nervou': 3674, 'campbel': 3675, 'acquir': 3676, 'exit': 3677, 'compens': 3678, 'snl': 3679, 'bonu': 3680, 'valuabl': 3681, 'despair': 3682, 'cg': 3683, 'rocki': 3684, 'drum': 3685, 'thru': 3686, 'strand': 3687, 'heartbreak': 3688, 'latin': 3689, 'rambl': 3690, 'whoopi': 3691, 'recycl': 3692, 'miseri': 3693, 'drain': 3694, 'compass': 3695, 'kyle': 3696, 'speci': 3697, 'deed': 3698, 'emperor': 3699, 'del': 3700, 'tail': 3701, 'bow': 3702, 'hyde': 3703, 'montana': 3704, 'dalton': 3705, 'rapist': 3706, 'gimmick': 3707, 'radic': 3708, 'downhil': 3709, 'percept': 3710, 'rotten': 3711, 'contempl': 3712, 'martian': 3713, 'bleed': 3714, 'airport': 3715, '35': 3716, 'tonight': 3717, 'roth': 3718, 'chess': 3719, 'romp': 3720, 'wacki': 3721, 'mistress': 3722, 'orson': 3723, 'oppress': 3724, 'pour': 3725, 'slug': 3726, 'da': 3727, 'gal': 3728, 'carradin': 3729, 'olli': 3730, 'champion': 3731, 'attorney': 3732, 'stilt': 3733, 'pervert': 3734, 'arguabl': 3735, 'dazzl': 3736, 'programm': 3737, 'belt': 3738, 'edgar': 3739, 'banal': 3740, 'melodi': 3741, '1983': 3742, 'arc': 3743, 'slash': 3744, 'mislead': 3745, 'taught': 3746, 'preach': 3747, 'heal': 3748, 'tackl': 3749, 'unpredict': 3750, 'paltrow': 3751, 'shelley': 3752, 'pursuit': 3753, 'tooth': 3754, 'pervers': 3755, 'vocal': 3756, 'vengeanc': 3757, 'employe': 3758, 'closest': 3759, 'passeng': 3760, 'gambl': 3761, 'maid': 3762, 'dixon': 3763, 'duval': 3764, 'tiresom': 3765, 'chicken': 3766, 'franki': 3767, 'raymond': 3768, 'plight': 3769, 'cleverli': 3770, 'orang': 3771, 'uplift': 3772, 'virginia': 3773, 'mesmer': 3774, 'sensat': 3775, 'bela': 3776, 'poem': 3777, 'rubi': 3778, 'conneri': 3779, 'marti': 3780, 'graham': 3781, 'monologu': 3782, 'bay': 3783, 'mute': 3784, 'habit': 3785, 'inject': 3786, 'gerard': 3787, 'calm': 3788, 'lundgren': 3789, '1968': 3790, 'swallow': 3791, 'suffic': 3792, 'profan': 3793, 'quarter': 3794, 'giggl': 3795, 'tube': 3796, 'outing': 3797, 'climact': 3798, 'amitabh': 3799, 'yawn': 3800, 'paranoia': 3801, 'crystal': 3802, 'clone': 3803, 'scottish': 3804, 'abraham': 3805, 'secretli': 3806, 'numb': 3807, 'whine': 3808, 'extens': 3809, 'volum': 3810, 'engross': 3811, 'convincingli': 3812, 'iran': 3813, 'sirk': 3814, 'pokemon': 3815, 'plod': 3816, 'underst': 3817, 'frankenstein': 3818, 'ethan': 3819, 'dispos': 3820, 'fed': 3821, 'lowest': 3822, 'earl': 3823, 'richardson': 3824, 'junior': 3825, 'chicago': 3826, 'meander': 3827, 'backward': 3828, 'franci': 3829, 'expand': 3830, 'taxi': 3831, 'trend': 3832, 'nichola': 3833, 'septemb': 3834, 'poetri': 3835, 'surpass': 3836, 'austen': 3837, 'spock': 3838, 'profess': 3839, 'abort': 3840, 'im': 3841, 'bend': 3842, 'linger': 3843, 'grotesqu': 3844, 'dysfunct': 3845, 'instrument': 3846, 'waitress': 3847, 'econom': 3848, 'tourist': 3849, 'sue': 3850, 'household': 3851, 'spoke': 3852, 'simplic': 3853, 'hum': 3854, 'compliment': 3855, 'greedi': 3856, 'nostalgia': 3857, 'myth': 3858, 'rubber': 3859, 'descent': 3860, 'muddl': 3861, 'cannon': 3862, 'stallon': 3863, 'der': 3864, 'literatur': 3865, 'mundan': 3866, 'lure': 3867, 'eugen': 3868, 'catchi': 3869, 'rant': 3870, 'damon': 3871, 'randi': 3872, 'june': 3873, 'map': 3874, 'mankind': 3875, 'insur': 3876, 'furi': 3877, 'louis': 3878, 'omen': 3879, 'equival': 3880, 'carel': 3881, 'coast': 3882, 'phantom': 3883, 'mortal': 3884, 'recognit': 3885, 'lang': 3886, 'flee': 3887, 'recognis': 3888, 'irrelev': 3889, 'alongsid': 3890, 'firstli': 3891, 'deaf': 3892, 'bacal': 3893, 'stale': 3894, 'occupi': 3895, 'eaten': 3896, 'dictat': 3897, 'dement': 3898, 'crucial': 3899, 'molli': 3900, 'cent': 3901, 'hello': 3902, 'phoni': 3903, 'duck': 3904, 'sissi': 3905, 'lengthi': 3906, 'newli': 3907, 'blackmail': 3908, 'drake': 3909, 'wisdom': 3910, 'bump': 3911, 'freez': 3912, 'likewis': 3913, 'distinguish': 3914, 'bike': 3915, '1973': 3916, 'buffalo': 3917, 'damm': 3918, 'daisi': 3919, 'heel': 3920, 'cyborg': 3921, 'loyalti': 3922, 'ashley': 3923, 'twilight': 3924, 'grayson': 3925, 'reign': 3926, 'onlin': 3927, 'antwon': 3928, 'dreari': 3929, 'labor': 3930, 'biko': 3931, 'rude': 3932, 'rooney': 3933, 'basketbal': 3934, 'analysi': 3935, 'butler': 3936, 'vein': 3937, 'provoc': 3938, 'barrymor': 3939, 'nineti': 3940, 'worn': 3941, 'unorigin': 3942, 'tunnel': 3943, 'chronicl': 3944, 'startl': 3945, 'inher': 3946, 'pink': 3947, 'ridden': 3948, 'proce': 3949, 'incorpor': 3950, 'interior': 3951, 'approv': 3952, 'attribut': 3953, 'baddi': 3954, 'keith': 3955, 'exposur': 3956, 'prey': 3957, 'sailor': 3958, 'emphas': 3959, 'boxer': 3960, 'millionair': 3961, 'barrel': 3962, 'meyer': 3963, 'elm': 3964, 'improvis': 3965, 'belushi': 3966, 'undeni': 3967, 'degrad': 3968, 'condemn': 3969, 'drift': 3970, 'simmon': 3971, 'robbin': 3972, 'meg': 3973, 'indiffer': 3974, 'fleet': 3975, 'walsh': 3976, 'predat': 3977, 'othello': 3978, 'stalker': 3979, 'nicol': 3980, 'carla': 3981, 'mighti': 3982, 'julian': 3983, 'er': 3984, 'bunni': 3985, 'substitut': 3986, 'hypnot': 3987, 'mormon': 3988, 'underli': 3989, 'unrel': 3990, 'novak': 3991, 'marion': 3992, 'disord': 3993, 'dolph': 3994, 'agenda': 3995, 'exquisit': 3996, 'roof': 3997, 'firm': 3998, 'lampoon': 3999, 'vital': 4000, 'shove': 4001, 'errol': 4002, 'nyc': 4003, '3d': 4004, 'reid': 4005, 'greed': 4006, 'alarm': 4007, 'warmth': 4008, 'rukh': 4009, 'edgi': 4010, 'enthusiasm': 4011, 'priceless': 4012, 'palac': 4013, 'unawar': 4014, 'watson': 4015, 'hay': 4016, 'mtv': 4017, 'alison': 4018, 'simultan': 4019, 'petti': 4020, 'testament': 4021, 'beatl': 4022, 'what': 4023, 'gestur': 4024, 'orlean': 4025, 'valentin': 4026, 'showdown': 4027, 'minimum': 4028, 'pamela': 4029, 'eastern': 4030, 'coup': 4031, '13th': 4032, 'cassidi': 4033, 'sergeant': 4034, 'profit': 4035, 'iraq': 4036, 'thompson': 4037, 'nun': 4038, 'preserv': 4039, 'israel': 4040, 'unleash': 4041, 'drip': 4042, 'peril': 4043, 'spain': 4044, 'randomli': 4045, 'peck': 4046, 'ponder': 4047, 'angela': 4048, 'campaign': 4049, 'glanc': 4050, 'session': 4051, 'championship': 4052, '1933': 4053, 'distort': 4054, 'crown': 4055, 'zizek': 4056, 'cooki': 4057, 'restrain': 4058, '1984': 4059, 'calib': 4060, 'represent': 4061, 'jan': 4062, 'bro': 4063, 'contradict': 4064, 'crow': 4065, 'gentleman': 4066, 'miyazaki': 4067, 'mon': 4068, 'unimagin': 4069, 'stake': 4070, 'crawl': 4071, 'travesti': 4072, 'perpetu': 4073, 'reson': 4074, 'stroke': 4075, 'han': 4076, 'scotland': 4077, 'rout': 4078, 'kurosawa': 4079, 'exposit': 4080, 'cream': 4081, 'regist': 4082, 'buster': 4083, 'empathi': 4084, 'sabrina': 4085, 'shootout': 4086, 'quinn': 4087, 'wig': 4088, 'brenda': 4089, 'valley': 4090, 'realm': 4091, 'climat': 4092, 'fido': 4093, 'din': 4094, 'unseen': 4095, 'spacey': 4096, '1987': 4097, 'unsatisfi': 4098, 'compromis': 4099, 'meryl': 4100, 'perceiv': 4101, 'shaki': 4102, 'abomin': 4103, 'tacki': 4104, 'wax': 4105, 'mclaglen': 4106, 'demis': 4107, 'greg': 4108, 'josh': 4109, 'pole': 4110, 'shoddi': 4111, 'delic': 4112, '1997': 4113, 'cloud': 4114, 'painter': 4115, 'businessman': 4116, 'darren': 4117, 'femm': 4118, 'pretens': 4119, 'traumat': 4120, 'stargat': 4121, 'sucker': 4122, 'fuller': 4123, 'distress': 4124, 'dana': 4125, 'warrant': 4126, 'censor': 4127, 'derang': 4128, 'passabl': 4129, 'absent': 4130, 'sammi': 4131, 'baldwin': 4132, 'monoton': 4133, 'geek': 4134, 'ross': 4135, 'ustinov': 4136, 'crawford': 4137, 'soderbergh': 4138, 'exclus': 4139, 'deceas': 4140, 'correctli': 4141, 'unravel': 4142, 'dee': 4143, 'judgment': 4144, 'clash': 4145, 'furiou': 4146, 'kumar': 4147, 'fog': 4148, '1993': 4149, 'verbal': 4150, 'wholli': 4151, 'seal': 4152, 'antonioni': 4153, 'austin': 4154, 'deniro': 4155, 'norm': 4156, 'tech': 4157, 'tarantino': 4158, 'valid': 4159, 'accuraci': 4160, 'jewel': 4161, 'primit': 4162, 'fenc': 4163, 'anchor': 4164, 'expedit': 4165, 'reluct': 4166, 'click': 4167, 'nathan': 4168, 'polici': 4169, 'uncov': 4170, 'sid': 4171, 'darn': 4172, '1995': 4173, 'slam': 4174, '2008': 4175, 'enforc': 4176, 'fabric': 4177, 'logan': 4178, 'wretch': 4179, '3000': 4180, 'seldom': 4181, 'pocket': 4182, '1971': 4183, 'crippl': 4184, 'temper': 4185, 'conduct': 4186, 'sunni': 4187, 'roller': 4188, 'sand': 4189, 'debt': 4190, 'sheet': 4191, 'dreck': 4192, 'mode': 4193, 'tax': 4194, 'unfair': 4195, 'nicola': 4196, 'patienc': 4197, 'malon': 4198, 'fart': 4199, 'sustain': 4200, 'hallucin': 4201, 'joel': 4202, 'fought': 4203, 'wang': 4204, 'behold': 4205, 'clerk': 4206, 'alec': 4207, 'shanghai': 4208, 'trait': 4209, 'murray': 4210, 'vanc': 4211, 'bake': 4212, 'ritual': 4213, 'stuart': 4214, 'exhaust': 4215, 'divid': 4216, 'isabel': 4217, 'preposter': 4218, 'runner': 4219, 'stark': 4220, 'soup': 4221, 'schedul': 4222, 'shell': 4223, 'preston': 4224, 'scriptwrit': 4225, 'despis': 4226, 'helpless': 4227, 'fundament': 4228, 'grief': 4229, 'outlin': 4230, 'sweep': 4231, 'robber': 4232, 'penni': 4233, 'tactic': 4234, 'squad': 4235, 'bias': 4236, 'critiqu': 4237, 'technicolor': 4238, 'guitar': 4239, 'pete': 4240, 'legaci': 4241, 'bridget': 4242, 'canyon': 4243, 'clau': 4244, 'conscious': 4245, 'rita': 4246, 'phil': 4247, 'agenc': 4248, 'newman': 4249, 'vomit': 4250, 'palanc': 4251, 'inabl': 4252, 'cigarett': 4253, 'boyl': 4254, 'jacket': 4255, 'drove': 4256, 'unexpectedli': 4257, 'propos': 4258, 'passag': 4259, 'invad': 4260, 'lacklust': 4261, 'rehash': 4262, 'delv': 4263, 'jodi': 4264, 'russia': 4265, 'sugar': 4266, 'restrict': 4267, 'alicia': 4268, 'rear': 4269, 'marc': 4270, 'flair': 4271, 'alley': 4272, 'liberti': 4273, 'connor': 4274, 'sniper': 4275, 'culmin': 4276, 'kansa': 4277, 'implic': 4278, 'gregori': 4279, 'bloom': 4280, 'downey': 4281, 'consciou': 4282, 'sentinel': 4283, 'tendenc': 4284, 'behaviour': 4285, 'asylum': 4286, 'aesthet': 4287, 'rod': 4288, 'foxx': 4289, 'tripe': 4290, 'chainsaw': 4291, '22': 4292, 'ladder': 4293, 'cap': 4294, '1936': 4295, 'horn': 4296, 'arrow': 4297, 'vet': 4298, 'pale': 4299, 'rampag': 4300, 'awhil': 4301, 'lush': 4302, 'improb': 4303, 'wrench': 4304, 'sharon': 4305, 'rehears': 4306, 'karl': 4307, 'kolchak': 4308, 'mccoy': 4309, 'feat': 4310, 'delet': 4311, 'bacon': 4312, 'yeti': 4313, '1988': 4314, 'sung': 4315, 'weav': 4316, 'fright': 4317, 'wildli': 4318, '19th': 4319, 'aristocrat': 4320, 'suffici': 4321, 'tasteless': 4322, 'suspicion': 4323, 'elit': 4324, 'hulk': 4325, 'paramount': 4326, 'prank': 4327, 'globe': 4328, 'rumor': 4329, 'coaster': 4330, 'financ': 4331, 'newcom': 4332, 'loneli': 4333, 'filler': 4334, 'stream': 4335, '1978': 4336, 'scoop': 4337, '1920': 4338, 'hungri': 4339, 'paradis': 4340, 'shortcom': 4341, 'visitor': 4342, 'wagner': 4343, 'hackney': 4344, 'underneath': 4345, 'conscienc': 4346, 'basing': 4347, 'minu': 4348, 'lurk': 4349, 'spice': 4350, 'tomorrow': 4351, 'el': 4352, 'rhythm': 4353, 'amazon': 4354, 'thunderbird': 4355, 'immers': 4356, 'impos': 4357, 'heist': 4358, 'minist': 4359, 'lectur': 4360, 'ingeni': 4361, 'rub': 4362, 'worship': 4363, 'abrupt': 4364, 'cancer': 4365, 'choppi': 4366, 'smell': 4367, 'bread': 4368, 'atroc': 4369, 'secondari': 4370, 'brit': 4371, 'posey': 4372, 'hopkin': 4373, 'penn': 4374, 'en': 4375, 'inmat': 4376, '1939': 4377, 'dirt': 4378, 'leigh': 4379, 'springer': 4380, 'recogniz': 4381, 'ram': 4382, 'literari': 4383, 'counterpart': 4384, 'naughti': 4385, 'couch': 4386, 'quietli': 4387, 'curli': 4388, '1989': 4389, 'iv': 4390, 'beverli': 4391, 'tierney': 4392, 'straightforward': 4393, '75': 4394, 'wwe': 4395, 'teas': 4396, 'chamberlain': 4397, 'standout': 4398, 'chavez': 4399, 'paxton': 4400, 'entranc': 4401, 'grudg': 4402, 'nemesi': 4403, 'transcend': 4404, 'yearn': 4405, 'convert': 4406, 'misguid': 4407, 'moreov': 4408, 'duel': 4409, 'injuri': 4410, 'bernard': 4411, 'net': 4412, 'skeptic': 4413, 'ratso': 4414, 'policeman': 4415, 'entitl': 4416, 'lindsay': 4417, 'morbid': 4418, 'laurenc': 4419, 'sassi': 4420, '1986': 4421, 'watcher': 4422, 'heartfelt': 4423, 'quaid': 4424, 'variat': 4425, 'enthral': 4426, 'ace': 4427, 'cattl': 4428, 'missil': 4429, 'nolan': 4430, 'geni': 4431, 'attenborough': 4432, 'sublim': 4433, 'esther': 4434, 'clan': 4435, 'spiral': 4436, 'rosemari': 4437, 'steadi': 4438, 'reliabl': 4439, 'graini': 4440, 'hopelessli': 4441, 'tyler': 4442, 'poe': 4443, 'diari': 4444, 'dont': 4445, 'setup': 4446, 'kitti': 4447, 'mytholog': 4448, 'hk': 4449, 'egg': 4450, 'characteris': 4451, 'enabl': 4452, 'moder': 4453, 'out': 4454, 'buzz': 4455, 'kidman': 4456, 'cruelti': 4457, 'brood': 4458, 'bean': 4459, 'puppi': 4460, 'unexplain': 4461, 'obstacl': 4462, '1979': 4463, 'facil': 4464, 'uncut': 4465, 'bye': 4466, 'grin': 4467, 'vader': 4468, 'artsi': 4469, 'youngest': 4470, 'carlito': 4471, 'exterior': 4472, 'underworld': 4473, 'athlet': 4474, 'decept': 4475, 'gina': 4476, 'christin': 4477, 'bewar': 4478, '1969': 4479, 'fuel': 4480, 'hain': 4481, 'baffl': 4482, 'effici': 4483, 'hammi': 4484, 'martha': 4485, 'niec': 4486, 'despic': 4487, 'bronson': 4488, 'acquaint': 4489, 'spontan': 4490, 'bounc': 4491, 'preming': 4492, 'heap': 4493, 'weather': 4494, 'brendan': 4495, 'clueless': 4496, 'kline': 4497, 'gillian': 4498, 'oblig': 4499, 'narrow': 4500, 'patricia': 4501, 'disastr': 4502, 'sweat': 4503, 'dilemma': 4504, 'analyz': 4505, 'dandi': 4506, 'hepburn': 4507, 'housewif': 4508, 'scar': 4509, 'shatter': 4510, 'viewpoint': 4511, 'outlaw': 4512, 'insipid': 4513, 'sooner': 4514, 'circu': 4515, 'headach': 4516, 'mayhem': 4517, '19': 4518, 'fontain': 4519, 'injur': 4520, 'renaiss': 4521, 'loi': 4522, 'angst': 4523, 'suprem': 4524, 'biker': 4525, 'tick': 4526, 'goof': 4527, 'astound': 4528, 'loath': 4529, 'trigger': 4530, 'virtu': 4531, 'uh': 4532, '73': 4533, 'candl': 4534, 'preachi': 4535, 'harmless': 4536, 'mermaid': 4537, 'rome': 4538, 'lester': 4539, 'taboo': 4540, 'sleepwalk': 4541, 'enlist': 4542, 'overlong': 4543, 'surgeri': 4544, 'boston': 4545, 'bent': 4546, 'amor': 4547, 'phenomenon': 4548, 'cassavet': 4549, 'redund': 4550, 'oldest': 4551, 'fluff': 4552, 'foolish': 4553, 'contempt': 4554, 'sox': 4555, 'claustrophob': 4556, 'slimi': 4557, 'immatur': 4558, 'steer': 4559, 'dismal': 4560, 'dish': 4561, 'hokey': 4562, 'ebert': 4563, 'hostag': 4564, 'stimul': 4565, 'macho': 4566, 'hooker': 4567, 'stair': 4568, 'idol': 4569, 'glorifi': 4570, 'intric': 4571, 'whore': 4572, 'zoom': 4573, 'camcord': 4574, 'tripl': 4575, 'corbett': 4576, 'gere': 4577, 'ariel': 4578, 'filth': 4579, 'salt': 4580, 'guin': 4581, 'spade': 4582, 'scorses': 4583, 'remad': 4584, 'cush': 4585, 'transplant': 4586, 'fascist': 4587, 'radiat': 4588, 'dwarf': 4589, 'zane': 4590, 'widescreen': 4591, 'rhyme': 4592, 'conquer': 4593, 'mount': 4594, 'frantic': 4595, 'faint': 4596, 'schlock': 4597, 'astronaut': 4598, 'nolt': 4599, 'shield': 4600, 'margin': 4601, 'strongest': 4602, 'muscl': 4603, 'down': 4604, 'mutual': 4605, 'preced': 4606, 'spinal': 4607, 'obligatori': 4608, 'gabl': 4609, 'cohen': 4610, 'cow': 4611, 'flag': 4612, 'proport': 4613, 'spree': 4614, 'messi': 4615, 'flashi': 4616, 'gasp': 4617, 'antagonist': 4618, 'harold': 4619, 'assert': 4620, 'corman': 4621, 'joker': 4622, '1981': 4623, 'alvin': 4624, 'trivia': 4625, 'perman': 4626, '1976': 4627, 'keen': 4628, 'shred': 4629, 'flirt': 4630, 'beard': 4631, 'naschi': 4632, 'hara': 4633, 'repris': 4634, 'someday': 4635, 'carey': 4636, 'wield': 4637, 'neurot': 4638, '28': 4639, 'boob': 4640, 'strive': 4641, 'flock': 4642, 'interestingli': 4643, 'persuad': 4644, 'info': 4645, 'sensual': 4646, 'vaniti': 4647, 'instruct': 4648, 'scandal': 4649, 'www': 4650, 'triangl': 4651, 'brush': 4652, 'bitten': 4653, 'mobil': 4654, 'ritchi': 4655, 'archiv': 4656, 'bachelor': 4657, 'fishburn': 4658, '95': 4659, 'off': 4660, 'raj': 4661, 'barn': 4662, 'deer': 4663, 'inflict': 4664, 'claud': 4665, 'discern': 4666, '1945': 4667, 'mol': 4668, 'danish': 4669, 'divin': 4670, 'aborigin': 4671, 'departur': 4672, 'resum': 4673, 'prophet': 4674, 'harrison': 4675, 'earnest': 4676, 'anton': 4677, 'hug': 4678, 'dim': 4679, 'fragil': 4680, 'axe': 4681, 'dylan': 4682, 'colin': 4683, 'cb': 4684, 'undermin': 4685, 'hilar': 4686, 'vibrant': 4687, 'mobster': 4688, 'cycl': 4689, 'proclaim': 4690, 'artwork': 4691, 'submit': 4692, 'frontier': 4693, 'senior': 4694, 'melissa': 4695, 'jade': 4696, 'dame': 4697, 'cliffhang': 4698, 'recit': 4699, 'parson': 4700, 'helm': 4701, 'pixar': 4702, 'neill': 4703, 'europa': 4704, 'biblic': 4705, 'ish': 4706, 'clad': 4707, 'kathryn': 4708, 'carlo': 4709, 'traffic': 4710, 'heartwarm': 4711, 'loretta': 4712, 'luka': 4713, 'rot': 4714, 'timberlak': 4715, 'miracul': 4716, 'wendigo': 4717, 'bate': 4718, 'cher': 4719, 'hapless': 4720, 'casino': 4721, 'banter': 4722, 'pickford': 4723, 'pacif': 4724, 'misfortun': 4725, 'nope': 4726, 'northern': 4727, 'sicken': 4728, 'breakfast': 4729, 'isra': 4730, 'wardrob': 4731, 'razor': 4732, 'electron': 4733, 'seedi': 4734, 'choke': 4735, 'feast': 4736, 'flavor': 4737, 'articl': 4738, 'vanessa': 4739, 'http': 4740, 'bondag': 4741, 'bikini': 4742, 'eli': 4743, 'uma': 4744, 'static': 4745, 'illus': 4746, 'vile': 4747, 'antholog': 4748, 'blatantli': 4749, 'redneck': 4750, 'akin': 4751, 'jo': 4752, 'trier': 4753, 'rooki': 4754, 'orphan': 4755, 'holocaust': 4756, 'milo': 4757, 'mathieu': 4758, 'legitim': 4759, 'winchest': 4760, 'venom': 4761, 'aris': 4762, 'cerebr': 4763, 'toronto': 4764, 'estrang': 4765, 'jordan': 4766, 'token': 4767, 'pc': 4768, 'marlon': 4769, 'shepherd': 4770, 'lucil': 4771, 'mason': 4772, 'foil': 4773, 'alexandr': 4774, 'lui': 4775, 'affleck': 4776, 'ideolog': 4777, 'howl': 4778, 'feminin': 4779, 'cartoonish': 4780, 'boyer': 4781, 'outdat': 4782, 'deem': 4783, 'oppon': 4784, 'gilbert': 4785, 'clinic': 4786, 'retriev': 4787, 'psych': 4788, 'highway': 4789, 'charlton': 4790, 'frog': 4791, 'audrey': 4792, 'tack': 4793, 'knightley': 4794, 'linear': 4795, 'wrestler': 4796, 'ceremoni': 4797, 'dudley': 4798, 'smack': 4799, 'abund': 4800, 'glare': 4801, 'peer': 4802, 'magician': 4803, 'disregard': 4804, 'swept': 4805, 'styliz': 4806, 'leather': 4807, 'huston': 4808, 'turd': 4809, 'comprehend': 4810, 'shorter': 4811, 'fifth': 4812, 'nightclub': 4813, 'gunga': 4814, 'monument': 4815, 'cemeteri': 4816, 'phenomen': 4817, 'energet': 4818, 'spine': 4819, 'compris': 4820, '4th': 4821, 'durat': 4822, 'toe': 4823, 'braveheart': 4824, 'salman': 4825, 'greet': 4826, 'client': 4827, 'lighter': 4828, 'spawn': 4829, 'einstein': 4830, 'bastard': 4831, 'lifeless': 4832, 'summar': 4833, 'tara': 4834, 'mitch': 4835, 'potter': 4836, 'uniformli': 4837, '1991': 4838, 'lavish': 4839, 'btw': 4840, 'newer': 4841, 'cuban': 4842, 'sleaz': 4843, 'plate': 4844, 'breakdown': 4845, 'moe': 4846, 'evolut': 4847, 'deliver': 4848, 'corn': 4849, 'senat': 4850, 'whack': 4851, 'goldsworthi': 4852, '1994': 4853, 'chip': 4854, 'snatch': 4855, 'conrad': 4856, 'boo': 4857, 'collector': 4858, 'bogu': 4859, 'constitut': 4860, 'belli': 4861, 'firmli': 4862, 'historian': 4863, 'bulk': 4864, 'trauma': 4865, 'bori': 4866, 'appl': 4867, 'armstrong': 4868, 'randolph': 4869, 'mcqueen': 4870, 'sorrow': 4871, 'undertak': 4872, 'nina': 4873, 'embark': 4874, 'jare': 4875, 'liu': 4876, 'lex': 4877, 'kent': 4878, 'wtf': 4879, 'ol': 4880, 'alleg': 4881, 'signal': 4882, '1974': 4883, 'eleven': 4884, 'judd': 4885, 'ie': 4886, 'evelyn': 4887, 'spectacl': 4888, 'jam': 4889, 'occup': 4890, 'neatli': 4891, 'gilliam': 4892, 'pronounc': 4893, 'clara': 4894, '1977': 4895, 'kazan': 4896, 'undead': 4897, 'outright': 4898, 'jule': 4899, 'healthi': 4900, 'replay': 4901, 'cecil': 4902, 'luxuri': 4903, 'creek': 4904, 'inaccuraci': 4905, 'capot': 4906, 'fluid': 4907, 'jedi': 4908, 'galaxi': 4909, 'fruit': 4910, 'roar': 4911, 'conan': 4912, 'sidewalk': 4913, 'antonio': 4914, 'relentless': 4915, 'unsuspect': 4916, 'curtain': 4917, 'vain': 4918, 'subtli': 4919, 'inclus': 4920, 'palm': 4921, 'walt': 4922, 'vignett': 4923, 'kiddi': 4924, 'rosario': 4925, 'groan': 4926, 'propheci': 4927, 'decapit': 4928, 'forgiven': 4929, 'aussi': 4930, 'bait': 4931, 'paula': 4932, 'miami': 4933, 'mum': 4934, 'miniseri': 4935, 'knee': 4936, 'abound': 4937, 'pioneer': 4938, 'congratul': 4939, 'genet': 4940, 'bsg': 4941, 'lauren': 4942, 'inaccur': 4943, 'porter': 4944, 'carmen': 4945, 'meal': 4946, '1985': 4947, 'comprehens': 4948, 'goldblum': 4949, 'blur': 4950, 'truman': 4951, 'unattract': 4952, 'tokyo': 4953, 'poker': 4954, 'id': 4955, 'comb': 4956, 'spray': 4957, 'cape': 4958, 'basket': 4959, 'ash': 4960, 'pepper': 4961, 'sacrif': 4962, 'lanc': 4963, 'monti': 4964, 'bach': 4965, 'frontal': 4966, 'profil': 4967, 'scariest': 4968, 'masterson': 4969, 'scarfac': 4970, 'orchestr': 4971, 'verg': 4972, 'bravo': 4973, 'macabr': 4974, 'playboy': 4975, 'optimist': 4976, 'sparkl': 4977, 'mice': 4978, 'omin': 4979, 'substanti': 4980, 'casper': 4981, 'victorian': 4982, 'assort': 4983, 'reincarn': 4984, 'spill': 4985, 'sophi': 4986, 'dubiou': 4987, 'motorcycl': 4988, 'weaker': 4989, 'epitom': 4990, 'asset': 4991, 'modest': 4992, 'hackman': 4993, 'evan': 4994, 'jill': 4995, '21st': 4996, 'ingrid': 4997, 'growth': 4998, 'weari': 4999}\n"
     ]
    }
   ],
   "source": [
    "word_dict = build_dict(train_X)\n",
    "print(word_dict)"
   ]
  },
  {
   "cell_type": "markdown",
   "metadata": {},
   "source": [
    "**Question:** What are the five most frequently appearing (tokenized) words in the training set? Does it makes sense that these words appear frequently in the training set?"
   ]
  },
  {
   "cell_type": "markdown",
   "metadata": {},
   "source": [
    "**Answer:The top five most frequent words are movi, film, one, like and time. Yes, it makes sense. The are common words in movie review."
   ]
  },
  {
   "cell_type": "code",
   "execution_count": 13,
   "metadata": {},
   "outputs": [
    {
     "data": {
      "text/plain": [
       "['movi', 'film', 'one', 'like', 'time']"
      ]
     },
     "execution_count": 13,
     "metadata": {},
     "output_type": "execute_result"
    }
   ],
   "source": [
    "# TODO: Use this space to determine the five most frequently appearing words in the training set.\n",
    "list(word_dict.keys())[0:5]"
   ]
  },
  {
   "cell_type": "markdown",
   "metadata": {},
   "source": [
    "### Save `word_dict`\n",
    "\n",
    "Later on when we construct an endpoint which processes a submitted review we will need to make use of the `word_dict` which we have created. As such, we will save it to a file now for future use."
   ]
  },
  {
   "cell_type": "code",
   "execution_count": 14,
   "metadata": {},
   "outputs": [],
   "source": [
    "data_dir = '../data/pytorch' # The folder we will use for storing data\n",
    "if not os.path.exists(data_dir): # Make sure that the folder exists\n",
    "    os.makedirs(data_dir)"
   ]
  },
  {
   "cell_type": "code",
   "execution_count": 15,
   "metadata": {},
   "outputs": [],
   "source": [
    "with open(os.path.join(data_dir, 'word_dict.pkl'), \"wb\") as f:\n",
    "    pickle.dump(word_dict, f)"
   ]
  },
  {
   "cell_type": "markdown",
   "metadata": {},
   "source": [
    "### Transform the reviews\n",
    "\n",
    "Now that we have our word dictionary which allows us to transform the words appearing in the reviews into integers, it is time to make use of it and convert our reviews to their integer sequence representation, making sure to pad or truncate to a fixed length, which in our case is `500`."
   ]
  },
  {
   "cell_type": "code",
   "execution_count": 16,
   "metadata": {},
   "outputs": [],
   "source": [
    "def convert_and_pad(word_dict, sentence, pad=500):\n",
    "    NOWORD = 0 # We will use 0 to represent the 'no word' category\n",
    "    INFREQ = 1 # and we use 1 to represent the infrequent words, i.e., words not appearing in word_dict\n",
    "    \n",
    "    working_sentence = [NOWORD] * pad\n",
    "    \n",
    "    for word_index, word in enumerate(sentence[:pad]):\n",
    "        if word in word_dict:\n",
    "            working_sentence[word_index] = word_dict[word]\n",
    "        else:\n",
    "            working_sentence[word_index] = INFREQ\n",
    "            \n",
    "    return working_sentence, min(len(sentence), pad)\n",
    "\n",
    "def convert_and_pad_data(word_dict, data, pad=500):\n",
    "    result = []\n",
    "    lengths = []\n",
    "    \n",
    "    for sentence in data:\n",
    "        converted, leng = convert_and_pad(word_dict, sentence, pad)\n",
    "        result.append(converted)\n",
    "        lengths.append(leng)\n",
    "        \n",
    "    return np.array(result), np.array(lengths)"
   ]
  },
  {
   "cell_type": "code",
   "execution_count": 17,
   "metadata": {},
   "outputs": [],
   "source": [
    "train_X, train_X_len = convert_and_pad_data(word_dict, train_X)\n",
    "test_X, test_X_len = convert_and_pad_data(word_dict, test_X)"
   ]
  },
  {
   "cell_type": "markdown",
   "metadata": {},
   "source": [
    "As a quick check to make sure that things are working as intended, check to see what one of the reviews in the training set looks like after having been processeed. Does this look reasonable? What is the length of a review in the training set?"
   ]
  },
  {
   "cell_type": "code",
   "execution_count": 18,
   "metadata": {},
   "outputs": [
    {
     "data": {
      "text/plain": [
       "(array([[   1,    1, 1101, ...,  704, 1208,    1],\n",
       "        [   1, 1768,  704, ...,    1,    1,    1],\n",
       "        [   1, 1768,  704, ...,    1,    1, 1811],\n",
       "        ...,\n",
       "        [   1, 1768,    1, ...,    1,    1,    1],\n",
       "        [   1, 1768,  704, ...,  704, 1208,    1],\n",
       "        [   1, 1768,  704, ...,    1,    1,    1]]),\n",
       " array([500, 500, 500, ..., 500, 500, 500]))"
      ]
     },
     "execution_count": 18,
     "metadata": {},
     "output_type": "execute_result"
    }
   ],
   "source": [
    "# Use this cell to examine one of the processed reviews to make sure everything is working as intended.\n",
    "convert_and_pad_data(word_dict, data['train']['pos'], pad=500)"
   ]
  },
  {
   "cell_type": "markdown",
   "metadata": {},
   "source": [
    "**Question:** In the cells above we use the `preprocess_data` and `convert_and_pad_data` methods to process both the training and testing set. Why or why not might this be a problem?"
   ]
  },
  {
   "cell_type": "markdown",
   "metadata": {},
   "source": [
    "**Answer:preprocess_data: convert the review to words and convert_and_pad_data: convert our reviews to integer sequence and also pad list of integers to fixed length."
   ]
  },
  {
   "cell_type": "markdown",
   "metadata": {},
   "source": [
    "## Step 3: Upload the data to S3\n",
    "\n",
    "As in the XGBoost notebook, we will need to upload the training dataset to S3 in order for our training code to access it. For now we will save it locally and we will upload to S3 later on.\n",
    "\n",
    "### Save the processed training dataset locally\n",
    "\n",
    "It is important to note the format of the data that we are saving as we will need to know it when we write the training code. In our case, each row of the dataset has the form `label`, `length`, `review[500]` where `review[500]` is a sequence of `500` integers representing the words in the review."
   ]
  },
  {
   "cell_type": "code",
   "execution_count": 19,
   "metadata": {},
   "outputs": [],
   "source": [
    "import pandas as pd\n",
    "    \n",
    "pd.concat([pd.DataFrame(train_y), pd.DataFrame(train_X_len), pd.DataFrame(train_X)], axis=1) \\\n",
    "        .to_csv(os.path.join(data_dir, 'train.csv'), header=False, index=False)"
   ]
  },
  {
   "cell_type": "markdown",
   "metadata": {},
   "source": [
    "### Uploading the training data\n",
    "\n",
    "\n",
    "Next, we need to upload the training data to the SageMaker default S3 bucket so that we can provide access to it while training our model."
   ]
  },
  {
   "cell_type": "code",
   "execution_count": 20,
   "metadata": {},
   "outputs": [],
   "source": [
    "import sagemaker\n",
    "\n",
    "sagemaker_session = sagemaker.Session()\n",
    "\n",
    "bucket = sagemaker_session.default_bucket()\n",
    "prefix = 'sagemaker/sentiment_rnn'\n",
    "\n",
    "role = sagemaker.get_execution_role()"
   ]
  },
  {
   "cell_type": "code",
   "execution_count": 21,
   "metadata": {},
   "outputs": [],
   "source": [
    "input_data = sagemaker_session.upload_data(path=data_dir, bucket=bucket, key_prefix=prefix)"
   ]
  },
  {
   "cell_type": "markdown",
   "metadata": {},
   "source": [
    "**NOTE:** The cell above uploads the entire contents of our data directory. This includes the `word_dict.pkl` file. This is fortunate as we will need this later on when we create an endpoint that accepts an arbitrary review. For now, we will just take note of the fact that it resides in the data directory (and so also in the S3 training bucket) and that we will need to make sure it gets saved in the model directory."
   ]
  },
  {
   "cell_type": "markdown",
   "metadata": {},
   "source": [
    "## Step 4: Build and Train the PyTorch Model\n",
    "\n",
    "In the XGBoost notebook we discussed what a model is in the SageMaker framework. In particular, a model comprises three objects\n",
    "\n",
    " - Model Artifacts,\n",
    " - Training Code, and\n",
    " - Inference Code,\n",
    " \n",
    "each of which interact with one another. In the XGBoost example we used training and inference code that was provided by Amazon. Here we will still be using containers provided by Amazon with the added benefit of being able to include our own custom code.\n",
    "\n",
    "We will start by implementing our own neural network in PyTorch along with a training script. For the purposes of this project we have provided the necessary model object in the `model.py` file, inside of the `train` folder. You can see the provided implementation by running the cell below."
   ]
  },
  {
   "cell_type": "code",
   "execution_count": 22,
   "metadata": {},
   "outputs": [
    {
     "name": "stdout",
     "output_type": "stream",
     "text": [
      "\u001b[34mimport\u001b[39;49;00m \u001b[04m\u001b[36mtorch\u001b[39;49;00m\u001b[04m\u001b[36m.\u001b[39;49;00m\u001b[04m\u001b[36mnn\u001b[39;49;00m \u001b[34mas\u001b[39;49;00m \u001b[04m\u001b[36mnn\u001b[39;49;00m\r\n",
      "\r\n",
      "\u001b[34mclass\u001b[39;49;00m \u001b[04m\u001b[32mLSTMClassifier\u001b[39;49;00m(nn.Module):\r\n",
      "    \u001b[33m\"\"\"\u001b[39;49;00m\r\n",
      "\u001b[33m    This is the simple RNN model we will be using to perform Sentiment Analysis.\u001b[39;49;00m\r\n",
      "\u001b[33m    \"\"\"\u001b[39;49;00m\r\n",
      "\r\n",
      "    \u001b[34mdef\u001b[39;49;00m \u001b[32m__init__\u001b[39;49;00m(\u001b[36mself\u001b[39;49;00m, embedding_dim, hidden_dim, vocab_size):\r\n",
      "        \u001b[33m\"\"\"\u001b[39;49;00m\r\n",
      "\u001b[33m        Initialize the model by settingg up the various layers.\u001b[39;49;00m\r\n",
      "\u001b[33m        \"\"\"\u001b[39;49;00m\r\n",
      "        \u001b[36msuper\u001b[39;49;00m(LSTMClassifier, \u001b[36mself\u001b[39;49;00m).\u001b[32m__init__\u001b[39;49;00m()\r\n",
      "\r\n",
      "        \u001b[36mself\u001b[39;49;00m.embedding = nn.Embedding(vocab_size, embedding_dim, padding_idx=\u001b[34m0\u001b[39;49;00m)\r\n",
      "        \u001b[36mself\u001b[39;49;00m.lstm = nn.LSTM(embedding_dim, hidden_dim)\r\n",
      "        \u001b[36mself\u001b[39;49;00m.dense = nn.Linear(in_features=hidden_dim, out_features=\u001b[34m1\u001b[39;49;00m)\r\n",
      "        \u001b[36mself\u001b[39;49;00m.sig = nn.Sigmoid()\r\n",
      "        \r\n",
      "        \u001b[36mself\u001b[39;49;00m.word_dict = \u001b[34mNone\u001b[39;49;00m\r\n",
      "\r\n",
      "    \u001b[34mdef\u001b[39;49;00m \u001b[32mforward\u001b[39;49;00m(\u001b[36mself\u001b[39;49;00m, x):\r\n",
      "        \u001b[33m\"\"\"\u001b[39;49;00m\r\n",
      "\u001b[33m        Perform a forward pass of our model on some input.\u001b[39;49;00m\r\n",
      "\u001b[33m        \"\"\"\u001b[39;49;00m\r\n",
      "        x = x.t()\r\n",
      "        lengths = x[\u001b[34m0\u001b[39;49;00m,:]\r\n",
      "        reviews = x[\u001b[34m1\u001b[39;49;00m:,:]\r\n",
      "        embeds = \u001b[36mself\u001b[39;49;00m.embedding(reviews)\r\n",
      "        lstm_out, _ = \u001b[36mself\u001b[39;49;00m.lstm(embeds)\r\n",
      "        out = \u001b[36mself\u001b[39;49;00m.dense(lstm_out)\r\n",
      "        out = out[lengths - \u001b[34m1\u001b[39;49;00m, \u001b[36mrange\u001b[39;49;00m(\u001b[36mlen\u001b[39;49;00m(lengths))]\r\n",
      "        \u001b[34mreturn\u001b[39;49;00m \u001b[36mself\u001b[39;49;00m.sig(out.squeeze())\r\n"
     ]
    }
   ],
   "source": [
    "!pygmentize train/model.py"
   ]
  },
  {
   "cell_type": "markdown",
   "metadata": {},
   "source": [
    "The important takeaway from the implementation provided is that there are three parameters that we may wish to tweak to improve the performance of our model. These are the embedding dimension, the hidden dimension and the size of the vocabulary. We will likely want to make these parameters configurable in the training script so that if we wish to modify them we do not need to modify the script itself. We will see how to do this later on. To start we will write some of the training code in the notebook so that we can more easily diagnose any issues that arise.\n",
    "\n",
    "First we will load a small portion of the training data set to use as a sample. It would be very time consuming to try and train the model completely in the notebook as we do not have access to a gpu and the compute instance that we are using is not particularly powerful. However, we can work on a small bit of the data to get a feel for how our training script is behaving."
   ]
  },
  {
   "cell_type": "code",
   "execution_count": 23,
   "metadata": {},
   "outputs": [],
   "source": [
    "import torch\n",
    "import torch.utils.data\n",
    "\n",
    "# Read in only the first 250 rows\n",
    "train_sample = pd.read_csv(os.path.join(data_dir, 'train.csv'), header=None, names=None, nrows=250)\n",
    "\n",
    "# Turn the input pandas dataframe into tensors\n",
    "train_sample_y = torch.from_numpy(train_sample[[0]].values).float().squeeze()\n",
    "train_sample_X = torch.from_numpy(train_sample.drop([0], axis=1).values).long()\n",
    "\n",
    "# Build the dataset\n",
    "train_sample_ds = torch.utils.data.TensorDataset(train_sample_X, train_sample_y)\n",
    "# Build the dataloader\n",
    "train_sample_dl = torch.utils.data.DataLoader(train_sample_ds, batch_size=50)"
   ]
  },
  {
   "cell_type": "markdown",
   "metadata": {},
   "source": [
    "### (TODO) Writing the training method\n",
    "\n",
    "Next we need to write the training code itself. This should be very similar to training methods that you have written before to train PyTorch models. We will leave any difficult aspects such as model saving / loading and parameter loading until a little later."
   ]
  },
  {
   "cell_type": "code",
   "execution_count": 24,
   "metadata": {},
   "outputs": [],
   "source": [
    "def train(model, train_loader, epochs, optimizer, loss_fn, device):\n",
    "    for epoch in range(1, epochs + 1):\n",
    "        model.train()\n",
    "        total_loss = 0\n",
    "        for batch in train_loader:         \n",
    "            batch_X, batch_y = batch\n",
    "            \n",
    "            batch_X = batch_X.to(device)\n",
    "            batch_y = batch_y.to(device)\n",
    "            \n",
    "            # TODO: Complete this train method to train the model provided.\n",
    "            optimizer.zero_grad()\n",
    "            output = model(batch_X)\n",
    "            loss = loss_fn(output, batch_y)\n",
    "            loss.backward()\n",
    "            optimizer.step()\n",
    "            \n",
    "            total_loss += loss.data.item()\n",
    "        print(\"Epoch: {}, BCELoss: {}\".format(epoch, total_loss / len(train_loader)))"
   ]
  },
  {
   "cell_type": "markdown",
   "metadata": {},
   "source": [
    "Supposing we have the training method above, we will test that it is working by writing a bit of code in the notebook that executes our training method on the small sample training set that we loaded earlier. The reason for doing this in the notebook is so that we have an opportunity to fix any errors that arise early when they are easier to diagnose."
   ]
  },
  {
   "cell_type": "code",
   "execution_count": 25,
   "metadata": {},
   "outputs": [
    {
     "name": "stdout",
     "output_type": "stream",
     "text": [
      "Epoch: 1, BCELoss: 0.6914306282997131\n",
      "Epoch: 2, BCELoss: 0.6814690709114075\n",
      "Epoch: 3, BCELoss: 0.6727440237998963\n",
      "Epoch: 4, BCELoss: 0.6625963687896729\n",
      "Epoch: 5, BCELoss: 0.6495061993598938\n"
     ]
    }
   ],
   "source": [
    "import torch.optim as optim\n",
    "from train.model import LSTMClassifier\n",
    "\n",
    "device = torch.device(\"cuda\" if torch.cuda.is_available() else \"cpu\")\n",
    "model = LSTMClassifier(32, 100, 5000).to(device)\n",
    "optimizer = optim.Adam(model.parameters())\n",
    "loss_fn = torch.nn.BCELoss()\n",
    "\n",
    "train(model, train_sample_dl, 5, optimizer, loss_fn, device)"
   ]
  },
  {
   "cell_type": "markdown",
   "metadata": {},
   "source": [
    "In order to construct a PyTorch model using SageMaker we must provide SageMaker with a training script. We may optionally include a directory which will be copied to the container and from which our training code will be run. When the training container is executed it will check the uploaded directory (if there is one) for a `requirements.txt` file and install any required Python libraries, after which the training script will be run."
   ]
  },
  {
   "cell_type": "markdown",
   "metadata": {},
   "source": [
    "### (TODO) Training the model\n",
    "\n",
    "When a PyTorch model is constructed in SageMaker, an entry point must be specified. This is the Python file which will be executed when the model is trained. Inside of the `train` directory is a file called `train.py` which has been provided and which contains most of the necessary code to train our model. The only thing that is missing is the implementation of the `train()` method which you wrote earlier in this notebook.\n",
    "\n",
    "**TODO**: Copy the `train()` method written above and paste it into the `train/train.py` file where required.\n",
    "\n",
    "The way that SageMaker passes hyperparameters to the training script is by way of arguments. These arguments can then be parsed and used in the training script. To see how this is done take a look at the provided `train/train.py` file."
   ]
  },
  {
   "cell_type": "code",
   "execution_count": 28,
   "metadata": {},
   "outputs": [
    {
     "name": "stderr",
     "output_type": "stream",
     "text": [
      "train_instance_count has been renamed in sagemaker>=2.\n",
      "See: https://sagemaker.readthedocs.io/en/stable/v2.html for details.\n",
      "train_instance_type has been renamed in sagemaker>=2.\n",
      "See: https://sagemaker.readthedocs.io/en/stable/v2.html for details.\n"
     ]
    }
   ],
   "source": [
    "from sagemaker.pytorch import PyTorch\n",
    "\n",
    "estimator = PyTorch(entry_point=\"train.py\",\n",
    "                    source_dir=\"train\",\n",
    "                    role=role,\n",
    "                    py_version=\"py3\",\n",
    "                    framework_version='0.4.0',\n",
    "                    train_instance_count=1,\n",
    "                    train_instance_type='ml.p2.xlarge',\n",
    "                    hyperparameters={\n",
    "                        'epochs': 10,\n",
    "                        'hidden_dim': 200,\n",
    "                    })"
   ]
  },
  {
   "cell_type": "code",
   "execution_count": 29,
   "metadata": {},
   "outputs": [
    {
     "name": "stdout",
     "output_type": "stream",
     "text": [
      "2020-11-17 22:02:54 Starting - Starting the training job...\n",
      "2020-11-17 22:02:56 Starting - Launching requested ML instances.........\n",
      "2020-11-17 22:04:45 Starting - Preparing the instances for training.........\n",
      "2020-11-17 22:06:08 Downloading - Downloading input data...\n",
      "2020-11-17 22:06:39 Training - Downloading the training image.\u001b[34mbash: cannot set terminal process group (-1): Inappropriate ioctl for device\u001b[0m\n",
      "\u001b[34mbash: no job control in this shell\u001b[0m\n",
      "\u001b[34m2020-11-17 22:07:00,212 sagemaker-containers INFO     Imported framework sagemaker_pytorch_container.training\u001b[0m\n",
      "\u001b[34m2020-11-17 22:07:00,244 sagemaker_pytorch_container.training INFO     Block until all host DNS lookups succeed.\u001b[0m\n",
      "\u001b[34m2020-11-17 22:07:00,883 sagemaker_pytorch_container.training INFO     Invoking user training script.\u001b[0m\n",
      "\n",
      "2020-11-17 22:06:59 Training - Training image download completed. Training in progress.\u001b[34m2020-11-17 22:07:16,572 sagemaker-containers INFO     Module train does not provide a setup.py. \u001b[0m\n",
      "\u001b[34mGenerating setup.py\u001b[0m\n",
      "\u001b[34m2020-11-17 22:07:16,572 sagemaker-containers INFO     Generating setup.cfg\u001b[0m\n",
      "\u001b[34m2020-11-17 22:07:16,573 sagemaker-containers INFO     Generating MANIFEST.in\u001b[0m\n",
      "\u001b[34m2020-11-17 22:07:16,573 sagemaker-containers INFO     Installing module with the following command:\u001b[0m\n",
      "\u001b[34m/usr/bin/python -m pip install -U . -r requirements.txt\u001b[0m\n",
      "\u001b[34mProcessing /opt/ml/code\u001b[0m\n",
      "\u001b[34mCollecting pandas (from -r requirements.txt (line 1))\u001b[0m\n",
      "\u001b[34m  Downloading https://files.pythonhosted.org/packages/74/24/0cdbf8907e1e3bc5a8da03345c23cbed7044330bb8f73bb12e711a640a00/pandas-0.24.2-cp35-cp35m-manylinux1_x86_64.whl (10.0MB)\u001b[0m\n",
      "\u001b[34mCollecting numpy (from -r requirements.txt (line 2))\n",
      "  Downloading https://files.pythonhosted.org/packages/b5/36/88723426b4ff576809fec7d73594fe17a35c27f8d01f93637637a29ae25b/numpy-1.18.5-cp35-cp35m-manylinux1_x86_64.whl (19.9MB)\u001b[0m\n",
      "\u001b[34mCollecting nltk (from -r requirements.txt (line 3))\n",
      "  Downloading https://files.pythonhosted.org/packages/92/75/ce35194d8e3022203cca0d2f896dbb88689f9b3fce8e9f9cff942913519d/nltk-3.5.zip (1.4MB)\u001b[0m\n",
      "\u001b[34mCollecting beautifulsoup4 (from -r requirements.txt (line 4))\n",
      "  Downloading https://files.pythonhosted.org/packages/d1/41/e6495bd7d3781cee623ce23ea6ac73282a373088fcd0ddc809a047b18eae/beautifulsoup4-4.9.3-py3-none-any.whl (115kB)\u001b[0m\n",
      "\u001b[34mCollecting html5lib (from -r requirements.txt (line 5))\u001b[0m\n",
      "\u001b[34m  Downloading https://files.pythonhosted.org/packages/6c/dd/a834df6482147d48e225a49515aabc28974ad5a4ca3215c18a882565b028/html5lib-1.1-py2.py3-none-any.whl (112kB)\u001b[0m\n",
      "\u001b[34mCollecting pytz>=2011k (from pandas->-r requirements.txt (line 1))\n",
      "  Downloading https://files.pythonhosted.org/packages/12/f8/ff09af6ff61a3efaad5f61ba5facdf17e7722c4393f7d8a66674d2dbd29f/pytz-2020.4-py2.py3-none-any.whl (509kB)\u001b[0m\n",
      "\u001b[34mRequirement already satisfied, skipping upgrade: python-dateutil>=2.5.0 in /usr/local/lib/python3.5/dist-packages (from pandas->-r requirements.txt (line 1)) (2.7.5)\u001b[0m\n",
      "\u001b[34mRequirement already satisfied, skipping upgrade: click in /usr/local/lib/python3.5/dist-packages (from nltk->-r requirements.txt (line 3)) (7.0)\u001b[0m\n",
      "\u001b[34mCollecting joblib (from nltk->-r requirements.txt (line 3))\n",
      "  Downloading https://files.pythonhosted.org/packages/28/5c/cf6a2b65a321c4a209efcdf64c2689efae2cb62661f8f6f4bb28547cf1bf/joblib-0.14.1-py2.py3-none-any.whl (294kB)\u001b[0m\n",
      "\u001b[34mCollecting regex (from nltk->-r requirements.txt (line 3))\u001b[0m\n",
      "\u001b[34m  Downloading https://files.pythonhosted.org/packages/2e/e4/3447fed9ab29944333f48730ecff4dca92f0868c5b188d6ab2b2078e32c2/regex-2020.11.13.tar.gz (694kB)\u001b[0m\n",
      "\u001b[34mCollecting tqdm (from nltk->-r requirements.txt (line 3))\n",
      "  Downloading https://files.pythonhosted.org/packages/dc/7e/bc84ebdb47cfc1f643d026570cb24dd40c2b7a29e167ea101f1702717658/tqdm-4.52.0-py2.py3-none-any.whl (71kB)\u001b[0m\n",
      "\u001b[34mCollecting soupsieve>1.2; python_version >= \"3.0\" (from beautifulsoup4->-r requirements.txt (line 4))\n",
      "  Downloading https://files.pythonhosted.org/packages/6f/8f/457f4a5390eeae1cc3aeab89deb7724c965be841ffca6cfca9197482e470/soupsieve-2.0.1-py3-none-any.whl\u001b[0m\n",
      "\u001b[34mCollecting webencodings (from html5lib->-r requirements.txt (line 5))\n",
      "  Downloading https://files.pythonhosted.org/packages/f4/24/2a3e3df732393fed8b3ebf2ec078f05546de641fe1b667ee316ec1dcf3b7/webencodings-0.5.1-py2.py3-none-any.whl\u001b[0m\n",
      "\u001b[34mRequirement already satisfied, skipping upgrade: six>=1.9 in /usr/local/lib/python3.5/dist-packages (from html5lib->-r requirements.txt (line 5)) (1.11.0)\u001b[0m\n",
      "\u001b[34mBuilding wheels for collected packages: nltk, train, regex\n",
      "  Running setup.py bdist_wheel for nltk: started\u001b[0m\n",
      "\u001b[34m  Running setup.py bdist_wheel for nltk: finished with status 'done'\n",
      "  Stored in directory: /root/.cache/pip/wheels/ae/8c/3f/b1fe0ba04555b08b57ab52ab7f86023639a526d8bc8d384306\n",
      "  Running setup.py bdist_wheel for train: started\n",
      "  Running setup.py bdist_wheel for train: finished with status 'done'\n",
      "  Stored in directory: /tmp/pip-ephem-wheel-cache-qrfx2g5r/wheels/35/24/16/37574d11bf9bde50616c67372a334f94fa8356bc7164af8ca3\n",
      "  Running setup.py bdist_wheel for regex: started\u001b[0m\n",
      "\u001b[34m  Running setup.py bdist_wheel for regex: finished with status 'done'\n",
      "  Stored in directory: /root/.cache/pip/wheels/27/f6/66/a4243e485a0ebc73dc59033ae26c48e82526f77dbfe158ac59\u001b[0m\n",
      "\u001b[34mSuccessfully built nltk train regex\u001b[0m\n",
      "\u001b[34mInstalling collected packages: pytz, numpy, pandas, joblib, regex, tqdm, nltk, soupsieve, beautifulsoup4, webencodings, html5lib, train\n",
      "  Found existing installation: numpy 1.15.4\n",
      "    Uninstalling numpy-1.15.4:\u001b[0m\n",
      "\u001b[34m      Successfully uninstalled numpy-1.15.4\u001b[0m\n",
      "\u001b[34mSuccessfully installed beautifulsoup4-4.9.3 html5lib-1.1 joblib-0.14.1 nltk-3.5 numpy-1.18.5 pandas-0.24.2 pytz-2020.4 regex-2020.11.13 soupsieve-2.0.1 tqdm-4.52.0 train-1.0.0 webencodings-0.5.1\u001b[0m\n",
      "\u001b[34mYou are using pip version 18.1, however version 20.3b1 is available.\u001b[0m\n",
      "\u001b[34mYou should consider upgrading via the 'pip install --upgrade pip' command.\u001b[0m\n",
      "\u001b[34m2020-11-17 22:07:39,151 sagemaker-containers INFO     Invoking user script\n",
      "\u001b[0m\n",
      "\u001b[34mTraining Env:\n",
      "\u001b[0m\n",
      "\u001b[34m{\n",
      "    \"module_name\": \"train\",\n",
      "    \"output_dir\": \"/opt/ml/output\",\n",
      "    \"input_data_config\": {\n",
      "        \"training\": {\n",
      "            \"RecordWrapperType\": \"None\",\n",
      "            \"S3DistributionType\": \"FullyReplicated\",\n",
      "            \"TrainingInputMode\": \"File\"\n",
      "        }\n",
      "    },\n",
      "    \"network_interface_name\": \"eth0\",\n",
      "    \"model_dir\": \"/opt/ml/model\",\n",
      "    \"hosts\": [\n",
      "        \"algo-1\"\n",
      "    ],\n",
      "    \"user_entry_point\": \"train.py\",\n",
      "    \"input_dir\": \"/opt/ml/input\",\n",
      "    \"output_intermediate_dir\": \"/opt/ml/output/intermediate\",\n",
      "    \"framework_module\": \"sagemaker_pytorch_container.training:main\",\n",
      "    \"channel_input_dirs\": {\n",
      "        \"training\": \"/opt/ml/input/data/training\"\n",
      "    },\n",
      "    \"num_cpus\": 4,\n",
      "    \"job_name\": \"sagemaker-pytorch-2020-11-17-22-02-53-894\",\n",
      "    \"input_config_dir\": \"/opt/ml/input/config\",\n",
      "    \"num_gpus\": 1,\n",
      "    \"log_level\": 20,\n",
      "    \"hyperparameters\": {\n",
      "        \"epochs\": 10,\n",
      "        \"hidden_dim\": 200\n",
      "    },\n",
      "    \"additional_framework_parameters\": {},\n",
      "    \"current_host\": \"algo-1\",\n",
      "    \"resource_config\": {\n",
      "        \"current_host\": \"algo-1\",\n",
      "        \"network_interface_name\": \"eth0\",\n",
      "        \"hosts\": [\n",
      "            \"algo-1\"\n",
      "        ]\n",
      "    },\n",
      "    \"output_data_dir\": \"/opt/ml/output/data\",\n",
      "    \"module_dir\": \"s3://sagemaker-us-east-1-459627971690/sagemaker-pytorch-2020-11-17-22-02-53-894/source/sourcedir.tar.gz\"\u001b[0m\n",
      "\u001b[34m}\n",
      "\u001b[0m\n",
      "\u001b[34mEnvironment variables:\n",
      "\u001b[0m\n",
      "\u001b[34mSM_HP_EPOCHS=10\u001b[0m\n",
      "\u001b[34mPYTHONPATH=/usr/local/bin:/usr/lib/python35.zip:/usr/lib/python3.5:/usr/lib/python3.5/plat-x86_64-linux-gnu:/usr/lib/python3.5/lib-dynload:/usr/local/lib/python3.5/dist-packages:/usr/lib/python3/dist-packages\u001b[0m\n",
      "\u001b[34mSM_OUTPUT_DATA_DIR=/opt/ml/output/data\u001b[0m\n",
      "\u001b[34mSM_MODULE_NAME=train\u001b[0m\n",
      "\u001b[34mSM_CHANNEL_TRAINING=/opt/ml/input/data/training\u001b[0m\n",
      "\u001b[34mSM_USER_ARGS=[\"--epochs\",\"10\",\"--hidden_dim\",\"200\"]\u001b[0m\n",
      "\u001b[34mSM_NUM_CPUS=4\u001b[0m\n",
      "\u001b[34mSM_HOSTS=[\"algo-1\"]\u001b[0m\n",
      "\u001b[34mSM_HP_HIDDEN_DIM=200\u001b[0m\n",
      "\u001b[34mSM_CHANNELS=[\"training\"]\u001b[0m\n",
      "\u001b[34mSM_RESOURCE_CONFIG={\"current_host\":\"algo-1\",\"hosts\":[\"algo-1\"],\"network_interface_name\":\"eth0\"}\u001b[0m\n",
      "\u001b[34mSM_NUM_GPUS=1\u001b[0m\n",
      "\u001b[34mSM_MODEL_DIR=/opt/ml/model\u001b[0m\n",
      "\u001b[34mSM_FRAMEWORK_MODULE=sagemaker_pytorch_container.training:main\u001b[0m\n",
      "\u001b[34mSM_TRAINING_ENV={\"additional_framework_parameters\":{},\"channel_input_dirs\":{\"training\":\"/opt/ml/input/data/training\"},\"current_host\":\"algo-1\",\"framework_module\":\"sagemaker_pytorch_container.training:main\",\"hosts\":[\"algo-1\"],\"hyperparameters\":{\"epochs\":10,\"hidden_dim\":200},\"input_config_dir\":\"/opt/ml/input/config\",\"input_data_config\":{\"training\":{\"RecordWrapperType\":\"None\",\"S3DistributionType\":\"FullyReplicated\",\"TrainingInputMode\":\"File\"}},\"input_dir\":\"/opt/ml/input\",\"job_name\":\"sagemaker-pytorch-2020-11-17-22-02-53-894\",\"log_level\":20,\"model_dir\":\"/opt/ml/model\",\"module_dir\":\"s3://sagemaker-us-east-1-459627971690/sagemaker-pytorch-2020-11-17-22-02-53-894/source/sourcedir.tar.gz\",\"module_name\":\"train\",\"network_interface_name\":\"eth0\",\"num_cpus\":4,\"num_gpus\":1,\"output_data_dir\":\"/opt/ml/output/data\",\"output_dir\":\"/opt/ml/output\",\"output_intermediate_dir\":\"/opt/ml/output/intermediate\",\"resource_config\":{\"current_host\":\"algo-1\",\"hosts\":[\"algo-1\"],\"network_interface_name\":\"eth0\"},\"user_entry_point\":\"train.py\"}\u001b[0m\n",
      "\u001b[34mSM_NETWORK_INTERFACE_NAME=eth0\u001b[0m\n",
      "\u001b[34mSM_MODULE_DIR=s3://sagemaker-us-east-1-459627971690/sagemaker-pytorch-2020-11-17-22-02-53-894/source/sourcedir.tar.gz\u001b[0m\n",
      "\u001b[34mSM_LOG_LEVEL=20\u001b[0m\n",
      "\u001b[34mSM_INPUT_DATA_CONFIG={\"training\":{\"RecordWrapperType\":\"None\",\"S3DistributionType\":\"FullyReplicated\",\"TrainingInputMode\":\"File\"}}\u001b[0m\n",
      "\u001b[34mSM_CURRENT_HOST=algo-1\u001b[0m\n",
      "\u001b[34mSM_INPUT_CONFIG_DIR=/opt/ml/input/config\u001b[0m\n",
      "\u001b[34mSM_USER_ENTRY_POINT=train.py\u001b[0m\n",
      "\u001b[34mSM_FRAMEWORK_PARAMS={}\u001b[0m\n",
      "\u001b[34mSM_HPS={\"epochs\":10,\"hidden_dim\":200}\u001b[0m\n",
      "\u001b[34mSM_OUTPUT_DIR=/opt/ml/output\u001b[0m\n",
      "\u001b[34mSM_OUTPUT_INTERMEDIATE_DIR=/opt/ml/output/intermediate\u001b[0m\n",
      "\u001b[34mSM_INPUT_DIR=/opt/ml/input\n",
      "\u001b[0m\n",
      "\u001b[34mInvoking script with the following command:\n",
      "\u001b[0m\n",
      "\u001b[34m/usr/bin/python -m train --epochs 10 --hidden_dim 200\n",
      "\n",
      "\u001b[0m\n",
      "\u001b[34mUsing device cuda.\u001b[0m\n",
      "\u001b[34mGet train data loader.\u001b[0m\n"
     ]
    },
    {
     "name": "stdout",
     "output_type": "stream",
     "text": [
      "\u001b[34mModel loaded with embedding_dim 32, hidden_dim 200, vocab_size 5000.\u001b[0m\n",
      "\u001b[34mEpoch: 1, BCELoss: 0.6703583294031571\u001b[0m\n",
      "\u001b[34mEpoch: 2, BCELoss: 0.6072697907078023\u001b[0m\n",
      "\u001b[34mEpoch: 3, BCELoss: 0.5119808261491814\u001b[0m\n",
      "\u001b[34mEpoch: 4, BCELoss: 0.4346152203423636\u001b[0m\n",
      "\u001b[34mEpoch: 5, BCELoss: 0.38436384347020364\u001b[0m\n",
      "\u001b[34mEpoch: 6, BCELoss: 0.34622325702589385\u001b[0m\n",
      "\u001b[34mEpoch: 7, BCELoss: 0.3353623121368642\u001b[0m\n",
      "\u001b[34mEpoch: 8, BCELoss: 0.2995039185090941\u001b[0m\n",
      "\u001b[34mEpoch: 9, BCELoss: 0.27754475115513316\u001b[0m\n",
      "\u001b[34mEpoch: 10, BCELoss: 0.2656841548729916\u001b[0m\n",
      "\u001b[34m2020-11-17 22:10:37,884 sagemaker-containers INFO     Reporting training SUCCESS\u001b[0m\n",
      "\n",
      "2020-11-17 22:10:45 Uploading - Uploading generated training model\n",
      "2020-11-17 22:10:45 Completed - Training job completed\n",
      "Training seconds: 277\n",
      "Billable seconds: 277\n"
     ]
    }
   ],
   "source": [
    "estimator.fit({'training': input_data})"
   ]
  },
  {
   "cell_type": "markdown",
   "metadata": {},
   "source": [
    "## Step 5: Testing the model\n",
    "\n",
    "As mentioned at the top of this notebook, we will be testing this model by first deploying it and then sending the testing data to the deployed endpoint. We will do this so that we can make sure that the deployed model is working correctly.\n",
    "\n",
    "## Step 6: Deploy the model for testing\n",
    "\n",
    "Now that we have trained our model, we would like to test it to see how it performs. Currently our model takes input of the form `review_length, review[500]` where `review[500]` is a sequence of `500` integers which describe the words present in the review, encoded using `word_dict`. Fortunately for us, SageMaker provides built-in inference code for models with simple inputs such as this.\n",
    "\n",
    "There is one thing that we need to provide, however, and that is a function which loads the saved model. This function must be called `model_fn()` and takes as its only parameter a path to the directory where the model artifacts are stored. This function must also be present in the python file which we specified as the entry point. In our case the model loading function has been provided and so no changes need to be made.\n",
    "\n",
    "**NOTE**: When the built-in inference code is run it must import the `model_fn()` method from the `train.py` file. This is why the training code is wrapped in a main guard ( ie, `if __name__ == '__main__':` )\n",
    "\n",
    "Since we don't need to change anything in the code that was uploaded during training, we can simply deploy the current model as-is.\n",
    "\n",
    "**NOTE:** When deploying a model you are asking SageMaker to launch an compute instance that will wait for data to be sent to it. As a result, this compute instance will continue to run until *you* shut it down. This is important to know since the cost of a deployed endpoint depends on how long it has been running for.\n",
    "\n",
    "In other words **If you are no longer using a deployed endpoint, shut it down!**\n",
    "\n",
    "**TODO:** Deploy the trained model."
   ]
  },
  {
   "cell_type": "code",
   "execution_count": 30,
   "metadata": {},
   "outputs": [
    {
     "name": "stdout",
     "output_type": "stream",
     "text": [
      "-----------------!"
     ]
    }
   ],
   "source": [
    "# TODO: Deploy the trained model\n",
    "predictor = estimator.deploy(initial_instance_count=1, instance_type='ml.m4.xlarge')"
   ]
  },
  {
   "cell_type": "markdown",
   "metadata": {},
   "source": [
    "## Step 7 - Use the model for testing\n",
    "\n",
    "Once deployed, we can read in the test data and send it off to our deployed model to get some results. Once we collect all of the results we can determine how accurate our model is."
   ]
  },
  {
   "cell_type": "code",
   "execution_count": 31,
   "metadata": {},
   "outputs": [],
   "source": [
    "test_X = pd.concat([pd.DataFrame(test_X_len), pd.DataFrame(test_X)], axis=1)"
   ]
  },
  {
   "cell_type": "code",
   "execution_count": 32,
   "metadata": {},
   "outputs": [],
   "source": [
    "# We split the data into chunks and send each chunk seperately, accumulating the results.\n",
    "\n",
    "def predict(data, rows=512):\n",
    "    split_array = np.array_split(data, int(data.shape[0] / float(rows) + 1))\n",
    "    predictions = np.array([])\n",
    "    for array in split_array:\n",
    "        predictions = np.append(predictions, predictor.predict(array))\n",
    "    \n",
    "    return predictions"
   ]
  },
  {
   "cell_type": "code",
   "execution_count": 33,
   "metadata": {},
   "outputs": [],
   "source": [
    "predictions = predict(test_X.values)\n",
    "predictions = [round(num) for num in predictions]"
   ]
  },
  {
   "cell_type": "code",
   "execution_count": 34,
   "metadata": {},
   "outputs": [
    {
     "data": {
      "text/plain": [
       "0.86104"
      ]
     },
     "execution_count": 34,
     "metadata": {},
     "output_type": "execute_result"
    }
   ],
   "source": [
    "from sklearn.metrics import accuracy_score\n",
    "accuracy_score(test_y, predictions)"
   ]
  },
  {
   "cell_type": "markdown",
   "metadata": {},
   "source": [
    "**Question:** How does this model compare to the XGBoost model you created earlier? Why might these two models perform differently on this dataset? Which do *you* think is better for sentiment analysis?"
   ]
  },
  {
   "cell_type": "markdown",
   "metadata": {},
   "source": [
    "**Answer:I think they both perform well. Pytorch which is a deep learning can handle larger data set while XGBoost will perform very well with small data set but will likely perform poorly with larger data set. I think XGBoost perform better with this this sentiment analysis dataset because XGBoost requires lesser traing while PyTorch requires more traing to increae its accuracy"
   ]
  },
  {
   "cell_type": "markdown",
   "metadata": {},
   "source": [
    "### (TODO) More testing\n",
    "\n",
    "We now have a trained model which has been deployed and which we can send processed reviews to and which returns the predicted sentiment. However, ultimately we would like to be able to send our model an unprocessed review. That is, we would like to send the review itself as a string. For example, suppose we wish to send the following review to our model."
   ]
  },
  {
   "cell_type": "code",
   "execution_count": 35,
   "metadata": {},
   "outputs": [
    {
     "data": {
      "text/plain": [
       "'The simplest pleasures in life are the best, and this film is one of them. Combining a rather basic storyline of love and adventure this movie transcends the usual weekend fair with wit and unmitigated charm.'"
      ]
     },
     "execution_count": 35,
     "metadata": {},
     "output_type": "execute_result"
    }
   ],
   "source": [
    "test_review = 'The simplest pleasures in life are the best, and this film is one of them. Combining a rather basic storyline of love and adventure this movie transcends the usual weekend fair with wit and unmitigated charm.'\n",
    "\n",
    "test_review"
   ]
  },
  {
   "cell_type": "markdown",
   "metadata": {},
   "source": [
    "The question we now need to answer is, how do we send this review to our model?\n",
    "\n",
    "Recall in the first section of this notebook we did a bunch of data processing to the IMDb dataset. In particular, we did two specific things to the provided reviews.\n",
    " - Removed any html tags and stemmed the input\n",
    " - Encoded the review as a sequence of integers using `word_dict`\n",
    " \n",
    "In order process the review we will need to repeat these two steps.\n",
    "\n",
    "**TODO**: Using the `review_to_words` and `convert_and_pad` methods from section one, convert `test_review` into a numpy array `test_data` suitable to send to our model. Remember that our model expects input of the form `review_length, review[500]`."
   ]
  },
  {
   "cell_type": "code",
   "execution_count": 36,
   "metadata": {},
   "outputs": [],
   "source": [
    "# TODO: Convert test_review into a form usable by the model and save the results in test_data\n",
    "\n",
    "reviewWord=review_to_words(test_review)\n",
    "#reviewWord\n",
    "test_data = [np.array(convert_and_pad(word_dict,reviewWord)[0])]\n",
    "#test_data\n"
   ]
  },
  {
   "cell_type": "markdown",
   "metadata": {},
   "source": [
    "Now that we have processed the review, we can send the resulting array to our model to predict the sentiment of the review."
   ]
  },
  {
   "cell_type": "code",
   "execution_count": 37,
   "metadata": {},
   "outputs": [
    {
     "data": {
      "text/plain": [
       "array(0.5492076, dtype=float32)"
      ]
     },
     "execution_count": 37,
     "metadata": {},
     "output_type": "execute_result"
    }
   ],
   "source": [
    "predictor.predict(test_data)"
   ]
  },
  {
   "cell_type": "markdown",
   "metadata": {},
   "source": [
    "Since the return value of our model is close to `1`, we can be certain that the review we submitted is positive."
   ]
  },
  {
   "cell_type": "markdown",
   "metadata": {},
   "source": [
    "### Delete the endpoint\n",
    "\n",
    "Of course, just like in the XGBoost notebook, once we've deployed an endpoint it continues to run until we tell it to shut down. Since we are done using our endpoint for now, we can delete it."
   ]
  },
  {
   "cell_type": "code",
   "execution_count": 38,
   "metadata": {},
   "outputs": [
    {
     "name": "stderr",
     "output_type": "stream",
     "text": [
      "The function delete_endpoint is a no-op in sagemaker>=2.\n",
      "See: https://sagemaker.readthedocs.io/en/stable/v2.html for details.\n"
     ]
    }
   ],
   "source": [
    "estimator.delete_endpoint()"
   ]
  },
  {
   "cell_type": "markdown",
   "metadata": {},
   "source": [
    "## Step 6 (again) - Deploy the model for the web app\n",
    "\n",
    "Now that we know that our model is working, it's time to create some custom inference code so that we can send the model a review which has not been processed and have it determine the sentiment of the review.\n",
    "\n",
    "As we saw above, by default the estimator which we created, when deployed, will use the entry script and directory which we provided when creating the model. However, since we now wish to accept a string as input and our model expects a processed review, we need to write some custom inference code.\n",
    "\n",
    "We will store the code that we write in the `serve` directory. Provided in this directory is the `model.py` file that we used to construct our model, a `utils.py` file which contains the `review_to_words` and `convert_and_pad` pre-processing functions which we used during the initial data processing, and `predict.py`, the file which will contain our custom inference code. Note also that `requirements.txt` is present which will tell SageMaker what Python libraries are required by our custom inference code.\n",
    "\n",
    "When deploying a PyTorch model in SageMaker, you are expected to provide four functions which the SageMaker inference container will use.\n",
    " - `model_fn`: This function is the same function that we used in the training script and it tells SageMaker how to load our model.\n",
    " - `input_fn`: This function receives the raw serialized input that has been sent to the model's endpoint and its job is to de-serialize and make the input available for the inference code.\n",
    " - `output_fn`: This function takes the output of the inference code and its job is to serialize this output and return it to the caller of the model's endpoint.\n",
    " - `predict_fn`: The heart of the inference script, this is where the actual prediction is done and is the function which you will need to complete.\n",
    "\n",
    "For the simple website that we are constructing during this project, the `input_fn` and `output_fn` methods are relatively straightforward. We only require being able to accept a string as input and we expect to return a single value as output. You might imagine though that in a more complex application the input or output may be image data or some other binary data which would require some effort to serialize.\n",
    "\n",
    "### (TODO) Writing inference code\n",
    "\n",
    "Before writing our custom inference code, we will begin by taking a look at the code which has been provided."
   ]
  },
  {
   "cell_type": "code",
   "execution_count": 39,
   "metadata": {},
   "outputs": [
    {
     "name": "stdout",
     "output_type": "stream",
     "text": [
      "\u001b[34mimport\u001b[39;49;00m \u001b[04m\u001b[36margparse\u001b[39;49;00m\r\n",
      "\u001b[34mimport\u001b[39;49;00m \u001b[04m\u001b[36mjson\u001b[39;49;00m\r\n",
      "\u001b[34mimport\u001b[39;49;00m \u001b[04m\u001b[36mos\u001b[39;49;00m\r\n",
      "\u001b[34mimport\u001b[39;49;00m \u001b[04m\u001b[36mpickle\u001b[39;49;00m\r\n",
      "\u001b[34mimport\u001b[39;49;00m \u001b[04m\u001b[36msys\u001b[39;49;00m\r\n",
      "\u001b[34mimport\u001b[39;49;00m \u001b[04m\u001b[36msagemaker_containers\u001b[39;49;00m\r\n",
      "\u001b[34mimport\u001b[39;49;00m \u001b[04m\u001b[36mpandas\u001b[39;49;00m \u001b[34mas\u001b[39;49;00m \u001b[04m\u001b[36mpd\u001b[39;49;00m\r\n",
      "\u001b[34mimport\u001b[39;49;00m \u001b[04m\u001b[36mnumpy\u001b[39;49;00m \u001b[34mas\u001b[39;49;00m \u001b[04m\u001b[36mnp\u001b[39;49;00m\r\n",
      "\u001b[34mimport\u001b[39;49;00m \u001b[04m\u001b[36mtorch\u001b[39;49;00m\r\n",
      "\u001b[34mimport\u001b[39;49;00m \u001b[04m\u001b[36mtorch\u001b[39;49;00m\u001b[04m\u001b[36m.\u001b[39;49;00m\u001b[04m\u001b[36mnn\u001b[39;49;00m \u001b[34mas\u001b[39;49;00m \u001b[04m\u001b[36mnn\u001b[39;49;00m\r\n",
      "\u001b[34mimport\u001b[39;49;00m \u001b[04m\u001b[36mtorch\u001b[39;49;00m\u001b[04m\u001b[36m.\u001b[39;49;00m\u001b[04m\u001b[36moptim\u001b[39;49;00m \u001b[34mas\u001b[39;49;00m \u001b[04m\u001b[36moptim\u001b[39;49;00m\r\n",
      "\u001b[34mimport\u001b[39;49;00m \u001b[04m\u001b[36mtorch\u001b[39;49;00m\u001b[04m\u001b[36m.\u001b[39;49;00m\u001b[04m\u001b[36mutils\u001b[39;49;00m\u001b[04m\u001b[36m.\u001b[39;49;00m\u001b[04m\u001b[36mdata\u001b[39;49;00m\r\n",
      "\r\n",
      "\u001b[34mfrom\u001b[39;49;00m \u001b[04m\u001b[36mmodel\u001b[39;49;00m \u001b[34mimport\u001b[39;49;00m LSTMClassifier\r\n",
      "\r\n",
      "\u001b[34mfrom\u001b[39;49;00m \u001b[04m\u001b[36mutils\u001b[39;49;00m \u001b[34mimport\u001b[39;49;00m review_to_words, convert_and_pad\r\n",
      "\r\n",
      "\u001b[34mdef\u001b[39;49;00m \u001b[32mmodel_fn\u001b[39;49;00m(model_dir):\r\n",
      "    \u001b[33m\"\"\"Load the PyTorch model from the `model_dir` directory.\"\"\"\u001b[39;49;00m\r\n",
      "    \u001b[36mprint\u001b[39;49;00m(\u001b[33m\"\u001b[39;49;00m\u001b[33mLoading model.\u001b[39;49;00m\u001b[33m\"\u001b[39;49;00m)\r\n",
      "\r\n",
      "    \u001b[37m# First, load the parameters used to create the model.\u001b[39;49;00m\r\n",
      "    model_info = {}\r\n",
      "    model_info_path = os.path.join(model_dir, \u001b[33m'\u001b[39;49;00m\u001b[33mmodel_info.pth\u001b[39;49;00m\u001b[33m'\u001b[39;49;00m)\r\n",
      "    \u001b[34mwith\u001b[39;49;00m \u001b[36mopen\u001b[39;49;00m(model_info_path, \u001b[33m'\u001b[39;49;00m\u001b[33mrb\u001b[39;49;00m\u001b[33m'\u001b[39;49;00m) \u001b[34mas\u001b[39;49;00m f:\r\n",
      "        model_info = torch.load(f)\r\n",
      "\r\n",
      "    \u001b[36mprint\u001b[39;49;00m(\u001b[33m\"\u001b[39;49;00m\u001b[33mmodel_info: \u001b[39;49;00m\u001b[33m{}\u001b[39;49;00m\u001b[33m\"\u001b[39;49;00m.format(model_info))\r\n",
      "\r\n",
      "    \u001b[37m# Determine the device and construct the model.\u001b[39;49;00m\r\n",
      "    device = torch.device(\u001b[33m\"\u001b[39;49;00m\u001b[33mcuda\u001b[39;49;00m\u001b[33m\"\u001b[39;49;00m \u001b[34mif\u001b[39;49;00m torch.cuda.is_available() \u001b[34melse\u001b[39;49;00m \u001b[33m\"\u001b[39;49;00m\u001b[33mcpu\u001b[39;49;00m\u001b[33m\"\u001b[39;49;00m)\r\n",
      "    model = LSTMClassifier(model_info[\u001b[33m'\u001b[39;49;00m\u001b[33membedding_dim\u001b[39;49;00m\u001b[33m'\u001b[39;49;00m], model_info[\u001b[33m'\u001b[39;49;00m\u001b[33mhidden_dim\u001b[39;49;00m\u001b[33m'\u001b[39;49;00m], model_info[\u001b[33m'\u001b[39;49;00m\u001b[33mvocab_size\u001b[39;49;00m\u001b[33m'\u001b[39;49;00m])\r\n",
      "\r\n",
      "    \u001b[37m# Load the store model parameters.\u001b[39;49;00m\r\n",
      "    model_path = os.path.join(model_dir, \u001b[33m'\u001b[39;49;00m\u001b[33mmodel.pth\u001b[39;49;00m\u001b[33m'\u001b[39;49;00m)\r\n",
      "    \u001b[34mwith\u001b[39;49;00m \u001b[36mopen\u001b[39;49;00m(model_path, \u001b[33m'\u001b[39;49;00m\u001b[33mrb\u001b[39;49;00m\u001b[33m'\u001b[39;49;00m) \u001b[34mas\u001b[39;49;00m f:\r\n",
      "        model.load_state_dict(torch.load(f))\r\n",
      "\r\n",
      "    \u001b[37m# Load the saved word_dict.\u001b[39;49;00m\r\n",
      "    word_dict_path = os.path.join(model_dir, \u001b[33m'\u001b[39;49;00m\u001b[33mword_dict.pkl\u001b[39;49;00m\u001b[33m'\u001b[39;49;00m)\r\n",
      "    \u001b[34mwith\u001b[39;49;00m \u001b[36mopen\u001b[39;49;00m(word_dict_path, \u001b[33m'\u001b[39;49;00m\u001b[33mrb\u001b[39;49;00m\u001b[33m'\u001b[39;49;00m) \u001b[34mas\u001b[39;49;00m f:\r\n",
      "        model.word_dict = pickle.load(f)\r\n",
      "\r\n",
      "    model.to(device).eval()\r\n",
      "\r\n",
      "    \u001b[36mprint\u001b[39;49;00m(\u001b[33m\"\u001b[39;49;00m\u001b[33mDone loading model.\u001b[39;49;00m\u001b[33m\"\u001b[39;49;00m)\r\n",
      "    \u001b[34mreturn\u001b[39;49;00m model\r\n",
      "\r\n",
      "\u001b[34mdef\u001b[39;49;00m \u001b[32minput_fn\u001b[39;49;00m(serialized_input_data, content_type):\r\n",
      "    \u001b[36mprint\u001b[39;49;00m(\u001b[33m'\u001b[39;49;00m\u001b[33mDeserializing the input data.\u001b[39;49;00m\u001b[33m'\u001b[39;49;00m)\r\n",
      "    \u001b[34mif\u001b[39;49;00m content_type == \u001b[33m'\u001b[39;49;00m\u001b[33mtext/plain\u001b[39;49;00m\u001b[33m'\u001b[39;49;00m:\r\n",
      "        data = serialized_input_data.decode(\u001b[33m'\u001b[39;49;00m\u001b[33mutf-8\u001b[39;49;00m\u001b[33m'\u001b[39;49;00m)\r\n",
      "        \u001b[34mreturn\u001b[39;49;00m data\r\n",
      "    \u001b[34mraise\u001b[39;49;00m \u001b[36mException\u001b[39;49;00m(\u001b[33m'\u001b[39;49;00m\u001b[33mRequested unsupported ContentType in content_type: \u001b[39;49;00m\u001b[33m'\u001b[39;49;00m + content_type)\r\n",
      "\r\n",
      "\u001b[34mdef\u001b[39;49;00m \u001b[32moutput_fn\u001b[39;49;00m(prediction_output, accept):\r\n",
      "    \u001b[36mprint\u001b[39;49;00m(\u001b[33m'\u001b[39;49;00m\u001b[33mSerializing the generated output.\u001b[39;49;00m\u001b[33m'\u001b[39;49;00m)\r\n",
      "    \u001b[34mreturn\u001b[39;49;00m \u001b[36mstr\u001b[39;49;00m(prediction_output)\r\n",
      "\r\n",
      "\u001b[34mdef\u001b[39;49;00m \u001b[32mpredict_fn\u001b[39;49;00m(input_data, model):\r\n",
      "    \u001b[36mprint\u001b[39;49;00m(\u001b[33m'\u001b[39;49;00m\u001b[33mInferring sentiment of input data.\u001b[39;49;00m\u001b[33m'\u001b[39;49;00m)\r\n",
      "\r\n",
      "    device = torch.device(\u001b[33m\"\u001b[39;49;00m\u001b[33mcuda\u001b[39;49;00m\u001b[33m\"\u001b[39;49;00m \u001b[34mif\u001b[39;49;00m torch.cuda.is_available() \u001b[34melse\u001b[39;49;00m \u001b[33m\"\u001b[39;49;00m\u001b[33mcpu\u001b[39;49;00m\u001b[33m\"\u001b[39;49;00m)\r\n",
      "    \r\n",
      "    \u001b[34mif\u001b[39;49;00m model.word_dict \u001b[35mis\u001b[39;49;00m \u001b[34mNone\u001b[39;49;00m:\r\n",
      "        \u001b[34mraise\u001b[39;49;00m \u001b[36mException\u001b[39;49;00m(\u001b[33m'\u001b[39;49;00m\u001b[33mModel has not been loaded properly, no word_dict.\u001b[39;49;00m\u001b[33m'\u001b[39;49;00m)\r\n",
      "    \r\n",
      "    \u001b[37m# TODO: Process input_data so that it is ready to be sent to our model.\u001b[39;49;00m\r\n",
      "    \u001b[37m#       You should produce two variables:\u001b[39;49;00m\r\n",
      "    \u001b[37m#         data_X   - A sequence of length 500 which represents the converted review\u001b[39;49;00m\r\n",
      "    \u001b[37m#         data_len - The length of the review\u001b[39;49;00m\r\n",
      "    words = review_to_words(input_data)\r\n",
      "\r\n",
      "    data_X, data_len = convert_and_pad(model.word_dict, words)\r\n",
      "    \u001b[37m#data_len = len(data_X)\u001b[39;49;00m\r\n",
      "\r\n",
      "    \u001b[37m# Using data_X and data_len we construct an appropriate input tensor. Remember\u001b[39;49;00m\r\n",
      "    \u001b[37m# that our model expects input data of the form 'len, review[500]'.\u001b[39;49;00m\r\n",
      "    data_pack = np.hstack((data_len, data_X))\r\n",
      "    data_pack = data_pack.reshape(\u001b[34m1\u001b[39;49;00m, -\u001b[34m1\u001b[39;49;00m)\r\n",
      "    \r\n",
      "    data = torch.from_numpy(data_pack)\r\n",
      "    data = data.to(device)\r\n",
      "\r\n",
      "    \u001b[37m# Make sure to put the model into evaluation mode\u001b[39;49;00m\r\n",
      "    model.eval()\r\n",
      "\r\n",
      "    \u001b[37m# TODO: Compute the result of applying the model to the input data. The variable `result` should\u001b[39;49;00m\r\n",
      "    \u001b[37m#       be a numpy array which contains a single integer which is either 1 or 0\u001b[39;49;00m\r\n",
      "\r\n",
      "    \u001b[34mwith\u001b[39;49;00m torch.no_grad():\r\n",
      "        output = model.forward(data)\r\n",
      "        \r\n",
      "    result = np.round(output.numpy())\r\n",
      "\r\n",
      "    \u001b[34mreturn\u001b[39;49;00m result\r\n"
     ]
    }
   ],
   "source": [
    "!pygmentize serve/predict.py"
   ]
  },
  {
   "cell_type": "markdown",
   "metadata": {},
   "source": [
    "As mentioned earlier, the `model_fn` method is the same as the one provided in the training code and the `input_fn` and `output_fn` methods are very simple and your task will be to complete the `predict_fn` method. Make sure that you save the completed file as `predict.py` in the `serve` directory.\n",
    "\n",
    "**TODO**: Complete the `predict_fn()` method in the `serve/predict.py` file."
   ]
  },
  {
   "cell_type": "markdown",
   "metadata": {},
   "source": [
    "### Deploying the model\n",
    "\n",
    "Now that the custom inference code has been written, we will create and deploy our model. To begin with, we need to construct a new PyTorchModel object which points to the model artifacts created during training and also points to the inference code that we wish to use. Then we can call the deploy method to launch the deployment container.\n",
    "\n",
    "**NOTE**: The default behaviour for a deployed PyTorch model is to assume that any input passed to the predictor is a `numpy` array. In our case we want to send a string so we need to construct a simple wrapper around the `RealTimePredictor` class to accomodate simple strings. In a more complicated situation you may want to provide a serialization object, for example if you wanted to sent image data."
   ]
  },
  {
   "cell_type": "code",
   "execution_count": 41,
   "metadata": {},
   "outputs": [
    {
     "name": "stdout",
     "output_type": "stream",
     "text": [
      "-------------------!"
     ]
    },
    {
     "name": "stderr",
     "output_type": "stream",
     "text": [
      "The class RealTimePredictor has been renamed in sagemaker>=2.\n",
      "See: https://sagemaker.readthedocs.io/en/stable/v2.html for details.\n",
      "content_type is a no-op in sagemaker>=2.\n",
      "See: https://sagemaker.readthedocs.io/en/stable/v2.html for details.\n"
     ]
    }
   ],
   "source": [
    "from sagemaker.predictor import RealTimePredictor\n",
    "from sagemaker.pytorch import PyTorchModel\n",
    "\n",
    "class StringPredictor(RealTimePredictor):\n",
    "    def __init__(self, endpoint_name, sagemaker_session):\n",
    "        super(StringPredictor, self).__init__(endpoint_name, sagemaker_session, content_type='text/plain')\n",
    "\n",
    "model = PyTorchModel(model_data=estimator.model_data,\n",
    "                     role = role,\n",
    "                     framework_version='0.4.0',\n",
    "                     entry_point='predict.py',\n",
    "                     py_version=\"py3\",\n",
    "                     source_dir='serve',\n",
    "                     predictor_cls=StringPredictor)\n",
    "predictor = model.deploy(initial_instance_count=1, instance_type='ml.m4.xlarge')"
   ]
  },
  {
   "cell_type": "markdown",
   "metadata": {},
   "source": [
    "### Testing the model\n",
    "\n",
    "Now that we have deployed our model with the custom inference code, we should test to see if everything is working. Here we test our model by loading the first `250` positive and negative reviews and send them to the endpoint, then collect the results. The reason for only sending some of the data is that the amount of time it takes for our model to process the input and then perform inference is quite long and so testing the entire data set would be prohibitive."
   ]
  },
  {
   "cell_type": "code",
   "execution_count": 44,
   "metadata": {},
   "outputs": [],
   "source": [
    "import glob\n",
    "\n",
    "def test_reviews(data_dir='../data/aclImdb', stop=250):\n",
    "    \n",
    "    results = []\n",
    "    ground = []\n",
    "    \n",
    "    # We make sure to test both positive and negative reviews    \n",
    "    for sentiment in ['pos', 'neg']:\n",
    "        \n",
    "        path = os.path.join(data_dir, 'test', sentiment, '*.txt')\n",
    "        files = glob.glob(path)\n",
    "        \n",
    "        files_read = 0\n",
    "        \n",
    "        print('Starting ', sentiment, ' files')\n",
    "        \n",
    "        # Iterate through the files and send them to the predictor\n",
    "        for f in files:\n",
    "            with open(f) as review:\n",
    "                # First, we store the ground truth (was the review positive or negative)\n",
    "                if sentiment == 'pos':\n",
    "                    ground.append(1)\n",
    "                else:\n",
    "                    ground.append(0)\n",
    "                # Read in the review and convert to 'utf-8' for transmission via HTTP\n",
    "                review_input = review.read().encode('utf-8')\n",
    "                # Send the review to the predictor and store the results\n",
    "                results.append(float(predictor.predict(review_input)))\n",
    "                \n",
    "            # Sending reviews to our endpoint one at a time takes a while so we\n",
    "            # only send a small number of reviews\n",
    "            files_read += 1\n",
    "            if files_read == stop:\n",
    "                break\n",
    "            \n",
    "    return ground, results"
   ]
  },
  {
   "cell_type": "code",
   "execution_count": null,
   "metadata": {},
   "outputs": [],
   "source": [
    "from sklearn.metrics import accuracy_score\n",
    "accuracy_score(ground, results)"
   ]
  },
  {
   "cell_type": "markdown",
   "metadata": {},
   "source": [
    "As an additional test, we can try sending the `test_review` that we looked at earlier."
   ]
  },
  {
   "cell_type": "code",
   "execution_count": null,
   "metadata": {},
   "outputs": [],
   "source": [
    "predictor.predict(test_review)"
   ]
  },
  {
   "cell_type": "markdown",
   "metadata": {},
   "source": [
    "Now that we know our endpoint is working as expected, we can set up the web page that will interact with it. If you don't have time to finish the project now, make sure to skip down to the end of this notebook and shut down your endpoint. You can deploy it again when you come back."
   ]
  },
  {
   "cell_type": "markdown",
   "metadata": {},
   "source": [
    "## Step 7 (again): Use the model for the web app\n",
    "\n",
    "> **TODO:** This entire section and the next contain tasks for you to complete, mostly using the AWS console.\n",
    "\n",
    "So far we have been accessing our model endpoint by constructing a predictor object which uses the endpoint and then just using the predictor object to perform inference. What if we wanted to create a web app which accessed our model? The way things are set up currently makes that not possible since in order to access a SageMaker endpoint the app would first have to authenticate with AWS using an IAM role which included access to SageMaker endpoints. However, there is an easier way! We just need to use some additional AWS services.\n",
    "\n",
    "<img src=\"Web App Diagram.svg\">\n",
    "\n",
    "The diagram above gives an overview of how the various services will work together. On the far right is the model which we trained above and which is deployed using SageMaker. On the far left is our web app that collects a user's movie review, sends it off and expects a positive or negative sentiment in return.\n",
    "\n",
    "In the middle is where some of the magic happens. We will construct a Lambda function, which you can think of as a straightforward Python function that can be executed whenever a specified event occurs. We will give this function permission to send and recieve data from a SageMaker endpoint.\n",
    "\n",
    "Lastly, the method we will use to execute the Lambda function is a new endpoint that we will create using API Gateway. This endpoint will be a url that listens for data to be sent to it. Once it gets some data it will pass that data on to the Lambda function and then return whatever the Lambda function returns. Essentially it will act as an interface that lets our web app communicate with the Lambda function.\n",
    "\n",
    "### Setting up a Lambda function\n",
    "\n",
    "The first thing we are going to do is set up a Lambda function. This Lambda function will be executed whenever our public API has data sent to it. When it is executed it will receive the data, perform any sort of processing that is required, send the data (the review) to the SageMaker endpoint we've created and then return the result.\n",
    "\n",
    "#### Part A: Create an IAM Role for the Lambda function\n",
    "\n",
    "Since we want the Lambda function to call a SageMaker endpoint, we need to make sure that it has permission to do so. To do this, we will construct a role that we can later give the Lambda function.\n",
    "\n",
    "Using the AWS Console, navigate to the **IAM** page and click on **Roles**. Then, click on **Create role**. Make sure that the **AWS service** is the type of trusted entity selected and choose **Lambda** as the service that will use this role, then click **Next: Permissions**.\n",
    "\n",
    "In the search box type `sagemaker` and select the check box next to the **AmazonSageMakerFullAccess** policy. Then, click on **Next: Review**.\n",
    "\n",
    "Lastly, give this role a name. Make sure you use a name that you will remember later on, for example `LambdaSageMakerRole`. Then, click on **Create role**.\n",
    "\n",
    "#### Part B: Create a Lambda function\n",
    "\n",
    "Now it is time to actually create the Lambda function.\n",
    "\n",
    "Using the AWS Console, navigate to the AWS Lambda page and click on **Create a function**. When you get to the next page, make sure that **Author from scratch** is selected. Now, name your Lambda function, using a name that you will remember later on, for example `sentiment_analysis_func`. Make sure that the **Python 3.6** runtime is selected and then choose the role that you created in the previous part. Then, click on **Create Function**.\n",
    "\n",
    "On the next page you will see some information about the Lambda function you've just created. If you scroll down you should see an editor in which you can write the code that will be executed when your Lambda function is triggered. In our example, we will use the code below. \n",
    "\n",
    "```python\n",
    "# We need to use the low-level library to interact with SageMaker since the SageMaker API\n",
    "# is not available natively through Lambda.\n",
    "import boto3\n",
    "\n",
    "def lambda_handler(event, context):\n",
    "\n",
    "    # The SageMaker runtime is what allows us to invoke the endpoint that we've created.\n",
    "    runtime = boto3.Session().client('sagemaker-runtime')\n",
    "\n",
    "    # Now we use the SageMaker runtime to invoke our endpoint, sending the review we were given\n",
    "    response = runtime.invoke_endpoint(EndpointName = '**ENDPOINT NAME HERE**',    # The name of the endpoint we created\n",
    "                                       ContentType = 'text/plain',                 # The data format that is expected\n",
    "                                       Body = event['body'])                       # The actual review\n",
    "\n",
    "    # The response is an HTTP response whose body contains the result of our inference\n",
    "    result = response['Body'].read().decode('utf-8')\n",
    "\n",
    "    return {\n",
    "        'statusCode' : 200,\n",
    "        'headers' : { 'Content-Type' : 'text/plain', 'Access-Control-Allow-Origin' : '*' },\n",
    "        'body' : result\n",
    "    }\n",
    "```\n",
    "\n",
    "Once you have copy and pasted the code above into the Lambda code editor, replace the `**ENDPOINT NAME HERE**` portion with the name of the endpoint that we deployed earlier. You can determine the name of the endpoint using the code cell below."
   ]
  },
  {
   "cell_type": "code",
   "execution_count": null,
   "metadata": {},
   "outputs": [],
   "source": [
    "predictor.endpoint"
   ]
  },
  {
   "cell_type": "markdown",
   "metadata": {},
   "source": [
    "Once you have added the endpoint name to the Lambda function, click on **Save**. Your Lambda function is now up and running. Next we need to create a way for our web app to execute the Lambda function.\n",
    "\n",
    "### Setting up API Gateway\n",
    "\n",
    "Now that our Lambda function is set up, it is time to create a new API using API Gateway that will trigger the Lambda function we have just created.\n",
    "\n",
    "Using AWS Console, navigate to **Amazon API Gateway** and then click on **Get started**.\n",
    "\n",
    "On the next page, make sure that **New API** is selected and give the new api a name, for example, `sentiment_analysis_api`. Then, click on **Create API**.\n",
    "\n",
    "Now we have created an API, however it doesn't currently do anything. What we want it to do is to trigger the Lambda function that we created earlier.\n",
    "\n",
    "Select the **Actions** dropdown menu and click **Create Method**. A new blank method will be created, select its dropdown menu and select **POST**, then click on the check mark beside it.\n",
    "\n",
    "For the integration point, make sure that **Lambda Function** is selected and click on the **Use Lambda Proxy integration**. This option makes sure that the data that is sent to the API is then sent directly to the Lambda function with no processing. It also means that the return value must be a proper response object as it will also not be processed by API Gateway.\n",
    "\n",
    "Type the name of the Lambda function you created earlier into the **Lambda Function** text entry box and then click on **Save**. Click on **OK** in the pop-up box that then appears, giving permission to API Gateway to invoke the Lambda function you created.\n",
    "\n",
    "The last step in creating the API Gateway is to select the **Actions** dropdown and click on **Deploy API**. You will need to create a new Deployment stage and name it anything you like, for example `prod`.\n",
    "\n",
    "You have now successfully set up a public API to access your SageMaker model. Make sure to copy or write down the URL provided to invoke your newly created public API as this will be needed in the next step. This URL can be found at the top of the page, highlighted in blue next to the text **Invoke URL**."
   ]
  },
  {
   "cell_type": "markdown",
   "metadata": {},
   "source": [
    "## Step 4: Deploying our web app\n",
    "\n",
    "Now that we have a publicly available API, we can start using it in a web app. For our purposes, we have provided a simple static html file which can make use of the public api you created earlier.\n",
    "\n",
    "In the `website` folder there should be a file called `index.html`. Download the file to your computer and open that file up in a text editor of your choice. There should be a line which contains **\\*\\*REPLACE WITH PUBLIC API URL\\*\\***. Replace this string with the url that you wrote down in the last step and then save the file.\n",
    "\n",
    "Now, if you open `index.html` on your local computer, your browser will behave as a local web server and you can use the provided site to interact with your SageMaker model.\n",
    "\n",
    "If you'd like to go further, you can host this html file anywhere you'd like, for example using github or hosting a static site on Amazon's S3. Once you have done this you can share the link with anyone you'd like and have them play with it too!\n",
    "\n",
    "> **Important Note** In order for the web app to communicate with the SageMaker endpoint, the endpoint has to actually be deployed and running. This means that you are paying for it. Make sure that the endpoint is running when you want to use the web app but that you shut it down when you don't need it, otherwise you will end up with a surprisingly large AWS bill.\n",
    "\n",
    "**TODO:** Make sure that you include the edited `index.html` file in your project submission."
   ]
  },
  {
   "cell_type": "markdown",
   "metadata": {},
   "source": [
    "Now that your web app is working, trying playing around with it and see how well it works.\n",
    "\n",
    "**Question**: Give an example of a review that you entered into your web app. What was the predicted sentiment of your example review?"
   ]
  },
  {
   "cell_type": "markdown",
   "metadata": {},
   "source": [
    "**Answer:Submit button is unresponsive. I was able to predict review."
   ]
  },
  {
   "cell_type": "markdown",
   "metadata": {},
   "source": [
    "### Delete the endpoint\n",
    "\n",
    "Remember to always shut down your endpoint if you are no longer using it. You are charged for the length of time that the endpoint is running so if you forget and leave it on you could end up with an unexpectedly large bill."
   ]
  },
  {
   "cell_type": "code",
   "execution_count": 64,
   "metadata": {},
   "outputs": [],
   "source": [
    "predictor.delete_endpoint()"
   ]
  },
  {
   "cell_type": "code",
   "execution_count": null,
   "metadata": {},
   "outputs": [],
   "source": []
  }
 ],
 "metadata": {
  "kernelspec": {
   "display_name": "conda_pytorch_p36",
   "language": "python",
   "name": "conda_pytorch_p36"
  },
  "language_info": {
   "codemirror_mode": {
    "name": "ipython",
    "version": 3
   },
   "file_extension": ".py",
   "mimetype": "text/x-python",
   "name": "python",
   "nbconvert_exporter": "python",
   "pygments_lexer": "ipython3",
   "version": "3.6.10"
  }
 },
 "nbformat": 4,
 "nbformat_minor": 2
}
